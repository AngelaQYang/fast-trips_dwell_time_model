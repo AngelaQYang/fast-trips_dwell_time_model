{
 "cells": [
  {
   "cell_type": "code",
   "execution_count": 1,
   "metadata": {
    "collapsed": true
   },
   "outputs": [],
   "source": [
    "import pandas as pd\n",
    "import numpy as np\n",
    "import statsmodels.formula.api as smf\n",
    "import matplotlib.pyplot as plt\n",
    "import pylab\n",
    "import glob, os\n",
    "import scipy.stats as stats\n",
    "from scipy.stats import gaussian_kde\n",
    "import sklearn\n",
    "from sklearn.linear_model import LinearRegression\n",
    "from sklearn.feature_selection import chi2\n",
    "from sklearn.metrics import r2_score\n",
    "import timeit\n",
    "%matplotlib inline"
   ]
  },
  {
   "cell_type": "code",
   "execution_count": 2,
   "metadata": {
    "collapsed": true
   },
   "outputs": [],
   "source": [
    "# Format to remove scientific notation\n",
    "pd.set_option('display.float_format', lambda x: '%.3f' % x)"
   ]
  },
  {
   "cell_type": "code",
   "execution_count": null,
   "metadata": {
    "collapsed": true
   },
   "outputs": [],
   "source": [
    "DATA_PATH = 'R:/Angela/fast_trips/KCMetro'\n",
    "FLEET = os.path.join(DATA_PATH, 'fleet_NEW.csv')\n",
    "ROUTE = os.path.join(DATA_PATH, '151AllTrips.csv')\n",
    "DATE_LIST = ['2015_04_28.csv', '2015_04_29.csv', '2015_04_30.csv', '2015_05_05.csv', '2015_05_06.csv', '2015_05_07.csv']"
   ]
  },
  {
   "cell_type": "markdown",
   "metadata": {},
   "source": [
    "# Read-in Data"
   ]
  },
  {
   "cell_type": "code",
   "execution_count": null,
   "metadata": {
    "collapsed": false
   },
   "outputs": [],
   "source": [
    "APC = {}\n",
    "i = 1\n",
    "for csv_file in DATE_LIST:\n",
    "    APC_df = pd.read_csv(os.path.join(DATA_PATH, csv_file))\n",
    "    APC_df['date_id'] = i\n",
    "    APC[i] = APC_df\n",
    "    i += 1"
   ]
  },
  {
   "cell_type": "code",
   "execution_count": null,
   "metadata": {
    "collapsed": false
   },
   "outputs": [],
   "source": [
    "for data in APC.values():\n",
    "    print len(data)"
   ]
  },
  {
   "cell_type": "markdown",
   "metadata": {},
   "source": [
    "# Get Fleet Type & Capacity Info Ready"
   ]
  },
  {
   "cell_type": "code",
   "execution_count": 6,
   "metadata": {
    "collapsed": false
   },
   "outputs": [],
   "source": [
    "fleet = pd.read_csv(FLEET)"
   ]
  },
  {
   "cell_type": "code",
   "execution_count": 7,
   "metadata": {
    "collapsed": false
   },
   "outputs": [
    {
     "data": {
      "text/html": [
       "<div>\n",
       "<table border=\"1\" class=\"dataframe\">\n",
       "  <thead>\n",
       "    <tr style=\"text-align: right;\">\n",
       "      <th></th>\n",
       "      <th>fleet_a</th>\n",
       "      <th>fleet_b</th>\n",
       "      <th>Seated Capcity</th>\n",
       "      <th>Standing Capacity</th>\n",
       "      <th>Total Capacity</th>\n",
       "      <th>Low_Floor</th>\n",
       "    </tr>\n",
       "  </thead>\n",
       "  <tbody>\n",
       "    <tr>\n",
       "      <th>0</th>\n",
       "      <td>1100</td>\n",
       "      <td>1194</td>\n",
       "      <td>20</td>\n",
       "      <td>28</td>\n",
       "      <td>48</td>\n",
       "      <td>0</td>\n",
       "    </tr>\n",
       "    <tr>\n",
       "      <th>1</th>\n",
       "      <td>2300</td>\n",
       "      <td>2399</td>\n",
       "      <td>53</td>\n",
       "      <td>62</td>\n",
       "      <td>115</td>\n",
       "      <td>0</td>\n",
       "    </tr>\n",
       "    <tr>\n",
       "      <th>2</th>\n",
       "      <td>2400</td>\n",
       "      <td>2573</td>\n",
       "      <td>53</td>\n",
       "      <td>62</td>\n",
       "      <td>115</td>\n",
       "      <td>1</td>\n",
       "    </tr>\n",
       "    <tr>\n",
       "      <th>3</th>\n",
       "      <td>2600</td>\n",
       "      <td>2812</td>\n",
       "      <td>53</td>\n",
       "      <td>62</td>\n",
       "      <td>115</td>\n",
       "      <td>1</td>\n",
       "    </tr>\n",
       "    <tr>\n",
       "      <th>4</th>\n",
       "      <td>2870</td>\n",
       "      <td>2899</td>\n",
       "      <td>53</td>\n",
       "      <td>62</td>\n",
       "      <td>115</td>\n",
       "      <td>1</td>\n",
       "    </tr>\n",
       "  </tbody>\n",
       "</table>\n",
       "</div>"
      ],
      "text/plain": [
       "   fleet_a  fleet_b  Seated Capcity  Standing Capacity  Total Capacity  \\\n",
       "0     1100     1194              20                 28              48   \n",
       "1     2300     2399              53                 62             115   \n",
       "2     2400     2573              53                 62             115   \n",
       "3     2600     2812              53                 62             115   \n",
       "4     2870     2899              53                 62             115   \n",
       "\n",
       "   Low_Floor  \n",
       "0          0  \n",
       "1          0  \n",
       "2          1  \n",
       "3          1  \n",
       "4          1  "
      ]
     },
     "execution_count": 7,
     "metadata": {},
     "output_type": "execute_result"
    }
   ],
   "source": [
    "fleet.head()"
   ]
  },
  {
   "cell_type": "code",
   "execution_count": 8,
   "metadata": {
    "collapsed": false
   },
   "outputs": [],
   "source": [
    "def fleet_type(data):\n",
    "    #get fleet type info\n",
    "    fleet_dict = {}\n",
    "    floor_dict = {}\n",
    "    for ele in np.unique(data.VEHICLE_ID):\n",
    "        for a in fleet.fleet_a:\n",
    "            b = int(fleet[fleet.fleet_a == a].fleet_b)\n",
    "            if a <= ele <= b:\n",
    "                fleet_dict[ele] = int(fleet[fleet.fleet_a == a]['Total Capacity'])\n",
    "                floor_dict[ele] = int(fleet[fleet.fleet_a == a]['Low_Floor'])\n",
    "                #print fleet[fleet.fleet_a == a]\n",
    "    print 'fleet_dict length is:', len(fleet_dict), len(floor_dict)\n",
    "    print 'unique vehicle number is:', len(np.unique(data.VEHICLE_ID))\n",
    "    #link fleet info to vehicles\n",
    "    for ele in np.unique(data.VEHICLE_ID):\n",
    "        if ele in fleet_dict:\n",
    "            continue\n",
    "        else:\n",
    "            print ele\n",
    "    \n",
    "    data['capacity'] = data['VEHICLE_ID'].map(fleet_dict)\n",
    "    data['low_floor'] = data['VEHICLE_ID'].map(floor_dict)\n",
    "    print 'current data shape is:', data.shape\n",
    "\n",
    "    return data"
   ]
  },
  {
   "cell_type": "code",
   "execution_count": 9,
   "metadata": {
    "collapsed": false
   },
   "outputs": [
    {
     "name": "stdout",
     "output_type": "stream",
     "text": [
      "fleet_dict length is: 1210 1210\n",
      "unique vehicle number is: 1211\n",
      "9536\n",
      "current data shape is: (585595, 34)\n"
     ]
    }
   ],
   "source": [
    "fleet_data = fleet_type(data)"
   ]
  },
  {
   "cell_type": "code",
   "execution_count": 10,
   "metadata": {
    "collapsed": false
   },
   "outputs": [
    {
     "data": {
      "text/plain": [
       "Index([u'DAYCODE', u'TRIP_ID', u'PATTERN_ID', u'BLK', u'RTE', u'DIR',\n",
       "       u'SCH_ST_MIN', u'OPD_DATE', u'VEHICLE_ID', u'BUS_TYPE', u'ENGINE',\n",
       "       u'NUM_DOORS', u'STOP_SEQ', u'STOP_NAME', u'STOP_ID', u'GPS_LONGITUDE',\n",
       "       u'GPS_LATITUDE', u'DOORS_OPEN', u'DOOR_OPEN_SEC', u'SCH_STOP_SEC',\n",
       "       u'ACT_STOP_ARR', u'ACT_STOP_DEP', u'DWELL_SEC', u'ACT_HOUR',\n",
       "       u'ACT_STOP_ARR_TM', u'ACT_STOP_DEP_TM', u'APC_VEH', u'ONS', u'OFFS',\n",
       "       u'LOAD', u'STOP_TYPE', u'date_id', u'capacity', u'low_floor'],\n",
       "      dtype='object')"
      ]
     },
     "execution_count": 10,
     "metadata": {},
     "output_type": "execute_result"
    }
   ],
   "source": [
    "fleet_data.columns"
   ]
  },
  {
   "cell_type": "code",
   "execution_count": 11,
   "metadata": {
    "collapsed": false
   },
   "outputs": [
    {
     "data": {
      "text/html": [
       "<div>\n",
       "<table border=\"1\" class=\"dataframe\">\n",
       "  <thead>\n",
       "    <tr style=\"text-align: right;\">\n",
       "      <th></th>\n",
       "      <th>DAYCODE</th>\n",
       "      <th>TRIP_ID</th>\n",
       "      <th>PATTERN_ID</th>\n",
       "      <th>BLK</th>\n",
       "      <th>RTE</th>\n",
       "      <th>DIR</th>\n",
       "      <th>SCH_ST_MIN</th>\n",
       "      <th>OPD_DATE</th>\n",
       "      <th>VEHICLE_ID</th>\n",
       "      <th>BUS_TYPE</th>\n",
       "      <th>...</th>\n",
       "      <th>ACT_STOP_ARR_TM</th>\n",
       "      <th>ACT_STOP_DEP_TM</th>\n",
       "      <th>APC_VEH</th>\n",
       "      <th>ONS</th>\n",
       "      <th>OFFS</th>\n",
       "      <th>LOAD</th>\n",
       "      <th>STOP_TYPE</th>\n",
       "      <th>date_id</th>\n",
       "      <th>capacity</th>\n",
       "      <th>low_floor</th>\n",
       "    </tr>\n",
       "  </thead>\n",
       "  <tbody>\n",
       "    <tr>\n",
       "      <th>0</th>\n",
       "      <td>0</td>\n",
       "      <td>27133771</td>\n",
       "      <td>21007011</td>\n",
       "      <td>701</td>\n",
       "      <td>7</td>\n",
       "      <td>S</td>\n",
       "      <td>252</td>\n",
       "      <td>7-May-15</td>\n",
       "      <td>4238</td>\n",
       "      <td>Artic</td>\n",
       "      <td>...</td>\n",
       "      <td>4:10:56</td>\n",
       "      <td>4:10:56</td>\n",
       "      <td>N</td>\n",
       "      <td>nan</td>\n",
       "      <td>nan</td>\n",
       "      <td>nan</td>\n",
       "      <td>T</td>\n",
       "      <td>6</td>\n",
       "      <td>92.000</td>\n",
       "      <td>0.000</td>\n",
       "    </tr>\n",
       "    <tr>\n",
       "      <th>1</th>\n",
       "      <td>0</td>\n",
       "      <td>27133771</td>\n",
       "      <td>21007011</td>\n",
       "      <td>701</td>\n",
       "      <td>7</td>\n",
       "      <td>S</td>\n",
       "      <td>252</td>\n",
       "      <td>7-May-15</td>\n",
       "      <td>4238</td>\n",
       "      <td>Artic</td>\n",
       "      <td>...</td>\n",
       "      <td>4:11:49</td>\n",
       "      <td>4:11:56</td>\n",
       "      <td>N</td>\n",
       "      <td>nan</td>\n",
       "      <td>nan</td>\n",
       "      <td>nan</td>\n",
       "      <td>S</td>\n",
       "      <td>6</td>\n",
       "      <td>92.000</td>\n",
       "      <td>0.000</td>\n",
       "    </tr>\n",
       "    <tr>\n",
       "      <th>2</th>\n",
       "      <td>0</td>\n",
       "      <td>27133771</td>\n",
       "      <td>21007011</td>\n",
       "      <td>701</td>\n",
       "      <td>7</td>\n",
       "      <td>S</td>\n",
       "      <td>252</td>\n",
       "      <td>7-May-15</td>\n",
       "      <td>4238</td>\n",
       "      <td>Artic</td>\n",
       "      <td>...</td>\n",
       "      <td>4:12:19</td>\n",
       "      <td>4:12:19</td>\n",
       "      <td>N</td>\n",
       "      <td>nan</td>\n",
       "      <td>nan</td>\n",
       "      <td>nan</td>\n",
       "      <td>ST</td>\n",
       "      <td>6</td>\n",
       "      <td>92.000</td>\n",
       "      <td>0.000</td>\n",
       "    </tr>\n",
       "    <tr>\n",
       "      <th>3</th>\n",
       "      <td>0</td>\n",
       "      <td>27133771</td>\n",
       "      <td>21007011</td>\n",
       "      <td>701</td>\n",
       "      <td>7</td>\n",
       "      <td>S</td>\n",
       "      <td>252</td>\n",
       "      <td>7-May-15</td>\n",
       "      <td>4238</td>\n",
       "      <td>Artic</td>\n",
       "      <td>...</td>\n",
       "      <td>4:12:35</td>\n",
       "      <td>4:12:47</td>\n",
       "      <td>N</td>\n",
       "      <td>nan</td>\n",
       "      <td>nan</td>\n",
       "      <td>nan</td>\n",
       "      <td>S</td>\n",
       "      <td>6</td>\n",
       "      <td>92.000</td>\n",
       "      <td>0.000</td>\n",
       "    </tr>\n",
       "    <tr>\n",
       "      <th>4</th>\n",
       "      <td>0</td>\n",
       "      <td>27133771</td>\n",
       "      <td>21007011</td>\n",
       "      <td>701</td>\n",
       "      <td>7</td>\n",
       "      <td>S</td>\n",
       "      <td>252</td>\n",
       "      <td>7-May-15</td>\n",
       "      <td>4238</td>\n",
       "      <td>Artic</td>\n",
       "      <td>...</td>\n",
       "      <td>4:13:01</td>\n",
       "      <td>4:13:01</td>\n",
       "      <td>N</td>\n",
       "      <td>nan</td>\n",
       "      <td>nan</td>\n",
       "      <td>nan</td>\n",
       "      <td>S</td>\n",
       "      <td>6</td>\n",
       "      <td>92.000</td>\n",
       "      <td>0.000</td>\n",
       "    </tr>\n",
       "  </tbody>\n",
       "</table>\n",
       "<p>5 rows × 34 columns</p>\n",
       "</div>"
      ],
      "text/plain": [
       "   DAYCODE   TRIP_ID  PATTERN_ID  BLK  RTE DIR  SCH_ST_MIN  OPD_DATE  \\\n",
       "0        0  27133771    21007011  701    7   S         252  7-May-15   \n",
       "1        0  27133771    21007011  701    7   S         252  7-May-15   \n",
       "2        0  27133771    21007011  701    7   S         252  7-May-15   \n",
       "3        0  27133771    21007011  701    7   S         252  7-May-15   \n",
       "4        0  27133771    21007011  701    7   S         252  7-May-15   \n",
       "\n",
       "   VEHICLE_ID BUS_TYPE    ...     ACT_STOP_ARR_TM  ACT_STOP_DEP_TM  APC_VEH  \\\n",
       "0        4238    Artic    ...             4:10:56          4:10:56        N   \n",
       "1        4238    Artic    ...             4:11:49          4:11:56        N   \n",
       "2        4238    Artic    ...             4:12:19          4:12:19        N   \n",
       "3        4238    Artic    ...             4:12:35          4:12:47        N   \n",
       "4        4238    Artic    ...             4:13:01          4:13:01        N   \n",
       "\n",
       "  ONS  OFFS  LOAD  STOP_TYPE date_id  capacity  low_floor  \n",
       "0 nan   nan   nan          T       6    92.000      0.000  \n",
       "1 nan   nan   nan          S       6    92.000      0.000  \n",
       "2 nan   nan   nan         ST       6    92.000      0.000  \n",
       "3 nan   nan   nan          S       6    92.000      0.000  \n",
       "4 nan   nan   nan          S       6    92.000      0.000  \n",
       "\n",
       "[5 rows x 34 columns]"
      ]
     },
     "execution_count": 11,
     "metadata": {},
     "output_type": "execute_result"
    }
   ],
   "source": [
    "fleet_data.head()"
   ]
  },
  {
   "cell_type": "code",
   "execution_count": 12,
   "metadata": {
    "collapsed": false
   },
   "outputs": [],
   "source": [
    "test = fleet_data[['low_floor', 'VEHICLE_ID']]"
   ]
  },
  {
   "cell_type": "code",
   "execution_count": 13,
   "metadata": {
    "collapsed": false
   },
   "outputs": [
    {
     "data": {
      "text/plain": [
       "array([1100, 1101, 1103, ..., 9811, 9812, 9813], dtype=int64)"
      ]
     },
     "execution_count": 13,
     "metadata": {},
     "output_type": "execute_result"
    }
   ],
   "source": [
    "np.unique(test['VEHICLE_ID'])"
   ]
  },
  {
   "cell_type": "markdown",
   "metadata": {},
   "source": [
    "# Get Route Type Info Ready"
   ]
  },
  {
   "cell_type": "code",
   "execution_count": 14,
   "metadata": {
    "collapsed": false
   },
   "outputs": [],
   "source": [
    "route = pd.read_csv(ROUTE)"
   ]
  },
  {
   "cell_type": "code",
   "execution_count": 15,
   "metadata": {
    "collapsed": false
   },
   "outputs": [],
   "source": [
    "rapid_list = [671, 672, 673, 674, 675, 676]\n",
    "for rte in rapid_list:\n",
    "    route.loc[route['Rte'] == rte, 'E/L'] = 'R'\n",
    "dict_route_type = route.set_index('TRIP_ID').to_dict()['E/L']"
   ]
  },
  {
   "cell_type": "code",
   "execution_count": 16,
   "metadata": {
    "collapsed": false
   },
   "outputs": [
    {
     "name": "stdout",
     "output_type": "stream",
     "text": [
      "{28345597: 550}\n",
      "APC records lenth 37\n"
     ]
    }
   ],
   "source": [
    "# Pre-check: there are TRIP_IDs not included in the 151ALLTrips.csv\n",
    "\n",
    "def check_lefttrips(data):\n",
    "    j = 0\n",
    "    left_rte = {}\n",
    "    for trip in np.unique(data.TRIP_ID):\n",
    "        if trip in dict_route_type:\n",
    "            continue\n",
    "        else:\n",
    "            #print trip\n",
    "            left_rte[trip] = int(np.unique(data[data.TRIP_ID == trip]['RTE']))\n",
    "            #print len(data[data.TRIP_ID == trip])\n",
    "            j = len(data[data.TRIP_ID == trip]) + j\n",
    "    print left_rte\n",
    "    print 'APC records lenth', j\n",
    "\n",
    "check_lefttrips(fleet_data)  \n",
    "    \n"
   ]
  },
  {
   "cell_type": "code",
   "execution_count": 17,
   "metadata": {
    "collapsed": true
   },
   "outputs": [],
   "source": [
    "def route_type(data):\n",
    "    data['Route Type'] = data['TRIP_ID'].map(dict_route_type) \n",
    "    print data['Route Type'] .isnull().sum()\n",
    "    print data.shape\n",
    "    data = data.dropna(subset=['Route Type'])\n",
    "    #data['Route Type'] = data['Route Type'].dropna()\n",
    "    print data.shape\n",
    "    \n",
    "    return data"
   ]
  },
  {
   "cell_type": "code",
   "execution_count": 18,
   "metadata": {
    "collapsed": false
   },
   "outputs": [],
   "source": [
    "#route_data = route_type(fleet_data)"
   ]
  },
  {
   "cell_type": "code",
   "execution_count": 19,
   "metadata": {
    "collapsed": false
   },
   "outputs": [
    {
     "data": {
      "text/plain": [
       "\"\\nprint np.unique(route_data['Route Type'])\\nprint route_data.columns\\n\""
      ]
     },
     "execution_count": 19,
     "metadata": {},
     "output_type": "execute_result"
    }
   ],
   "source": [
    "# Post-check\n",
    "\n",
    "'''\n",
    "print np.unique(route_data['Route Type'])\n",
    "print route_data.columns\n",
    "'''"
   ]
  },
  {
   "cell_type": "markdown",
   "metadata": {},
   "source": [
    "# Get all I need "
   ]
  },
  {
   "cell_type": "code",
   "execution_count": 20,
   "metadata": {
    "collapsed": true
   },
   "outputs": [],
   "source": [
    "def content_need(data):\n",
    "    data = data[['TRIP_ID', 'RTE', 'VEHICLE_ID', 'BUS_TYPE', 'NUM_DOORS', \n",
    "                 'STOP_SEQ', 'STOP_ID','DWELL_SEC', 'DOOR_OPEN_SEC', \n",
    "                 'ONS', 'OFFS', 'LOAD', 'date_id', 'capacity', 'Route Type', 'low_floor']]\n",
    "    return data"
   ]
  },
  {
   "cell_type": "code",
   "execution_count": 21,
   "metadata": {
    "collapsed": false
   },
   "outputs": [],
   "source": [
    "#my_data = content_need(route_data)"
   ]
  },
  {
   "cell_type": "markdown",
   "metadata": {},
   "source": [
    "# Data Clean Equations Preparation"
   ]
  },
  {
   "cell_type": "markdown",
   "metadata": {},
   "source": [
    "# Step1: Clean Outlines Data"
   ]
  },
  {
   "cell_type": "code",
   "execution_count": 22,
   "metadata": {
    "collapsed": false
   },
   "outputs": [],
   "source": [
    "def clean_data(data):\n",
    "    start = timeit.default_timer()\n",
    "    \n",
    "    #get fleet and vehicle type info\n",
    "    data = fleet_type(data)\n",
    "    data = route_type(data)\n",
    "    data = content_need(data)\n",
    "    \n",
    "    # Before cleaning records, get the load data from the previous stop\n",
    "    data = data.sort(['TRIP_ID', 'STOP_SEQ'])\n",
    "    data['pre_load'] = data['LOAD'].shift()\n",
    "    \n",
    "    # Remove the corner data (fist and last stops) before the data was disordered by other cleaning processes\n",
    "    def del_stop(data):\n",
    "        return data.iloc[1:-1]\n",
    "    data = data.groupby('TRIP_ID', group_keys=False).apply(del_stop)\n",
    "    print 'clean first and last stops', data.shape\n",
    "    \n",
    "    #data = data[pd.notnull(data['pre_load'])]\n",
    "    #print 'clean invalid pre_load', data.shape\n",
    "    \n",
    "    # 0< Dwell time < 120 \n",
    "    data = data[data['DOOR_OPEN_SEC'] != 0]\n",
    "    print 'cleaned zero dwell', data.shape\n",
    "    data = data[data['DOOR_OPEN_SEC'] > 0]\n",
    "    data = data[data['DOOR_OPEN_SEC'] <= 90]\n",
    "    #data = data[data['DOOR_OPEN_SEC'] <= 120]\n",
    "    print 'cleaned large dwell', data.shape\n",
    "    \n",
    "    # On + off != 0\n",
    "    data = data[pd.notnull(data['ONS'])]\n",
    "    data = data[data['ONS'] + data['OFFS'] != 0]\n",
    "    print 'cleaned the invalid or zero boarding+alighting records:', data.shape\n",
    "    \n",
    "    # valid bus type\n",
    "    data = data[data.BUS_TYPE != '??']\n",
    "    print 'cleaned unknow bus type', data.shape\n",
    "    \n",
    "    # delete all downtown tunnel stop records\n",
    "    dict_stop_id = dict((el,1) for el in [455, 456, 501, 502, 532, 533, 565, 566, 621, 622, 623, 624, \n",
    "                                      1082, 1083, 1084, 1086, 1108, 1109, 1121, 1122, 1192, 1193])\n",
    "    data['downtown_stop'] = data['STOP_ID'].map(dict_stop_id)\n",
    "    data.downtown_stop = data.downtown_stop.fillna(0)\n",
    "    data = data[data.downtown_stop != 1]\n",
    "    print 'cleaned downtown tunnel', data.shape\n",
    "    stop = timeit.default_timer()\n",
    "    print 'removed invalid data:', stop - start\n",
    "    print '---------------------------------------------'\n",
    "    \n",
    "    return data"
   ]
  },
  {
   "cell_type": "markdown",
   "metadata": {},
   "source": [
    "# Step2: Prepare Extra Basic Variables"
   ]
  },
  {
   "cell_type": "code",
   "execution_count": 1,
   "metadata": {
    "collapsed": false
   },
   "outputs": [],
   "source": [
    "def get_x_y(data): \n",
    "    start = timeit.default_timer()\n",
    "    \n",
    "    # Bus type: Articulated or Standard bus; TWo or Three doors; fleet\n",
    "    data['Artic'] = data['BUS_TYPE'].map({'Artic': 1, 'Standard': 0})\n",
    "    data['Std'] = data['BUS_TYPE'].map({'Artic': 0, 'Standard': 1})\n",
    "    \n",
    "    # low floor\n",
    "    data['high_floor'] = data['low_floor'].map({1:0, 0:1})\n",
    "    \n",
    "    # number of doors\n",
    "    # fix the data error: there are some one-door vehicles\n",
    "    for vno in np.unique(data['VEHICLE_ID']):\n",
    "        if vno > 1100 and vno < 1199:\n",
    "            data.loc[data['VEHICLE_ID']==vno, 'NUM_DOORS'] = 1\n",
    "            #w.loc[w.female == 'female', 'female'] = 1\n",
    "    data['twodoors'] = data['NUM_DOORS'].map({1:0, 2: 1, 3: 0})\n",
    "    data['threedoors'] = data['NUM_DOORS'].map({1:0, 2: 0, 3: 1})\n",
    "    \n",
    "    \n",
    "    # Route Type, create dummie variables for each route type\n",
    "    just_dummies_route = pd.get_dummies(data['Route Type'])\n",
    "    step_1 = pd.concat([data, just_dummies_route], axis=1)\n",
    "    # Avoid dummie variable trap\n",
    "    step_1.drop(['L'], inplace=True, axis=1)\n",
    "    data = step_1\n",
    "    stop = timeit.default_timer()\n",
    "    print 'add veh&route info:', stop - start\n",
    "    \n",
    "    start = timeit.default_timer()\n",
    "    # Passenger activity\n",
    "    data['ON+OFF'] = data['ONS'] + data['OFFS']\n",
    "    data['ma_pasg'] = data[['ONS', 'OFFS']].max(axis=1)\n",
    "    data['ab_pasg'] = (data['ONS'] - data['OFFS']).abs()\n",
    "    data['pre_standees']= data['pre_load'] - 0.60 * data['capacity']\n",
    "    data['pre_crowding']= data.apply(lambda x: x['pre_standees'] > 0, axis=1).map({False: 0, True: 1})\n",
    "    data['friction'] = ((data['ONS'] + data['OFFS'] + (data['pre_standees']).abs()) * data['pre_crowding']).abs()\n",
    "    print data.shape\n",
    "    \n",
    "    \n",
    "    # Interactive vars: second set\n",
    "    data['on_art'] = data['ONS']*data['Artic']\n",
    "    data['off_art'] = data['OFFS']*data['Artic']\n",
    "    data['on_threedoors'] = data['ONS']*data['threedoors']\n",
    "    data['off_threedoors'] = data['OFFS']*data['threedoors']\n",
    "    data['on_twodoors'] = data['ONS']*data['twodoors']\n",
    "    data['off_twodoors'] = data['OFFS']*data['twodoors']\n",
    "    data['on_low'] = data['ONS']*data['low_floor']\n",
    "    data['off_low'] = data['OFFS']*data['low_floor']\n",
    "    data['on_rapid'] = data['ONS']*data['R']\n",
    "    data['off_rapid'] = data['OFFS']*data['R']\n",
    "    data['on_express'] = data['ONS']*data['E']\n",
    "    data['off_express'] = data['OFFS']*data['E']\n",
    "    \n",
    "    \n",
    "    print data.shape\n",
    "    stop = timeit.default_timer()\n",
    "    print 'add correlation variables:', stop - start\n",
    "    \n",
    "    return data"
   ]
  },
  {
   "cell_type": "markdown",
   "metadata": {},
   "source": [
    "# Step3: Prepare Extra Control Variable: Vehnicle ID"
   ]
  },
  {
   "cell_type": "code",
   "execution_count": 81,
   "metadata": {
    "collapsed": true
   },
   "outputs": [],
   "source": [
    "# Create dummie variables for bus id \n",
    "def create_vehID(data):\n",
    "    start = timeit.default_timer()\n",
    "    print 'data shape:', data.shape\n",
    "    data['vehno_date'] = data.VEHICLE_ID.astype(str) + '_' + data.date_id.astype(str)\n",
    "    print len(np.unique(data.vehno_date))\n",
    "    just_dummies_veh = pd.get_dummies(data['vehno_date'])\n",
    "    data = pd.concat([data, just_dummies_veh], axis=1)\n",
    "    stop = timeit.default_timer()\n",
    "    print 'data shape:', data.shape\n",
    "    print 'add vehid variables:', stop - start\n",
    "    \n",
    "    return data"
   ]
  },
  {
   "cell_type": "markdown",
   "metadata": {},
   "source": [
    "# Ok, Let's Clean It! "
   ]
  },
  {
   "cell_type": "code",
   "execution_count": 82,
   "metadata": {
    "collapsed": false,
    "scrolled": false
   },
   "outputs": [
    {
     "name": "stdout",
     "output_type": "stream",
     "text": [
      "0\n",
      "581968\n",
      "fleet_dict length is: 1223 1223\n",
      "unique vehicle number is: 1223\n",
      "current data shape is: (581968, 35)\n",
      "39\n",
      "(581968, 35)\n",
      "(581929, 35)\n",
      "clean first and last stops (560931, 17)\n",
      "cleaned zero dwell (209743, 17)\n",
      "cleaned large dwell (199886, 17)\n",
      "cleaned the invalid or zero boarding+alighting records: (60693, 17)\n",
      "cleaned unknow bus type (59413, 17)\n",
      "cleaned downtown tunnel (57335, 18)\n",
      "removed invalid data: 35.3354285449\n",
      "---------------------------------------------\n",
      "Index([u'TRIP_ID', u'RTE', u'VEHICLE_ID', u'BUS_TYPE', u'NUM_DOORS',\n",
      "       u'STOP_SEQ', u'STOP_ID', u'DWELL_SEC', u'DOOR_OPEN_SEC', u'ONS',\n",
      "       u'OFFS', u'LOAD', u'date_id', u'capacity', u'Route Type', u'low_floor',\n",
      "       u'pre_load', u'downtown_stop'],\n",
      "      dtype='object')\n",
      "57335\n",
      "582850\n",
      "fleet_dict length is: 1219 1219\n",
      "unique vehicle number is: 1219\n",
      "current data shape is: (582850, 35)\n",
      "403\n",
      "(582850, 35)\n",
      "(582447, 35)\n",
      "clean first and last stops (561541, 17)\n",
      "cleaned zero dwell (211099, 17)\n",
      "cleaned large dwell (201124, 17)\n",
      "cleaned the invalid or zero boarding+alighting records: (57831, 17)\n",
      "cleaned unknow bus type (56539, 17)\n",
      "cleaned downtown tunnel (54611, 18)\n",
      "removed invalid data: 32.270223123\n",
      "---------------------------------------------\n",
      "Index([u'TRIP_ID', u'RTE', u'VEHICLE_ID', u'BUS_TYPE', u'NUM_DOORS',\n",
      "       u'STOP_SEQ', u'STOP_ID', u'DWELL_SEC', u'DOOR_OPEN_SEC', u'ONS',\n",
      "       u'OFFS', u'LOAD', u'date_id', u'capacity', u'Route Type', u'low_floor',\n",
      "       u'pre_load', u'downtown_stop'],\n",
      "      dtype='object')\n",
      "111946\n",
      "583272\n",
      "fleet_dict length is: 1211 1211\n",
      "unique vehicle number is: 1211\n",
      "current data shape is: (583272, 35)\n",
      "31\n",
      "(583272, 35)\n",
      "(583241, 35)\n",
      "clean first and last stops (562405, 17)\n",
      "cleaned zero dwell (209697, 17)\n",
      "cleaned large dwell (199635, 17)\n",
      "cleaned the invalid or zero boarding+alighting records: (58199, 17)\n",
      "cleaned unknow bus type (56761, 17)\n",
      "cleaned downtown tunnel (54975, 18)\n",
      "removed invalid data: 32.1748069302\n",
      "---------------------------------------------\n",
      "Index([u'TRIP_ID', u'RTE', u'VEHICLE_ID', u'BUS_TYPE', u'NUM_DOORS',\n",
      "       u'STOP_SEQ', u'STOP_ID', u'DWELL_SEC', u'DOOR_OPEN_SEC', u'ONS',\n",
      "       u'OFFS', u'LOAD', u'date_id', u'capacity', u'Route Type', u'low_floor',\n",
      "       u'pre_load', u'downtown_stop'],\n",
      "      dtype='object')\n",
      "166921\n",
      "584437\n",
      "fleet_dict length is: 1214 1214\n",
      "unique vehicle number is: 1215\n",
      "9536\n",
      "current data shape is: (584437, 35)\n",
      "39\n",
      "(584437, 35)\n",
      "(584398, 35)\n",
      "clean first and last stops (563506, 17)\n",
      "cleaned zero dwell (210052, 17)\n",
      "cleaned large dwell (199855, 17)\n",
      "cleaned the invalid or zero boarding+alighting records: (59298, 17)\n",
      "cleaned unknow bus type (58158, 17)\n",
      "cleaned downtown tunnel (56230, 18)\n",
      "removed invalid data: 32.3572180203\n",
      "---------------------------------------------\n",
      "Index([u'TRIP_ID', u'RTE', u'VEHICLE_ID', u'BUS_TYPE', u'NUM_DOORS',\n",
      "       u'STOP_SEQ', u'STOP_ID', u'DWELL_SEC', u'DOOR_OPEN_SEC', u'ONS',\n",
      "       u'OFFS', u'LOAD', u'date_id', u'capacity', u'Route Type', u'low_floor',\n",
      "       u'pre_load', u'downtown_stop'],\n",
      "      dtype='object')\n",
      "223151\n",
      "582514\n",
      "fleet_dict length is: 1204 1204\n",
      "unique vehicle number is: 1205\n",
      "9536\n",
      "current data shape is: (582514, 35)\n",
      "287\n",
      "(582514, 35)\n",
      "(582227, 35)\n",
      "clean first and last stops (561291, 17)\n",
      "cleaned zero dwell (210837, 17)\n",
      "cleaned large dwell (200555, 17)\n",
      "cleaned the invalid or zero boarding+alighting records: (57830, 17)\n",
      "cleaned unknow bus type (56442, 17)\n",
      "cleaned downtown tunnel (54632, 18)\n",
      "removed invalid data: 32.0355615445\n",
      "---------------------------------------------\n",
      "Index([u'TRIP_ID', u'RTE', u'VEHICLE_ID', u'BUS_TYPE', u'NUM_DOORS',\n",
      "       u'STOP_SEQ', u'STOP_ID', u'DWELL_SEC', u'DOOR_OPEN_SEC', u'ONS',\n",
      "       u'OFFS', u'LOAD', u'date_id', u'capacity', u'Route Type', u'low_floor',\n",
      "       u'pre_load', u'downtown_stop'],\n",
      "      dtype='object')\n",
      "277783\n",
      "585595\n",
      "fleet_dict length is: 1210 1210\n",
      "unique vehicle number is: 1211\n",
      "9536\n",
      "current data shape is: (585595, 35)\n",
      "37\n",
      "(585595, 35)\n",
      "(585558, 35)\n",
      "clean first and last stops (564692, 17)\n",
      "cleaned zero dwell (210834, 17)\n",
      "cleaned large dwell (200494, 17)\n",
      "cleaned the invalid or zero boarding+alighting records: (59265, 17)\n",
      "cleaned unknow bus type (58067, 17)\n",
      "cleaned downtown tunnel (56036, 18)\n",
      "removed invalid data: 32.1510158199\n",
      "---------------------------------------------\n",
      "Index([u'TRIP_ID', u'RTE', u'VEHICLE_ID', u'BUS_TYPE', u'NUM_DOORS',\n",
      "       u'STOP_SEQ', u'STOP_ID', u'DWELL_SEC', u'DOOR_OPEN_SEC', u'ONS',\n",
      "       u'OFFS', u'LOAD', u'date_id', u'capacity', u'Route Type', u'low_floor',\n",
      "       u'pre_load', u'downtown_stop'],\n",
      "      dtype='object')\n",
      "333819\n"
     ]
    },
    {
     "name": "stderr",
     "output_type": "stream",
     "text": [
      "C:\\Anaconda\\lib\\site-packages\\IPython\\kernel\\__main__.py:10: FutureWarning: sort(columns=....) is deprecated, use sort_values(by=.....)\n"
     ]
    }
   ],
   "source": [
    "df_base = pd.DataFrame(columns = ['TRIP_ID', 'RTE', 'VEHICLE_ID', 'BUS_TYPE', 'NUM_DOORS',\n",
    "                                  'STOP_SEQ', 'STOP_ID', 'DWELL_SEC', 'DOOR_OPEN_SEC', \n",
    "                                  'ONS', 'OFFS', 'LOAD', 'date_id', 'capacity', \n",
    "                                  'Route Type', 'pre_load','downtown_stop', 'low_floor'])\n",
    "print len(df_base)\n",
    "for my_data in APC.values():\n",
    "    print len(my_data)\n",
    "    \n",
    "    my_data = clean_data(my_data)\n",
    "    print my_data.columns\n",
    "    df_base = pd.concat([df_base, my_data])\n",
    "    print len(df_base)\n"
   ]
  },
  {
   "cell_type": "code",
   "execution_count": 83,
   "metadata": {
    "collapsed": false
   },
   "outputs": [
    {
     "data": {
      "text/plain": [
       "Index([u'BUS_TYPE', u'DOOR_OPEN_SEC', u'DWELL_SEC', u'LOAD', u'NUM_DOORS',\n",
       "       u'OFFS', u'ONS', u'RTE', u'Route Type', u'STOP_ID', u'STOP_SEQ',\n",
       "       u'TRIP_ID', u'VEHICLE_ID', u'capacity', u'date_id', u'downtown_stop',\n",
       "       u'low_floor', u'pre_load'],\n",
       "      dtype='object')"
      ]
     },
     "execution_count": 83,
     "metadata": {},
     "output_type": "execute_result"
    }
   ],
   "source": [
    "df_base.columns"
   ]
  },
  {
   "cell_type": "code",
   "execution_count": 84,
   "metadata": {
    "collapsed": false
   },
   "outputs": [
    {
     "name": "stdout",
     "output_type": "stream",
     "text": [
      "add veh&route info: 0.449573954538\n",
      "(333819, 31)\n",
      "(333819, 43)\n",
      "add correlation variables: 4.41261389185\n"
     ]
    }
   ],
   "source": [
    "step2 = get_x_y(df_base)"
   ]
  },
  {
   "cell_type": "code",
   "execution_count": 85,
   "metadata": {
    "collapsed": true
   },
   "outputs": [],
   "source": [
    "step2 = step2[step2['DOOR_OPEN_SEC'] >0]"
   ]
  },
  {
   "cell_type": "code",
   "execution_count": 86,
   "metadata": {
    "collapsed": false
   },
   "outputs": [
    {
     "data": {
      "text/plain": [
       "array([  1.,   2.,   3.,   4.,   5.,   6.,   7.,   8.,   9.,  10.,  11.,\n",
       "        12.,  13.,  14.,  15.,  16.,  17.,  18.,  19.,  20.,  21.,  22.,\n",
       "        23.,  24.,  25.,  26.,  27.,  28.,  29.,  30.,  31.,  32.,  33.,\n",
       "        34.,  35.,  36.,  37.,  38.,  39.,  40.,  41.,  42.,  43.,  44.,\n",
       "        45.,  46.,  47.,  48.,  49.,  50.,  51.,  52.,  53.,  54.,  55.,\n",
       "        56.,  57.,  58.,  59.,  60.,  61.,  62.,  63.,  64.,  65.,  66.,\n",
       "        67.,  68.,  69.,  70.,  71.,  72.,  73.,  74.,  75.,  76.,  77.,\n",
       "        78.,  79.,  80.,  81.,  82.,  83.,  84.,  85.,  86.,  87.,  88.,\n",
       "        89.,  90.])"
      ]
     },
     "execution_count": 86,
     "metadata": {},
     "output_type": "execute_result"
    }
   ],
   "source": [
    "np.unique(step2['DOOR_OPEN_SEC'])"
   ]
  },
  {
   "cell_type": "code",
   "execution_count": 87,
   "metadata": {
    "collapsed": false
   },
   "outputs": [
    {
     "data": {
      "text/plain": [
       "Index([u'BUS_TYPE', u'DOOR_OPEN_SEC', u'DWELL_SEC', u'LOAD', u'NUM_DOORS',\n",
       "       u'OFFS', u'ONS', u'RTE', u'Route Type', u'STOP_ID', u'STOP_SEQ',\n",
       "       u'TRIP_ID', u'VEHICLE_ID', u'capacity', u'date_id', u'downtown_stop',\n",
       "       u'low_floor', u'pre_load', u'Artic', u'Std', u'high_floor', u'twodoors',\n",
       "       u'threedoors', u'E', u'R', u'ON+OFF', u'ma_pasg', u'ab_pasg',\n",
       "       u'pre_standees', u'pre_crowding', u'friction', u'on_art', u'off_art',\n",
       "       u'on_threedoors', u'off_threedoors', u'on_twodoors', u'off_twodoors',\n",
       "       u'on_low', u'off_low', u'on_rapid', u'off_rapid', u'on_express',\n",
       "       u'off_express'],\n",
       "      dtype='object')"
      ]
     },
     "execution_count": 87,
     "metadata": {},
     "output_type": "execute_result"
    }
   ],
   "source": [
    "step2.columns"
   ]
  },
  {
   "cell_type": "code",
   "execution_count": 98,
   "metadata": {
    "collapsed": false
   },
   "outputs": [],
   "source": [
    "step3 = step2[step2['ON+OFF'] < 30]"
   ]
  },
  {
   "cell_type": "code",
   "execution_count": 100,
   "metadata": {
    "collapsed": false
   },
   "outputs": [
    {
     "name": "stdout",
     "output_type": "stream",
     "text": [
      "333817\n",
      "332386\n"
     ]
    }
   ],
   "source": [
    "print len(step2)\n",
    "print len(step3)"
   ]
  },
  {
   "cell_type": "code",
   "execution_count": 91,
   "metadata": {
    "collapsed": false
   },
   "outputs": [],
   "source": [
    "#test.head()"
   ]
  },
  {
   "cell_type": "code",
   "execution_count": 101,
   "metadata": {
    "collapsed": true
   },
   "outputs": [],
   "source": [
    "my_project = step3"
   ]
  },
  {
   "cell_type": "markdown",
   "metadata": {},
   "source": [
    "# Create Training (70%) and Validating (30%) datasets "
   ]
  },
  {
   "cell_type": "code",
   "execution_count": 102,
   "metadata": {
    "collapsed": false
   },
   "outputs": [
    {
     "data": {
      "text/plain": [
       "'C:\\\\Users\\\\Angela\\\\Documents\\\\GitHub\\\\fast-trips_dwell_time_model'"
      ]
     },
     "execution_count": 102,
     "metadata": {},
     "output_type": "execute_result"
    }
   ],
   "source": [
    "import os\n",
    "os.getcwd()"
   ]
  },
  {
   "cell_type": "code",
   "execution_count": 103,
   "metadata": {
    "collapsed": true
   },
   "outputs": [],
   "source": [
    "msk = np.random.rand(len(my_project)) < 0.7\n",
    "df_train = my_project[msk]\n",
    "df_test = my_project[~msk]"
   ]
  },
  {
   "cell_type": "code",
   "execution_count": 104,
   "metadata": {
    "collapsed": false
   },
   "outputs": [
    {
     "data": {
      "text/plain": [
       "Index([u'BUS_TYPE', u'DOOR_OPEN_SEC', u'DWELL_SEC', u'LOAD', u'NUM_DOORS',\n",
       "       u'OFFS', u'ONS', u'RTE', u'Route Type', u'STOP_ID', u'STOP_SEQ',\n",
       "       u'TRIP_ID', u'VEHICLE_ID', u'capacity', u'date_id', u'downtown_stop',\n",
       "       u'low_floor', u'pre_load', u'Artic', u'Std', u'high_floor', u'twodoors',\n",
       "       u'threedoors', u'E', u'R', u'ON+OFF', u'ma_pasg', u'ab_pasg',\n",
       "       u'pre_standees', u'pre_crowding', u'friction', u'on_art', u'off_art',\n",
       "       u'on_threedoors', u'off_threedoors', u'on_twodoors', u'off_twodoors',\n",
       "       u'on_low', u'off_low', u'on_rapid', u'off_rapid', u'on_express',\n",
       "       u'off_express'],\n",
       "      dtype='object')"
      ]
     },
     "execution_count": 104,
     "metadata": {},
     "output_type": "execute_result"
    }
   ],
   "source": [
    "df_train.columns"
   ]
  },
  {
   "cell_type": "code",
   "execution_count": 105,
   "metadata": {
    "collapsed": true
   },
   "outputs": [],
   "source": [
    "df_train.to_csv(r'C:\\Users\\Angela\\Documents\\Github\\fast-trips_dwell_time_model\\KC_Metro_Inner_dataset\\KC_df_train.csv')\n",
    "df_test.to_csv(r'C:\\Users\\Angela\\Documents\\Github\\fast-trips_dwell_time_model\\KC_Metro_Inner_dataset\\KC_df_test.csv')"
   ]
  },
  {
   "cell_type": "code",
   "execution_count": 106,
   "metadata": {
    "collapsed": false
   },
   "outputs": [
    {
     "name": "stdout",
     "output_type": "stream",
     "text": [
      "232843\n",
      "99543\n"
     ]
    }
   ],
   "source": [
    "print len(df_train)\n",
    "print len(df_test)"
   ]
  },
  {
   "cell_type": "code",
   "execution_count": null,
   "metadata": {
    "collapsed": true
   },
   "outputs": [],
   "source": [
    "print 'Congrats! go for a quick run in Puget Sound!'"
   ]
  }
 ],
 "metadata": {
  "kernelspec": {
   "display_name": "Python 2",
   "language": "python",
   "name": "python2"
  },
  "language_info": {
   "codemirror_mode": {
    "name": "ipython",
    "version": 2
   },
   "file_extension": ".py",
   "mimetype": "text/x-python",
   "name": "python",
   "nbconvert_exporter": "python",
   "pygments_lexer": "ipython2",
   "version": "2.7.11"
  }
 },
 "nbformat": 4,
 "nbformat_minor": 0
}
