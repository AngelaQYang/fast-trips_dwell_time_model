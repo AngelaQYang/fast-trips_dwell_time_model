{
 "cells": [
  {
   "cell_type": "code",
   "execution_count": 1,
   "metadata": {
    "collapsed": true
   },
   "outputs": [],
   "source": [
    "import pandas as pd\n",
    "import numpy as np\n",
    "import statsmodels.formula.api as smf\n",
    "import matplotlib.pyplot as plt\n",
    "import pylab\n",
    "import glob, os\n",
    "import scipy.stats as stats\n",
    "from scipy.stats import gaussian_kde\n",
    "import sklearn\n",
    "from sklearn.linear_model import LinearRegression\n",
    "from sklearn.feature_selection import chi2\n",
    "from sklearn.metrics import r2_score\n",
    "import timeit\n",
    "%matplotlib inline"
   ]
  },
  {
   "cell_type": "code",
   "execution_count": 2,
   "metadata": {
    "collapsed": true
   },
   "outputs": [],
   "source": [
    "# Format to remove scientific notation\n",
    "pd.set_option('display.float_format', lambda x: '%.3f' % x)"
   ]
  },
  {
   "cell_type": "code",
   "execution_count": 3,
   "metadata": {
    "collapsed": false
   },
   "outputs": [],
   "source": [
    "df_train = pd.read_csv(r'C:\\Users\\Angela\\Documents\\Fast_Trip\\KC_90_df_train2.csv')\n",
    "df_test = pd.read_csv(r'C:\\Users\\Angela\\Documents\\Fast_Trip\\KC_90_df_test2.csv')"
   ]
  },
  {
   "cell_type": "markdown",
   "metadata": {},
   "source": [
    "# Read data, training (70%) and validating (30%) dataset "
   ]
  },
  {
   "cell_type": "code",
   "execution_count": 53,
   "metadata": {
    "collapsed": false
   },
   "outputs": [
    {
     "data": {
      "text/plain": [
       "Index([u'Unnamed: 0', u'TRIP_ID', u'RTE', u'VEHICLE_ID', u'BUS_TYPE',\n",
       "       u'NUM_DOORS', u'STOP_SEQ', u'STOP_ID', u'DWELL_SEC', u'DOOR_OPEN_SEC',\n",
       "       u'ONS', u'OFFS', u'LOAD', u'date_id', u'capacity', u'Route Type',\n",
       "       u'pre_load', u'downtown_stop', u'Artic', u'twodoors', u'threedoors',\n",
       "       u'twodoors_artic', u'threedoors_artic', u'E', u'R', u'ON+OFF',\n",
       "       u'ma_pasg', u'ab_pasg', u'pre_standees', u'pre_crowding', u'friction',\n",
       "       u'On_twodoors_artic', u'Off_twodoors_artic', u'on_threedoors_artic',\n",
       "       u'off_threedoors_artic', u'on_express', u'off_express', u'on_rapid',\n",
       "       u'off_rapid', u'vehno_date'],\n",
       "      dtype='object')"
      ]
     },
     "execution_count": 53,
     "metadata": {},
     "output_type": "execute_result"
    }
   ],
   "source": [
    "df_train.columns[:40]"
   ]
  },
  {
   "cell_type": "markdown",
   "metadata": {},
   "source": [
    "# Build multi-linear regression model"
   ]
  },
  {
   "cell_type": "markdown",
   "metadata": {},
   "source": [
    "# Model 1 - with vehicle ids"
   ]
  },
  {
   "cell_type": "markdown",
   "metadata": {},
   "source": [
    "Create a LinearRegression object "
   ]
  },
  {
   "cell_type": "code",
   "execution_count": 18,
   "metadata": {
    "collapsed": false
   },
   "outputs": [],
   "source": [
    "# Run Linear Regression In Python SciKit-Learn\n",
    "\n",
    "#df_train = df_train.dropna()\n",
    "#df_test = df_test.dropna()\n",
    "X_train = df_train.drop(['TRIP_ID','RTE','VEHICLE_ID', 'BUS_TYPE', 'NUM_DOORS','STOP_SEQ',\\\n",
    "                         'STOP_ID','DWELL_SEC','DOOR_OPEN_SEC', 'pre_load', 'LOAD', 'date_id', 'capacity', \\\n",
    "                         'downtown_stop', 'ON+OFF', 'Artic','twodoors', 'threedoors', 'ma_pasg','ab_pasg',\\\n",
    "                         'pre_standees', 'pre_crowding','vehno_date', 'Route Type'], axis=1)\n",
    "\n",
    "X_test = df_test.drop(['TRIP_ID','RTE','VEHICLE_ID', 'BUS_TYPE', 'NUM_DOORS','STOP_SEQ',\\\n",
    "                         'STOP_ID','DWELL_SEC','DOOR_OPEN_SEC', 'pre_load','LOAD', 'date_id', 'capacity', \\\n",
    "                         'downtown_stop', 'ON+OFF', 'Artic','twodoors', 'threedoors','ma_pasg','ab_pasg',\\\n",
    "                        'pre_standees', 'pre_crowding','vehno_date', 'Route Type'], axis=1)\n",
    "\n",
    "y_train = df_train.DOOR_OPEN_SEC\n",
    "y_test = df_test.DOOR_OPEN_SEC\n",
    "\n"
   ]
  },
  {
   "cell_type": "code",
   "execution_count": 19,
   "metadata": {
    "collapsed": false
   },
   "outputs": [
    {
     "name": "stdout",
     "output_type": "stream",
     "text": [
      "build model with veh&day ids: 72.6795965783\n"
     ]
    }
   ],
   "source": [
    "start = timeit.default_timer()\n",
    "lm1 = LinearRegression()\n",
    "lm1.fit(X_train, y_train)\n",
    "pred_train = lm1.predict(X_train)\n",
    "pred_test = lm1.predict(X_test)\n",
    "LinearRegression(copy_X=True, fit_intercept=True,normalize=False)\n",
    "\n",
    "# Construct a data frame that contains features and estimated coefficients\n",
    "sklearn_results1 = pd.DataFrame(zip(X_train.columns, lm1.coef_), columns = ['features', 'estimatedCoefficients'])\n",
    "# p-values\n",
    "scores, pvalues = chi2(X_train, y_train)\n",
    "sklearn_results1['pvalues'] = pd.DataFrame(pvalues)\n",
    "sklearn_results1['scores'] = pd.DataFrame(scores)\n",
    "\n",
    "stop = timeit.default_timer()\n",
    "print 'build model with veh&day ids:', stop - start"
   ]
  },
  {
   "cell_type": "code",
   "execution_count": 20,
   "metadata": {
    "collapsed": false
   },
   "outputs": [
    {
     "data": {
      "text/html": [
       "<div>\n",
       "<table border=\"1\" class=\"dataframe\">\n",
       "  <thead>\n",
       "    <tr style=\"text-align: right;\">\n",
       "      <th></th>\n",
       "      <th>features</th>\n",
       "      <th>estimatedCoefficients</th>\n",
       "      <th>pvalues</th>\n",
       "      <th>scores</th>\n",
       "    </tr>\n",
       "  </thead>\n",
       "  <tbody>\n",
       "    <tr>\n",
       "      <th>0</th>\n",
       "      <td>Unnamed: 0</td>\n",
       "      <td>0.000</td>\n",
       "      <td>0.000</td>\n",
       "      <td>42481648.389</td>\n",
       "    </tr>\n",
       "    <tr>\n",
       "      <th>1</th>\n",
       "      <td>ONS</td>\n",
       "      <td>3.112</td>\n",
       "      <td>0.000</td>\n",
       "      <td>433364.730</td>\n",
       "    </tr>\n",
       "    <tr>\n",
       "      <th>2</th>\n",
       "      <td>OFFS</td>\n",
       "      <td>1.346</td>\n",
       "      <td>0.000</td>\n",
       "      <td>139922.262</td>\n",
       "    </tr>\n",
       "    <tr>\n",
       "      <th>3</th>\n",
       "      <td>twodoors_artic</td>\n",
       "      <td>1.414</td>\n",
       "      <td>0.000</td>\n",
       "      <td>1099.346</td>\n",
       "    </tr>\n",
       "    <tr>\n",
       "      <th>4</th>\n",
       "      <td>threedoors_artic</td>\n",
       "      <td>7.011</td>\n",
       "      <td>0.000</td>\n",
       "      <td>2783.779</td>\n",
       "    </tr>\n",
       "    <tr>\n",
       "      <th>5</th>\n",
       "      <td>E</td>\n",
       "      <td>1.250</td>\n",
       "      <td>0.000</td>\n",
       "      <td>1458.303</td>\n",
       "    </tr>\n",
       "    <tr>\n",
       "      <th>6</th>\n",
       "      <td>R</td>\n",
       "      <td>-2.957</td>\n",
       "      <td>0.000</td>\n",
       "      <td>1684.772</td>\n",
       "    </tr>\n",
       "    <tr>\n",
       "      <th>7</th>\n",
       "      <td>friction</td>\n",
       "      <td>-0.051</td>\n",
       "      <td>0.000</td>\n",
       "      <td>126115.825</td>\n",
       "    </tr>\n",
       "    <tr>\n",
       "      <th>8</th>\n",
       "      <td>On_twodoors_artic</td>\n",
       "      <td>-0.344</td>\n",
       "      <td>0.000</td>\n",
       "      <td>209518.855</td>\n",
       "    </tr>\n",
       "    <tr>\n",
       "      <th>9</th>\n",
       "      <td>Off_twodoors_artic</td>\n",
       "      <td>-0.319</td>\n",
       "      <td>0.000</td>\n",
       "      <td>74483.067</td>\n",
       "    </tr>\n",
       "    <tr>\n",
       "      <th>10</th>\n",
       "      <td>on_threedoors_artic</td>\n",
       "      <td>-0.261</td>\n",
       "      <td>0.000</td>\n",
       "      <td>160967.176</td>\n",
       "    </tr>\n",
       "    <tr>\n",
       "      <th>11</th>\n",
       "      <td>off_threedoors_artic</td>\n",
       "      <td>-0.039</td>\n",
       "      <td>0.000</td>\n",
       "      <td>62761.778</td>\n",
       "    </tr>\n",
       "    <tr>\n",
       "      <th>12</th>\n",
       "      <td>on_express</td>\n",
       "      <td>-0.336</td>\n",
       "      <td>0.000</td>\n",
       "      <td>134800.037</td>\n",
       "    </tr>\n",
       "    <tr>\n",
       "      <th>13</th>\n",
       "      <td>off_express</td>\n",
       "      <td>-0.209</td>\n",
       "      <td>0.000</td>\n",
       "      <td>50850.591</td>\n",
       "    </tr>\n",
       "    <tr>\n",
       "      <th>14</th>\n",
       "      <td>on_rapid</td>\n",
       "      <td>-0.871</td>\n",
       "      <td>0.000</td>\n",
       "      <td>125986.455</td>\n",
       "    </tr>\n",
       "    <tr>\n",
       "      <th>15</th>\n",
       "      <td>off_rapid</td>\n",
       "      <td>-0.422</td>\n",
       "      <td>0.000</td>\n",
       "      <td>47366.765</td>\n",
       "    </tr>\n",
       "    <tr>\n",
       "      <th>16</th>\n",
       "      <td>1100.0_1.0</td>\n",
       "      <td>-1.266</td>\n",
       "      <td>1.000</td>\n",
       "      <td>27.743</td>\n",
       "    </tr>\n",
       "    <tr>\n",
       "      <th>17</th>\n",
       "      <td>1100.0_2.0</td>\n",
       "      <td>1.712</td>\n",
       "      <td>0.000</td>\n",
       "      <td>1114.984</td>\n",
       "    </tr>\n",
       "    <tr>\n",
       "      <th>18</th>\n",
       "      <td>1100.0_3.0</td>\n",
       "      <td>3.224</td>\n",
       "      <td>0.007</td>\n",
       "      <td>126.647</td>\n",
       "    </tr>\n",
       "    <tr>\n",
       "      <th>19</th>\n",
       "      <td>1100.0_4.0</td>\n",
       "      <td>0.477</td>\n",
       "      <td>1.000</td>\n",
       "      <td>40.725</td>\n",
       "    </tr>\n",
       "    <tr>\n",
       "      <th>20</th>\n",
       "      <td>1100.0_5.0</td>\n",
       "      <td>-1.024</td>\n",
       "      <td>0.812</td>\n",
       "      <td>78.018</td>\n",
       "    </tr>\n",
       "    <tr>\n",
       "      <th>21</th>\n",
       "      <td>1100.0_6.0</td>\n",
       "      <td>-3.071</td>\n",
       "      <td>0.650</td>\n",
       "      <td>84.278</td>\n",
       "    </tr>\n",
       "    <tr>\n",
       "      <th>22</th>\n",
       "      <td>1101.0_2.0</td>\n",
       "      <td>-0.444</td>\n",
       "      <td>0.000</td>\n",
       "      <td>156.985</td>\n",
       "    </tr>\n",
       "    <tr>\n",
       "      <th>23</th>\n",
       "      <td>1101.0_4.0</td>\n",
       "      <td>-1.002</td>\n",
       "      <td>0.006</td>\n",
       "      <td>126.912</td>\n",
       "    </tr>\n",
       "    <tr>\n",
       "      <th>24</th>\n",
       "      <td>1101.0_5.0</td>\n",
       "      <td>1.860</td>\n",
       "      <td>0.000</td>\n",
       "      <td>233.549</td>\n",
       "    </tr>\n",
       "    <tr>\n",
       "      <th>25</th>\n",
       "      <td>1101.0_6.0</td>\n",
       "      <td>2.351</td>\n",
       "      <td>0.986</td>\n",
       "      <td>63.237</td>\n",
       "    </tr>\n",
       "    <tr>\n",
       "      <th>26</th>\n",
       "      <td>1103.0_1.0</td>\n",
       "      <td>-0.481</td>\n",
       "      <td>0.999</td>\n",
       "      <td>53.013</td>\n",
       "    </tr>\n",
       "    <tr>\n",
       "      <th>27</th>\n",
       "      <td>1103.0_2.0</td>\n",
       "      <td>2.997</td>\n",
       "      <td>0.606</td>\n",
       "      <td>85.779</td>\n",
       "    </tr>\n",
       "    <tr>\n",
       "      <th>28</th>\n",
       "      <td>1103.0_3.0</td>\n",
       "      <td>-2.025</td>\n",
       "      <td>1.000</td>\n",
       "      <td>9.062</td>\n",
       "    </tr>\n",
       "    <tr>\n",
       "      <th>29</th>\n",
       "      <td>1103.0_4.0</td>\n",
       "      <td>1.555</td>\n",
       "      <td>0.363</td>\n",
       "      <td>94.106</td>\n",
       "    </tr>\n",
       "    <tr>\n",
       "      <th>...</th>\n",
       "      <td>...</td>\n",
       "      <td>...</td>\n",
       "      <td>...</td>\n",
       "      <td>...</td>\n",
       "    </tr>\n",
       "    <tr>\n",
       "      <th>2294</th>\n",
       "      <td>9646.0_5.0</td>\n",
       "      <td>0.044</td>\n",
       "      <td>0.007</td>\n",
       "      <td>126.554</td>\n",
       "    </tr>\n",
       "    <tr>\n",
       "      <th>2295</th>\n",
       "      <td>9646.0_6.0</td>\n",
       "      <td>3.121</td>\n",
       "      <td>0.000</td>\n",
       "      <td>159.555</td>\n",
       "    </tr>\n",
       "    <tr>\n",
       "      <th>2296</th>\n",
       "      <td>9647.0_1.0</td>\n",
       "      <td>1.871</td>\n",
       "      <td>0.000</td>\n",
       "      <td>144.076</td>\n",
       "    </tr>\n",
       "    <tr>\n",
       "      <th>2297</th>\n",
       "      <td>9647.0_2.0</td>\n",
       "      <td>-2.583</td>\n",
       "      <td>0.000</td>\n",
       "      <td>176.969</td>\n",
       "    </tr>\n",
       "    <tr>\n",
       "      <th>2298</th>\n",
       "      <td>9647.0_3.0</td>\n",
       "      <td>1.277</td>\n",
       "      <td>0.000</td>\n",
       "      <td>172.467</td>\n",
       "    </tr>\n",
       "    <tr>\n",
       "      <th>2299</th>\n",
       "      <td>9647.0_4.0</td>\n",
       "      <td>1.056</td>\n",
       "      <td>0.684</td>\n",
       "      <td>83.081</td>\n",
       "    </tr>\n",
       "    <tr>\n",
       "      <th>2300</th>\n",
       "      <td>9647.0_5.0</td>\n",
       "      <td>1.713</td>\n",
       "      <td>0.013</td>\n",
       "      <td>122.227</td>\n",
       "    </tr>\n",
       "    <tr>\n",
       "      <th>2301</th>\n",
       "      <td>9647.0_6.0</td>\n",
       "      <td>3.195</td>\n",
       "      <td>0.000</td>\n",
       "      <td>285.316</td>\n",
       "    </tr>\n",
       "    <tr>\n",
       "      <th>2302</th>\n",
       "      <td>9648.0_1.0</td>\n",
       "      <td>0.523</td>\n",
       "      <td>0.971</td>\n",
       "      <td>66.335</td>\n",
       "    </tr>\n",
       "    <tr>\n",
       "      <th>2303</th>\n",
       "      <td>9648.0_2.0</td>\n",
       "      <td>2.677</td>\n",
       "      <td>0.000</td>\n",
       "      <td>149.759</td>\n",
       "    </tr>\n",
       "    <tr>\n",
       "      <th>2304</th>\n",
       "      <td>9648.0_3.0</td>\n",
       "      <td>-1.100</td>\n",
       "      <td>0.000</td>\n",
       "      <td>148.354</td>\n",
       "    </tr>\n",
       "    <tr>\n",
       "      <th>2305</th>\n",
       "      <td>9648.0_4.0</td>\n",
       "      <td>-1.478</td>\n",
       "      <td>0.017</td>\n",
       "      <td>120.715</td>\n",
       "    </tr>\n",
       "    <tr>\n",
       "      <th>2306</th>\n",
       "      <td>9648.0_5.0</td>\n",
       "      <td>-0.646</td>\n",
       "      <td>0.001</td>\n",
       "      <td>137.482</td>\n",
       "    </tr>\n",
       "    <tr>\n",
       "      <th>2307</th>\n",
       "      <td>9648.0_6.0</td>\n",
       "      <td>0.796</td>\n",
       "      <td>0.010</td>\n",
       "      <td>124.072</td>\n",
       "    </tr>\n",
       "    <tr>\n",
       "      <th>2308</th>\n",
       "      <td>9649.0_1.0</td>\n",
       "      <td>-0.500</td>\n",
       "      <td>0.179</td>\n",
       "      <td>102.161</td>\n",
       "    </tr>\n",
       "    <tr>\n",
       "      <th>2309</th>\n",
       "      <td>9649.0_2.0</td>\n",
       "      <td>2.065</td>\n",
       "      <td>0.000</td>\n",
       "      <td>162.598</td>\n",
       "    </tr>\n",
       "    <tr>\n",
       "      <th>2310</th>\n",
       "      <td>9649.0_3.0</td>\n",
       "      <td>3.274</td>\n",
       "      <td>0.000</td>\n",
       "      <td>174.662</td>\n",
       "    </tr>\n",
       "    <tr>\n",
       "      <th>2311</th>\n",
       "      <td>9649.0_4.0</td>\n",
       "      <td>-0.482</td>\n",
       "      <td>0.928</td>\n",
       "      <td>71.182</td>\n",
       "    </tr>\n",
       "    <tr>\n",
       "      <th>2312</th>\n",
       "      <td>9649.0_5.0</td>\n",
       "      <td>1.105</td>\n",
       "      <td>0.000</td>\n",
       "      <td>276.326</td>\n",
       "    </tr>\n",
       "    <tr>\n",
       "      <th>2313</th>\n",
       "      <td>9650.0_1.0</td>\n",
       "      <td>-1.983</td>\n",
       "      <td>0.047</td>\n",
       "      <td>113.577</td>\n",
       "    </tr>\n",
       "    <tr>\n",
       "      <th>2314</th>\n",
       "      <td>9650.0_2.0</td>\n",
       "      <td>0.691</td>\n",
       "      <td>0.239</td>\n",
       "      <td>99.158</td>\n",
       "    </tr>\n",
       "    <tr>\n",
       "      <th>2315</th>\n",
       "      <td>9650.0_3.0</td>\n",
       "      <td>0.851</td>\n",
       "      <td>0.266</td>\n",
       "      <td>97.949</td>\n",
       "    </tr>\n",
       "    <tr>\n",
       "      <th>2316</th>\n",
       "      <td>9650.0_4.0</td>\n",
       "      <td>1.712</td>\n",
       "      <td>0.039</td>\n",
       "      <td>115.038</td>\n",
       "    </tr>\n",
       "    <tr>\n",
       "      <th>2317</th>\n",
       "      <td>9650.0_5.0</td>\n",
       "      <td>0.190</td>\n",
       "      <td>0.119</td>\n",
       "      <td>106.065</td>\n",
       "    </tr>\n",
       "    <tr>\n",
       "      <th>2318</th>\n",
       "      <td>9650.0_6.0</td>\n",
       "      <td>0.433</td>\n",
       "      <td>0.000</td>\n",
       "      <td>173.001</td>\n",
       "    </tr>\n",
       "    <tr>\n",
       "      <th>2319</th>\n",
       "      <td>9651.0_1.0</td>\n",
       "      <td>4.066</td>\n",
       "      <td>0.000</td>\n",
       "      <td>292.662</td>\n",
       "    </tr>\n",
       "    <tr>\n",
       "      <th>2320</th>\n",
       "      <td>9651.0_2.0</td>\n",
       "      <td>4.387</td>\n",
       "      <td>0.000</td>\n",
       "      <td>235.288</td>\n",
       "    </tr>\n",
       "    <tr>\n",
       "      <th>2321</th>\n",
       "      <td>9651.0_3.0</td>\n",
       "      <td>3.774</td>\n",
       "      <td>0.000</td>\n",
       "      <td>588.718</td>\n",
       "    </tr>\n",
       "    <tr>\n",
       "      <th>2322</th>\n",
       "      <td>9651.0_4.0</td>\n",
       "      <td>6.182</td>\n",
       "      <td>0.000</td>\n",
       "      <td>329.885</td>\n",
       "    </tr>\n",
       "    <tr>\n",
       "      <th>2323</th>\n",
       "      <td>9651.0_5.0</td>\n",
       "      <td>0.290</td>\n",
       "      <td>0.006</td>\n",
       "      <td>127.010</td>\n",
       "    </tr>\n",
       "  </tbody>\n",
       "</table>\n",
       "<p>2324 rows × 4 columns</p>\n",
       "</div>"
      ],
      "text/plain": [
       "                  features  estimatedCoefficients  pvalues       scores\n",
       "0               Unnamed: 0                  0.000    0.000 42481648.389\n",
       "1                      ONS                  3.112    0.000   433364.730\n",
       "2                     OFFS                  1.346    0.000   139922.262\n",
       "3           twodoors_artic                  1.414    0.000     1099.346\n",
       "4         threedoors_artic                  7.011    0.000     2783.779\n",
       "5                        E                  1.250    0.000     1458.303\n",
       "6                        R                 -2.957    0.000     1684.772\n",
       "7                 friction                 -0.051    0.000   126115.825\n",
       "8        On_twodoors_artic                 -0.344    0.000   209518.855\n",
       "9       Off_twodoors_artic                 -0.319    0.000    74483.067\n",
       "10     on_threedoors_artic                 -0.261    0.000   160967.176\n",
       "11    off_threedoors_artic                 -0.039    0.000    62761.778\n",
       "12              on_express                 -0.336    0.000   134800.037\n",
       "13             off_express                 -0.209    0.000    50850.591\n",
       "14                on_rapid                 -0.871    0.000   125986.455\n",
       "15               off_rapid                 -0.422    0.000    47366.765\n",
       "16              1100.0_1.0                 -1.266    1.000       27.743\n",
       "17              1100.0_2.0                  1.712    0.000     1114.984\n",
       "18              1100.0_3.0                  3.224    0.007      126.647\n",
       "19              1100.0_4.0                  0.477    1.000       40.725\n",
       "20              1100.0_5.0                 -1.024    0.812       78.018\n",
       "21              1100.0_6.0                 -3.071    0.650       84.278\n",
       "22              1101.0_2.0                 -0.444    0.000      156.985\n",
       "23              1101.0_4.0                 -1.002    0.006      126.912\n",
       "24              1101.0_5.0                  1.860    0.000      233.549\n",
       "25              1101.0_6.0                  2.351    0.986       63.237\n",
       "26              1103.0_1.0                 -0.481    0.999       53.013\n",
       "27              1103.0_2.0                  2.997    0.606       85.779\n",
       "28              1103.0_3.0                 -2.025    1.000        9.062\n",
       "29              1103.0_4.0                  1.555    0.363       94.106\n",
       "...                    ...                    ...      ...          ...\n",
       "2294            9646.0_5.0                  0.044    0.007      126.554\n",
       "2295            9646.0_6.0                  3.121    0.000      159.555\n",
       "2296            9647.0_1.0                  1.871    0.000      144.076\n",
       "2297            9647.0_2.0                 -2.583    0.000      176.969\n",
       "2298            9647.0_3.0                  1.277    0.000      172.467\n",
       "2299            9647.0_4.0                  1.056    0.684       83.081\n",
       "2300            9647.0_5.0                  1.713    0.013      122.227\n",
       "2301            9647.0_6.0                  3.195    0.000      285.316\n",
       "2302            9648.0_1.0                  0.523    0.971       66.335\n",
       "2303            9648.0_2.0                  2.677    0.000      149.759\n",
       "2304            9648.0_3.0                 -1.100    0.000      148.354\n",
       "2305            9648.0_4.0                 -1.478    0.017      120.715\n",
       "2306            9648.0_5.0                 -0.646    0.001      137.482\n",
       "2307            9648.0_6.0                  0.796    0.010      124.072\n",
       "2308            9649.0_1.0                 -0.500    0.179      102.161\n",
       "2309            9649.0_2.0                  2.065    0.000      162.598\n",
       "2310            9649.0_3.0                  3.274    0.000      174.662\n",
       "2311            9649.0_4.0                 -0.482    0.928       71.182\n",
       "2312            9649.0_5.0                  1.105    0.000      276.326\n",
       "2313            9650.0_1.0                 -1.983    0.047      113.577\n",
       "2314            9650.0_2.0                  0.691    0.239       99.158\n",
       "2315            9650.0_3.0                  0.851    0.266       97.949\n",
       "2316            9650.0_4.0                  1.712    0.039      115.038\n",
       "2317            9650.0_5.0                  0.190    0.119      106.065\n",
       "2318            9650.0_6.0                  0.433    0.000      173.001\n",
       "2319            9651.0_1.0                  4.066    0.000      292.662\n",
       "2320            9651.0_2.0                  4.387    0.000      235.288\n",
       "2321            9651.0_3.0                  3.774    0.000      588.718\n",
       "2322            9651.0_4.0                  6.182    0.000      329.885\n",
       "2323            9651.0_5.0                  0.290    0.006      127.010\n",
       "\n",
       "[2324 rows x 4 columns]"
      ]
     },
     "execution_count": 20,
     "metadata": {},
     "output_type": "execute_result"
    }
   ],
   "source": [
    "sklearn_results1"
   ]
  },
  {
   "cell_type": "code",
   "execution_count": 21,
   "metadata": {
    "collapsed": false
   },
   "outputs": [
    {
     "name": "stdout",
     "output_type": "stream",
     "text": [
      "0.470263562366\n"
     ]
    }
   ],
   "source": [
    "R = r2_score(y_train, pred_train) \n",
    "print R"
   ]
  },
  {
   "cell_type": "code",
   "execution_count": 22,
   "metadata": {
    "collapsed": false
   },
   "outputs": [
    {
     "data": {
      "text/plain": [
       "2.904280423594594"
      ]
     },
     "execution_count": 22,
     "metadata": {},
     "output_type": "execute_result"
    }
   ],
   "source": [
    "lm1.intercept_"
   ]
  },
  {
   "cell_type": "code",
   "execution_count": 51,
   "metadata": {
    "collapsed": false,
    "scrolled": false
   },
   "outputs": [
    {
     "name": "stdout",
     "output_type": "stream",
     "text": [
      "       features  estimatedCoefficients  pvalues  scores\n",
      "259  2742.0_3.0                -11.684    1.000  35.519\n",
      "       features  estimatedCoefficients  pvalues  scores\n",
      "300  2872.0_4.0                 -8.194    1.000  50.877\n",
      "       features  estimatedCoefficients  pvalues  scores\n",
      "326  2878.0_3.0                  8.098    0.000 217.053\n",
      "       features  estimatedCoefficients  pvalues  scores\n",
      "453  3602.0_2.0                  9.935    0.000 350.484\n",
      "       features  estimatedCoefficients  pvalues  scores\n",
      "612  3704.0_3.0                  8.802    0.000 245.301\n",
      "       features  estimatedCoefficients  pvalues  scores\n",
      "614  3704.0_5.0                  9.630    0.000 169.833\n",
      "       features  estimatedCoefficients  pvalues  scores\n",
      "658  3714.0_3.0                -23.470    1.000  30.260\n",
      "       features  estimatedCoefficients  pvalues  scores\n",
      "728  3730.0_5.0                  8.348    0.000 211.285\n",
      "       features  estimatedCoefficients  pvalues  scores\n",
      "737  3732.0_3.0                 -8.243    1.000  28.410\n",
      "       features  estimatedCoefficients  pvalues  scores\n",
      "745  3734.0_2.0                 11.964    0.000 322.377\n",
      "       features  estimatedCoefficients  pvalues  scores\n",
      "800  3745.0_1.0                  8.156    0.000 301.713\n",
      "       features  estimatedCoefficients  pvalues  scores\n",
      "870  3757.0_3.0                 -8.101    0.997  57.222\n",
      "       features  estimatedCoefficients  pvalues  scores\n",
      "875  3759.0_1.0                  9.360    0.000 331.044\n",
      "       features  estimatedCoefficients  pvalues  scores\n",
      "880  3759.0_6.0                 10.391    0.000 152.543\n",
      "       features  estimatedCoefficients  pvalues  scores\n",
      "896  4187.0_5.0                  8.942    0.000 296.055\n",
      "       features  estimatedCoefficients  pvalues  scores\n",
      "917  4191.0_5.0                  8.473    0.000 253.336\n",
      "       features  estimatedCoefficients  pvalues  scores\n",
      "930  4193.0_6.0                  8.424    0.000 197.625\n",
      "       features  estimatedCoefficients  pvalues  scores\n",
      "934  4194.0_4.0                  8.401    0.000 280.639\n",
      "       features  estimatedCoefficients  pvalues  scores\n",
      "937  4195.0_2.0                  8.713    0.000 217.029\n",
      "       features  estimatedCoefficients  pvalues  scores\n",
      "938  4195.0_3.0                  8.135    0.000 166.125\n",
      "       features  estimatedCoefficients  pvalues  scores\n",
      "947  4196.0_6.0                  8.029    0.000 294.926\n",
      "        features  estimatedCoefficients  pvalues  scores\n",
      "1164  6046.0_4.0                 -8.692    1.000  43.741\n",
      "        features  estimatedCoefficients  pvalues  scores\n",
      "1463  6823.0_6.0                 -8.604    1.000  20.883\n",
      "        features  estimatedCoefficients  pvalues  scores\n",
      "1509  6834.0_2.0                -18.568    0.038 115.191\n",
      "        features  estimatedCoefficients  pvalues  scores\n",
      "1527  6837.0_3.0                 10.461    0.000 145.768\n",
      "        features  estimatedCoefficients  pvalues  scores\n",
      "1543  6841.0_2.0                 -9.113    0.080 109.411\n",
      "        features  estimatedCoefficients  pvalues  scores\n",
      "1694  6887.0_5.0                  9.712    0.000 404.694\n",
      "        features  estimatedCoefficients  pvalues  scores\n",
      "1910  7030.0_1.0                  8.534    0.000 331.333\n",
      "        features  estimatedCoefficients  pvalues  scores\n",
      "2053  7059.0_2.0                 10.959    0.000 259.513\n",
      "29\n"
     ]
    }
   ],
   "source": [
    "i = 0\n",
    "for value in sklearn_results1.estimatedCoefficients:\n",
    "    if abs(value) > 8:\n",
    "        print sklearn_results1[sklearn_results1.estimatedCoefficients == value]\n",
    "        i += 1\n",
    "print i"
   ]
  },
  {
   "cell_type": "code",
   "execution_count": 74,
   "metadata": {
    "collapsed": false
   },
   "outputs": [
    {
     "name": "stdout",
     "output_type": "stream",
     "text": [
      "[0]\n",
      "[0]\n",
      "[]\n",
      "[0]\n",
      "[0]\n",
      "[0]\n",
      "[0]\n",
      "[0]\n",
      "[0]\n",
      "[0]\n",
      "[0]\n",
      "[0]\n",
      "[0]\n",
      "[0]\n",
      "[0]\n",
      "[0]\n",
      "[0]\n",
      "[0]\n",
      "[1]\n",
      "[0]\n",
      "[0]\n",
      "[0]\n",
      "[0]\n",
      "[0]\n",
      "[0]\n",
      "[]\n"
     ]
    }
   ],
   "source": [
    "for value in [2742, 2872, 2978, 3602, 3704, 3714, 3730, 3732, 3734,  \n",
    "              3745, 3757, 3759, 4187, 4191, 4193, 4194, 4195, 4196, \n",
    "              6046, 6823, 6834, 6837, 6841, 6887, 7030, 7959]:\n",
    "    print np.unique(df_train[df_train.VEHICLE_ID.astype(int) == value]['threedoors'])"
   ]
  },
  {
   "cell_type": "markdown",
   "metadata": {},
   "source": [
    "# Correlation "
   ]
  },
  {
   "cell_type": "code",
   "execution_count": null,
   "metadata": {
    "collapsed": false
   },
   "outputs": [],
   "source": [
    "c = X_train.corr().abs()\n",
    "s = c.unstack()\n",
    "so = s.order(kind=\"quicksort\")"
   ]
  },
  {
   "cell_type": "code",
   "execution_count": null,
   "metadata": {
    "collapsed": false
   },
   "outputs": [],
   "source": [
    "print len(so)\n",
    "soo = so.dropna()\n",
    "soo = soo[soo >= 0.500]\n",
    "soo = soo[soo != 1.0]\n",
    "print len(soo)"
   ]
  },
  {
   "cell_type": "code",
   "execution_count": null,
   "metadata": {
    "collapsed": false
   },
   "outputs": [],
   "source": [
    "soo"
   ]
  },
  {
   "cell_type": "code",
   "execution_count": 9,
   "metadata": {
    "collapsed": false
   },
   "outputs": [
    {
     "data": {
      "image/png": "[encoded data removed]",
      "text/plain": [
       "<matplotlib.figure.Figure at 0x13ea18208>"
      ]
     },
     "metadata": {},
     "output_type": "display_data"
    },
    {
     "data": {
      "text/plain": [
       "<matplotlib.figure.Figure at 0xe1e678d0>"
      ]
     },
     "metadata": {},
     "output_type": "display_data"
    }
   ],
   "source": [
    "plt.figure(1)\n",
    "\n",
    "plt.subplot(311)\n",
    "plt.scatter(y_train, lm1.predict(X_train) - y_train, c='y', s=1,edgecolor='y')\n",
    "plt.hlines(y=0, xmin=0, xmax=120)\n",
    "plt.axis([-20, 130, -130, 130])\n",
    "plt.title('data: Residual Plot using 70% training (yellow) and 30% test (red) data')\n",
    "plt.ylabel('predict - observe')\n",
    "plt.xlabel('observe (train data)')\n",
    "\n",
    "plt.subplot(312)\n",
    "plt.scatter(y_test, lm1.predict(X_test) - y_test, c='r', s=1,edgecolor='r')\n",
    "plt.hlines(y=0, xmin=0, xmax=120)\n",
    "plt.axis([-20, 130, -130, 130])\n",
    "plt.ylabel('predict - observe')\n",
    "plt.xlabel('observe (test data)')\n",
    "\n",
    "plt.subplot(313)\n",
    "plt.scatter(y_train, lm1.predict(X_train) - y_train, c='y', s=1, edgecolor='y')\n",
    "plt.scatter(y_test, lm1.predict(X_test) - y_test, c='r', s=1, edgecolor='r')\n",
    "plt.hlines(y=0, xmin=0, xmax=120)\n",
    "plt.axis([-20, 130, -130, 130])\n",
    "plt.ylabel('predict - observe')\n",
    "plt.xlabel('observe')\n",
    "\n",
    "plt.tight_layout()\n",
    "plt.figure(figsize=(10,5))\n",
    "pylab.rcParams['figure.figsize'] = (10.0, 8.0)\n",
    "plt.show()"
   ]
  },
  {
   "cell_type": "code",
   "execution_count": null,
   "metadata": {
    "collapsed": false
   },
   "outputs": [],
   "source": [
    "plt.figure(1)\n",
    "\n",
    "plt.scatter(y_train, lm1.predict(X_train), c='y', s=1,edgecolor='g')\n",
    "plt.hlines(y=0, xmin=0, xmax=120)\n",
    "plt.axis([-10, 130, -30, 130])\n",
    "plt.title('Train data: observed and predicted data comparison')\n",
    "plt.ylabel('predict')\n",
    "plt.xlabel('observe')\n",
    "plt.figure(figsize=(10,5))\n",
    "pylab.rcParams['figure.figsize'] = (10.0, 8.0)\n",
    "plt.show()"
   ]
  },
  {
   "cell_type": "code",
   "execution_count": null,
   "metadata": {
    "collapsed": true
   },
   "outputs": [],
   "source": [
    "'''\n",
    "x = y_test\n",
    "y = lm1.predict(X_test)\n",
    "\n",
    "# Calculate the point density\n",
    "start = timeit.default_timer()\n",
    "xy = np.vstack([x,y])\n",
    "z = gaussian_kde(xy)(xy)\n",
    "stop = timeit.default_timer()\n",
    "print 'finished calculating z:', stop - start\n",
    "\n",
    "# Sort the points by density, so that the densest points are plotted last\n",
    "start = timeit.default_timer()\n",
    "idx = z.argsort()\n",
    "stop = timeit.default_timer()\n",
    "print 'finished sorting data:', stop - start\n",
    "\n",
    "x, y, z = x[idx], y[idx], z[idx]\n",
    "fig, ax = plt.subplots()\n",
    "ax.scatter(x, y, c=z, s=5, edgecolor='')\n",
    "plt.axis([0, 130, 0, 130])\n",
    "plt.title('Test data: scatter plot colored by density')\n",
    "plt.ylabel('predict')\n",
    "plt.xlabel('observe')\n",
    "plt.show()\n",
    "'''"
   ]
  },
  {
   "cell_type": "markdown",
   "metadata": {
    "collapsed": true
   },
   "source": [
    "# Model2 - without vehicle ID"
   ]
  },
  {
   "cell_type": "code",
   "execution_count": 12,
   "metadata": {
    "collapsed": false
   },
   "outputs": [],
   "source": [
    "X2_train = df_train[['ONS', 'OFFS', 'threedoors_artic', 'twodoors_artic', 'E', \n",
    "                     'On_twodoors_artic', 'Off_twodoors_artic', \n",
    "                     'on_threedoors_artic', 'off_threedoors_artic', 'on_express', \n",
    "                     'off_express', 'on_rapid', 'off_rapid']]\n",
    "\n",
    "X2_test = df_test[['ONS', 'OFFS', 'threedoors_artic', 'twodoors_artic', 'E', \n",
    "                     'On_twodoors_artic', 'Off_twodoors_artic', \n",
    "                     'on_threedoors_artic', 'off_threedoors_artic', 'on_express', \n",
    "                     'off_express', 'on_rapid', 'off_rapid']]\n",
    "y2_train = df_train.DOOR_OPEN_SEC\n",
    "y2_test = df_test.DOOR_OPEN_SEC"
   ]
  },
  {
   "cell_type": "code",
   "execution_count": 13,
   "metadata": {
    "collapsed": false
   },
   "outputs": [
    {
     "name": "stdout",
     "output_type": "stream",
     "text": [
      "build model with veh&day ids: 0.476779738117\n"
     ]
    }
   ],
   "source": [
    "start = timeit.default_timer()\n",
    "lm2 = LinearRegression()\n",
    "lm2.fit(X2_train, y2_train)\n",
    "pred_train2 = lm2.predict(X2_train)\n",
    "pred_test2 = lm2.predict(X2_test)\n",
    "LinearRegression(copy_X=True, fit_intercept=True,normalize=False)\n",
    "\n",
    "# Construct a data frame that contains features and estimated coefficients\n",
    "sklearn_results2 = pd.DataFrame(zip(X2_train.columns, lm2.coef_), columns = ['features', 'estimatedCoefficients'])\n",
    "# p-values\n",
    "scores, pvalues = chi2(X2_train, y2_train)\n",
    "sklearn_results2['pvalues'] = pd.DataFrame(pvalues)\n",
    "sklearn_results2['scores'] = pd.DataFrame(scores)\n",
    "\n",
    "stop = timeit.default_timer()\n",
    "print 'build model with veh&day ids:', stop - start"
   ]
  },
  {
   "cell_type": "code",
   "execution_count": 14,
   "metadata": {
    "collapsed": false
   },
   "outputs": [
    {
     "name": "stdout",
     "output_type": "stream",
     "text": [
      "                features  estimatedCoefficients  pvalues     scores\n",
      "0                    ONS                  3.137    0.000 433364.730\n",
      "1                   OFFS                  1.379    0.000 139922.262\n",
      "2       threedoors_artic                  1.875    0.000   2783.779\n",
      "3         twodoors_artic                  0.751    0.000   1099.346\n",
      "4                      E                  0.727    0.000   1458.303\n",
      "5      On_twodoors_artic                 -0.395    0.000 209518.855\n",
      "6     Off_twodoors_artic                 -0.379    0.000  74483.067\n",
      "7    on_threedoors_artic                 -0.127    0.000 160967.176\n",
      "8   off_threedoors_artic                  0.074    0.000  62761.778\n",
      "9             on_express                 -0.303    0.000 134800.037\n",
      "10           off_express                 -0.182    0.000  50850.591\n",
      "11              on_rapid                 -1.062    0.000 125986.455\n",
      "12             off_rapid                 -0.597    0.000  47366.765\n"
     ]
    }
   ],
   "source": [
    "print sklearn_results2"
   ]
  },
  {
   "cell_type": "code",
   "execution_count": 15,
   "metadata": {
    "collapsed": true
   },
   "outputs": [],
   "source": [
    "#sklearn_results2.to_csv('R:/Angela/fast_trips/KCMetro/Final_withoutVeh_friction.csv')"
   ]
  },
  {
   "cell_type": "code",
   "execution_count": 16,
   "metadata": {
    "collapsed": false
   },
   "outputs": [
    {
     "name": "stdout",
     "output_type": "stream",
     "text": [
      "0.445837015292\n"
     ]
    }
   ],
   "source": [
    "# R-square\n",
    "R22 = r2_score(y2_train, pred_train2) \n",
    "print R22"
   ]
  },
  {
   "cell_type": "code",
   "execution_count": 17,
   "metadata": {
    "collapsed": false
   },
   "outputs": [
    {
     "data": {
      "text/plain": [
       "5.616598970759366"
      ]
     },
     "execution_count": 17,
     "metadata": {},
     "output_type": "execute_result"
    }
   ],
   "source": [
    "lm2.intercept_"
   ]
  },
  {
   "cell_type": "code",
   "execution_count": 10,
   "metadata": {
    "collapsed": false
   },
   "outputs": [
    {
     "name": "stderr",
     "output_type": "stream",
     "text": [
      "C:\\Anaconda\\lib\\site-packages\\matplotlib\\collections.py:590: FutureWarning: elementwise comparison failed; returning scalar instead, but in the future will perform elementwise comparison\n",
      "  if self._edgecolors == str('face'):\n"
     ]
    },
    {
     "data": {
      "image/png": "[encoded data removed]",
      "text/plain": [
       "<matplotlib.figure.Figure at 0x3f1f978>"
      ]
     },
     "metadata": {},
     "output_type": "display_data"
    }
   ],
   "source": [
    "plt.figure(1)\n",
    "plt.subplot(311)\n",
    "plt.scatter(y2_train, lm2.predict(X2_train) - y2_train, c='y', s=1,edgecolor='y')\n",
    "plt.hlines(y=0, xmin=0, xmax=120)\n",
    "plt.axis([-20, 130, -130, 130])\n",
    "plt.title('data: Residual Plot using 70% training (yellow) and 30% test (red) data')\n",
    "plt.ylabel('predict - observe')\n",
    "plt.xlabel('observe (train data)')\n",
    "\n",
    "plt.subplot(312)\n",
    "plt.scatter(y2_test, lm2.predict(X2_test) - y2_test, c='r', s=1,edgecolor='r')\n",
    "plt.hlines(y=0, xmin=0, xmax=120)\n",
    "plt.axis([-20, 130, -130, 130])\n",
    "plt.ylabel('predict - observe')\n",
    "plt.xlabel('observe (test data)')\n",
    "\n",
    "plt.subplot(313)\n",
    "plt.scatter(y2_train, lm2.predict(X2_train) - y2_train, c='y', s=1, edgecolor='y')\n",
    "plt.scatter(y2_test, lm2.predict(X2_test) - y2_test, c='r', s=1, edgecolor='r')\n",
    "\n",
    "plt.tight_layout()\n",
    "plt.hlines(y=0, xmin=0, xmax=120)\n",
    "plt.axis([-20, 130, -130, 130])\n",
    "plt.ylabel('predict - observe')\n",
    "plt.xlabel('observe')\n",
    "\n",
    "plt.show()"
   ]
  },
  {
   "cell_type": "code",
   "execution_count": 11,
   "metadata": {
    "collapsed": false
   },
   "outputs": [
    {
     "name": "stdout",
     "output_type": "stream",
     "text": [
      "z: 498.664222254\n",
      "sort data: 0.00698942696363\n"
     ]
    },
    {
     "data": {
      "image/png": "[encoded data removed]",
      "text/plain": [
       "<matplotlib.figure.Figure at 0x562316d8>"
      ]
     },
     "metadata": {},
     "output_type": "display_data"
    }
   ],
   "source": [
    "#density plots\n",
    "\n",
    "x2 = y2_test\n",
    "y2 = lm2.predict(X2_test)\n",
    "\n",
    "# Calculate the point density\n",
    "start = timeit.default_timer()\n",
    "xy2 = np.vstack([x2,y2])\n",
    "z2 = gaussian_kde(xy2)(xy2)\n",
    "stop = timeit.default_timer()\n",
    "print 'z:', stop - start\n",
    "\n",
    "# Sort the points by density, so that the densest points are plotted last\n",
    "start = timeit.default_timer()\n",
    "idx = z2.argsort()\n",
    "stop = timeit.default_timer()\n",
    "print 'sort data:', stop - start\n",
    "\n",
    "x2, y2, z2 = x2[idx], y2[idx], z2[idx]\n",
    "fig, ax = plt.subplots()\n",
    "ax.scatter(x2, y2, c=z2, s=5, edgecolor='')\n",
    "\n",
    "plt.axis([0, 130, 0, 130])\n",
    "plt.title('Test dataset: scatter plot colored by density')\n",
    "plt.ylabel('predict')\n",
    "plt.xlabel('observe')\n",
    "\n",
    "plt.show()\n"
   ]
  },
  {
   "cell_type": "markdown",
   "metadata": {},
   "source": [
    "# Regression model enhancement - Stepwide "
   ]
  },
  {
   "cell_type": "code",
   "execution_count": 1,
   "metadata": {
    "collapsed": true
   },
   "outputs": [],
   "source": [
    "def forward_selected(data, response):\n",
    "        \"\"\"Linear model designed by forward selection.\n",
    "\n",
    "    Parameters:\n",
    "    -----------\n",
    "    data : pandas DataFrame with all possible predictors and response\n",
    "\n",
    "    response: string, name of response column in data\n",
    "\n",
    "    Returns:\n",
    "    --------\n",
    "    model: an \"optimal\" fitted statsmodels linear model\n",
    "           with an intercept\n",
    "           selected by forward selection\n",
    "           evaluated by adjusted R-squared\n",
    "    \"\"\"\n",
    "    remaining = set(data.columns)\n",
    "    remaining.remove(response)\n",
    "    selected = []\n",
    "    current_score, best_new_score = 0.0, 0.0\n",
    "    while remaining and current_score == best_new_score:\n",
    "        scores_with_candidates = []\n",
    "        for candidate in remaining:\n",
    "            formula = \"{} ~ {} + 1\".format(response, \n",
    "                                          ' + '.join(selected + [candidate]))\n",
    "            score = smf.ols(formula, data).fit().rsquared_adj\n",
    "            scores_with_candidates.append((score, candidate))\n",
    "        scores_with_candidates.sort()\n",
    "        best_new_score, best_candidate = scores_with_candidates.pop()\n",
    "        if current_score < best_new_score:\n",
    "            remaining.remove(best_candidate)\n",
    "            selected.append(best_candidate)\n",
    "            current_score = best_new_score\n",
    "    formula = \"{} ~ {} + 1\".format(response, \n",
    "                                  ' + '.join(selected))\n",
    "    model = smf.ols(formula, data).fit()\n",
    "    return model "
   ]
  },
  {
   "cell_type": "code",
   "execution_count": 9,
   "metadata": {
    "collapsed": true
   },
   "outputs": [],
   "source": [
    "test_data1 = df_train[['ONS', 'OFFS', 'threedoors_artic', 'twodoors_artic', 'E', 'R', \n",
    "                     'ab_pasg','ma_pasg', 'friction', 'On_twodoors_artic', 'Off_twodoors_artic', \n",
    "                     'on_threedoors_artic', 'off_threedoors_artic', 'on_express', \n",
    "                     'off_express', 'on_rapid', 'off_rapid', 'DOOR_OPEN_SEC']]"
   ]
  },
  {
   "cell_type": "code",
   "execution_count": 10,
   "metadata": {
    "collapsed": false
   },
   "outputs": [],
   "source": [
    "test_model1 = forward_selected(test_data1, 'DOOR_OPEN_SEC')"
   ]
  },
  {
   "cell_type": "code",
   "execution_count": 11,
   "metadata": {
    "collapsed": false
   },
   "outputs": [
    {
     "data": {
      "text/plain": [
       "Intercept               5.744\n",
       "ONS                     3.328\n",
       "OFFS                    1.592\n",
       "on_rapid               -0.880\n",
       "On_twodoors_artic      -0.380\n",
       "ab_pasg                -0.325\n",
       "threedoors_artic        3.350\n",
       "off_rapid              -0.431\n",
       "Off_twodoors_artic     -0.350\n",
       "twodoors_artic          0.676\n",
       "on_express             -0.248\n",
       "friction               -0.064\n",
       "R                      -1.706\n",
       "on_threedoors_artic    -0.295\n",
       "off_express            -0.139\n",
       "E                       0.633\n",
       "off_threedoors_artic   -0.107\n",
       "dtype: float64"
      ]
     },
     "execution_count": 11,
     "metadata": {},
     "output_type": "execute_result"
    }
   ],
   "source": [
    "test_model1.params"
   ]
  },
  {
   "cell_type": "code",
   "execution_count": 12,
   "metadata": {
    "collapsed": false
   },
   "outputs": [
    {
     "data": {
      "text/plain": [
       "Intercept              0.000\n",
       "ONS                    0.000\n",
       "OFFS                   0.000\n",
       "on_rapid               0.000\n",
       "On_twodoors_artic      0.000\n",
       "ab_pasg                0.000\n",
       "threedoors_artic       0.000\n",
       "off_rapid              0.000\n",
       "Off_twodoors_artic     0.000\n",
       "twodoors_artic         0.000\n",
       "on_express             0.000\n",
       "friction               0.000\n",
       "R                      0.000\n",
       "on_threedoors_artic    0.000\n",
       "off_express            0.000\n",
       "E                      0.000\n",
       "off_threedoors_artic   0.001\n",
       "dtype: float64"
      ]
     },
     "execution_count": 12,
     "metadata": {},
     "output_type": "execute_result"
    }
   ],
   "source": [
    "test_model1.pvalues"
   ]
  },
  {
   "cell_type": "code",
   "execution_count": 13,
   "metadata": {
    "collapsed": false
   },
   "outputs": [
    {
     "data": {
      "text/plain": [
       "0.44856315011107251"
      ]
     },
     "execution_count": 13,
     "metadata": {},
     "output_type": "execute_result"
    }
   ],
   "source": [
    "test_model1.rsquared"
   ]
  },
  {
   "cell_type": "markdown",
   "metadata": {},
   "source": [
    "# Step 3: delete express bus "
   ]
  },
  {
   "cell_type": "code",
   "execution_count": 85,
   "metadata": {
    "collapsed": true
   },
   "outputs": [],
   "source": [
    "df_train3 = df_train\n",
    "df_test3 = df_test"
   ]
  },
  {
   "cell_type": "code",
   "execution_count": 86,
   "metadata": {
    "collapsed": false
   },
   "outputs": [
    {
     "data": {
      "text/plain": [
       "Index([u'Unnamed: 0', u'TRIP_ID', u'RTE', u'VEHICLE_ID', u'BUS_TYPE',\n",
       "       u'NUM_DOORS', u'STOP_SEQ', u'STOP_ID', u'DWELL_SEC', u'DOOR_OPEN_SEC',\n",
       "       u'ONS', u'OFFS', u'LOAD', u'date_id', u'capacity', u'Route Type',\n",
       "       u'pre_load', u'downtown_stop', u'Artic', u'twodoors', u'threedoors',\n",
       "       u'twodoors_artic', u'threedoors_artic', u'E', u'R', u'ON+OFF',\n",
       "       u'ma_pasg', u'ab_pasg', u'pre_standees', u'pre_crowding', u'friction',\n",
       "       u'On_twodoors_artic', u'Off_twodoors_artic', u'on_threedoors_artic',\n",
       "       u'off_threedoors_artic', u'on_express', u'off_express', u'on_rapid',\n",
       "       u'off_rapid', u'vehno_date', u'1100.0_1.0', u'1100.0_2.0',\n",
       "       u'1100.0_3.0', u'1100.0_4.0', u'1100.0_5.0', u'1100.0_6.0',\n",
       "       u'1101.0_2.0', u'1101.0_4.0', u'1101.0_5.0', u'1101.0_6.0'],\n",
       "      dtype='object')"
      ]
     },
     "execution_count": 86,
     "metadata": {},
     "output_type": "execute_result"
    }
   ],
   "source": [
    "df_train3.columns[:50]"
   ]
  },
  {
   "cell_type": "code",
   "execution_count": 116,
   "metadata": {
    "collapsed": true
   },
   "outputs": [],
   "source": [
    "X3_train = df_train3[['ONS', 'OFFS', 'threedoors_artic', 'twodoors_artic', 'R', \n",
    "                     'On_twodoors_artic', 'Off_twodoors_artic', \n",
    "                     'on_threedoors_artic', 'off_threedoors_artic',  \n",
    "                      'on_rapid', 'off_rapid', 'friction']]\n",
    "\n",
    "X3_test = df_test3[['ONS', 'OFFS', 'threedoors_artic', 'twodoors_artic', 'R', \n",
    "                     'On_twodoors_artic', 'Off_twodoors_artic', \n",
    "                     'on_threedoors_artic', 'off_threedoors_artic', \n",
    "                      'on_rapid', 'off_rapid', 'friction']]\n",
    "y3_train = df_train3['DOOR_OPEN_SEC']\n",
    "y3_test = df_test3['DOOR_OPEN_SEC']"
   ]
  },
  {
   "cell_type": "code",
   "execution_count": 117,
   "metadata": {
    "collapsed": false
   },
   "outputs": [
    {
     "name": "stdout",
     "output_type": "stream",
     "text": [
      "build model with veh&day ids: 0.450959251088\n"
     ]
    }
   ],
   "source": [
    "start = timeit.default_timer()\n",
    "lm3 = LinearRegression()\n",
    "lm3.fit(X3_train, y3_train)\n",
    "pred_train3 = lm3.predict(X3_train)\n",
    "pred_test3 = lm3.predict(X3_test)\n",
    "LinearRegression(copy_X=True, fit_intercept=True,normalize=False)\n",
    "\n",
    "# Construct a data frame that contains features and estimated coefficients\n",
    "sklearn_results3 = pd.DataFrame(zip(X3_train.columns, lm3.coef_), columns = ['features', 'estimatedCoefficients'])\n",
    "# p-values\n",
    "scores, pvalues = chi2(X3_train, y3_train)\n",
    "sklearn_results3['pvalues'] = pd.DataFrame(pvalues)\n",
    "sklearn_results3['scores'] = pd.DataFrame(scores)\n",
    "\n",
    "stop = timeit.default_timer()\n",
    "print 'build model with veh&day ids:', stop - start"
   ]
  },
  {
   "cell_type": "code",
   "execution_count": 118,
   "metadata": {
    "collapsed": false
   },
   "outputs": [
    {
     "data": {
      "text/html": [
       "<div>\n",
       "<table border=\"1\" class=\"dataframe\">\n",
       "  <thead>\n",
       "    <tr style=\"text-align: right;\">\n",
       "      <th></th>\n",
       "      <th>features</th>\n",
       "      <th>estimatedCoefficients</th>\n",
       "      <th>pvalues</th>\n",
       "      <th>scores</th>\n",
       "    </tr>\n",
       "  </thead>\n",
       "  <tbody>\n",
       "    <tr>\n",
       "      <th>0</th>\n",
       "      <td>ONS</td>\n",
       "      <td>3.122</td>\n",
       "      <td>0.000</td>\n",
       "      <td>433364.730</td>\n",
       "    </tr>\n",
       "    <tr>\n",
       "      <th>1</th>\n",
       "      <td>OFFS</td>\n",
       "      <td>1.379</td>\n",
       "      <td>0.000</td>\n",
       "      <td>139922.262</td>\n",
       "    </tr>\n",
       "    <tr>\n",
       "      <th>2</th>\n",
       "      <td>threedoors_artic</td>\n",
       "      <td>3.358</td>\n",
       "      <td>0.000</td>\n",
       "      <td>2783.779</td>\n",
       "    </tr>\n",
       "    <tr>\n",
       "      <th>3</th>\n",
       "      <td>twodoors_artic</td>\n",
       "      <td>1.018</td>\n",
       "      <td>0.000</td>\n",
       "      <td>1099.346</td>\n",
       "    </tr>\n",
       "    <tr>\n",
       "      <th>4</th>\n",
       "      <td>R</td>\n",
       "      <td>-1.772</td>\n",
       "      <td>0.000</td>\n",
       "      <td>1684.772</td>\n",
       "    </tr>\n",
       "    <tr>\n",
       "      <th>5</th>\n",
       "      <td>On_twodoors_artic</td>\n",
       "      <td>-0.524</td>\n",
       "      <td>0.000</td>\n",
       "      <td>209518.855</td>\n",
       "    </tr>\n",
       "    <tr>\n",
       "      <th>6</th>\n",
       "      <td>Off_twodoors_artic</td>\n",
       "      <td>-0.455</td>\n",
       "      <td>0.000</td>\n",
       "      <td>74483.067</td>\n",
       "    </tr>\n",
       "    <tr>\n",
       "      <th>7</th>\n",
       "      <td>on_threedoors_artic</td>\n",
       "      <td>-0.280</td>\n",
       "      <td>0.000</td>\n",
       "      <td>160967.176</td>\n",
       "    </tr>\n",
       "    <tr>\n",
       "      <th>8</th>\n",
       "      <td>off_threedoors_artic</td>\n",
       "      <td>-0.095</td>\n",
       "      <td>0.000</td>\n",
       "      <td>62761.778</td>\n",
       "    </tr>\n",
       "    <tr>\n",
       "      <th>9</th>\n",
       "      <td>on_rapid</td>\n",
       "      <td>-0.867</td>\n",
       "      <td>0.000</td>\n",
       "      <td>125986.455</td>\n",
       "    </tr>\n",
       "    <tr>\n",
       "      <th>10</th>\n",
       "      <td>off_rapid</td>\n",
       "      <td>-0.395</td>\n",
       "      <td>0.000</td>\n",
       "      <td>47366.765</td>\n",
       "    </tr>\n",
       "    <tr>\n",
       "      <th>11</th>\n",
       "      <td>friction</td>\n",
       "      <td>-0.050</td>\n",
       "      <td>0.000</td>\n",
       "      <td>126115.825</td>\n",
       "    </tr>\n",
       "  </tbody>\n",
       "</table>\n",
       "</div>"
      ],
      "text/plain": [
       "                features  estimatedCoefficients  pvalues     scores\n",
       "0                    ONS                  3.122    0.000 433364.730\n",
       "1                   OFFS                  1.379    0.000 139922.262\n",
       "2       threedoors_artic                  3.358    0.000   2783.779\n",
       "3         twodoors_artic                  1.018    0.000   1099.346\n",
       "4                      R                 -1.772    0.000   1684.772\n",
       "5      On_twodoors_artic                 -0.524    0.000 209518.855\n",
       "6     Off_twodoors_artic                 -0.455    0.000  74483.067\n",
       "7    on_threedoors_artic                 -0.280    0.000 160967.176\n",
       "8   off_threedoors_artic                 -0.095    0.000  62761.778\n",
       "9               on_rapid                 -0.867    0.000 125986.455\n",
       "10             off_rapid                 -0.395    0.000  47366.765\n",
       "11              friction                 -0.050    0.000 126115.825"
      ]
     },
     "execution_count": 118,
     "metadata": {},
     "output_type": "execute_result"
    }
   ],
   "source": [
    "sklearn_results3"
   ]
  },
  {
   "cell_type": "code",
   "execution_count": 121,
   "metadata": {
    "collapsed": false
   },
   "outputs": [
    {
     "name": "stdout",
     "output_type": "stream",
     "text": [
      "0.445387890945\n"
     ]
    }
   ],
   "source": [
    "R3 = r2_score(y3_train, pred_train3) \n",
    "print R3"
   ]
  },
  {
   "cell_type": "code",
   "execution_count": 122,
   "metadata": {
    "collapsed": false
   },
   "outputs": [
    {
     "data": {
      "text/plain": [
       "5.6394167855668638"
      ]
     },
     "execution_count": 122,
     "metadata": {},
     "output_type": "execute_result"
    }
   ],
   "source": [
    "lm3.intercept_ "
   ]
  },
  {
   "cell_type": "code",
   "execution_count": null,
   "metadata": {
    "collapsed": true
   },
   "outputs": [],
   "source": []
  },
  {
   "cell_type": "code",
   "execution_count": null,
   "metadata": {
    "collapsed": true
   },
   "outputs": [],
   "source": []
  },
  {
   "cell_type": "markdown",
   "metadata": {
    "collapsed": true
   },
   "source": [
    "# Step 4: delete express bus and look into rapid bus  "
   ]
  },
  {
   "cell_type": "code",
   "execution_count": 10,
   "metadata": {
    "collapsed": true
   },
   "outputs": [],
   "source": [
    "df_train4 = df_train\n",
    "df_test4 = df_test"
   ]
  },
  {
   "cell_type": "code",
   "execution_count": 13,
   "metadata": {
    "collapsed": false
   },
   "outputs": [
    {
     "data": {
      "text/plain": [
       "Index([u'Unnamed: 0', u'TRIP_ID', u'RTE', u'VEHICLE_ID', u'BUS_TYPE',\n",
       "       u'NUM_DOORS', u'STOP_SEQ', u'STOP_ID', u'DWELL_SEC', u'DOOR_OPEN_SEC',\n",
       "       u'ONS', u'OFFS', u'LOAD', u'date_id', u'capacity', u'Route Type',\n",
       "       u'pre_load', u'downtown_stop', u'Artic', u'twodoors', u'threedoors',\n",
       "       u'twodoors_artic', u'threedoors_artic', u'E', u'R', u'ON+OFF',\n",
       "       u'ma_pasg', u'ab_pasg', u'pre_standees', u'pre_crowding', u'friction',\n",
       "       u'On_twodoors_artic', u'Off_twodoors_artic', u'on_threedoors_artic',\n",
       "       u'off_threedoors_artic', u'on_express', u'off_express', u'on_rapid',\n",
       "       u'off_rapid', u'vehno_date', u'1100.0_1.0', u'1100.0_2.0',\n",
       "       u'1100.0_3.0', u'1100.0_4.0', u'1100.0_5.0', u'1100.0_6.0',\n",
       "       u'1101.0_2.0', u'1101.0_4.0', u'1101.0_5.0', u'1101.0_6.0'],\n",
       "      dtype='object')"
      ]
     },
     "execution_count": 13,
     "metadata": {},
     "output_type": "execute_result"
    }
   ],
   "source": [
    "df_train4.columns[:50]"
   ]
  },
  {
   "cell_type": "code",
   "execution_count": 39,
   "metadata": {
    "collapsed": true
   },
   "outputs": [],
   "source": [
    "df_train4['artic_three_rap'] = df_train4['Artic']*df_train4['threedoors']*df_train4['R']\n",
    "df_test4['artic_three_rap'] = df_test4['Artic']*df_test4['threedoors']*df_test4['R']"
   ]
  },
  {
   "cell_type": "code",
   "execution_count": 29,
   "metadata": {
    "collapsed": false
   },
   "outputs": [],
   "source": [
    "df_train4['on_artic_three_rap'] = df_train4['ONS']*df_train4['Artic']*df_train4['threedoors']*df_train4['R']\n",
    "df_train4['off_artic_three_rap'] = df_train4['OFFS']*df_train4['Artic']*df_train4['threedoors']*df_train4['R']\n",
    "df_train4['on_artic_two'] = df_train4['ONS']*df_train4['Artic']*df_train4['twodoors']\n",
    "df_train4['off_artic_two'] = df_train4['OFFS']*df_train4['Artic']*df_train4['twodoors']"
   ]
  },
  {
   "cell_type": "code",
   "execution_count": 33,
   "metadata": {
    "collapsed": true
   },
   "outputs": [],
   "source": [
    "df_test4['on_artic_three_rap'] = df_test4['ONS']*df_test4['Artic']*df_test4['threedoors']*df_test4['R']\n",
    "df_test4['off_artic_three_rap'] = df_test4['OFFS']*df_test4['Artic']*df_test4['threedoors']*df_test4['R']\n",
    "df_test4['on_artic_two'] = df_test4['ONS']*df_test4['Artic']*df_test4['twodoors']\n",
    "df_test4['off_artic_two'] = df_test4['OFFS']*df_test4['Artic']*df_test4['twodoors']"
   ]
  },
  {
   "cell_type": "code",
   "execution_count": 70,
   "metadata": {
    "collapsed": false
   },
   "outputs": [],
   "source": [
    "df_train4['non_rapid'] = df_train4.apply(lambda x: x['R'] > 0, axis=1).map({False:1, True:0})"
   ]
  },
  {
   "cell_type": "code",
   "execution_count": 71,
   "metadata": {
    "collapsed": false
   },
   "outputs": [],
   "source": [
    "df_test4['non_rapid'] = df_test4.apply(lambda x: x['R'] > 0, axis=1).map({False:1, True:0})"
   ]
  },
  {
   "cell_type": "code",
   "execution_count": 72,
   "metadata": {
    "collapsed": true
   },
   "outputs": [],
   "source": [
    "df_train4['on_artic_three_nonrap'] = df_train4['ONS']*df_train4['Artic']*df_train4['threedoors']*df_train4['non_rapid']\n",
    "df_test4['on_artic_three_nonrap'] = df_test4['ONS']*df_test4['Artic']*df_test4['threedoors']*df_test4['non_rapid']"
   ]
  },
  {
   "cell_type": "code",
   "execution_count": 73,
   "metadata": {
    "collapsed": true
   },
   "outputs": [],
   "source": [
    "df_train4['off_artic_three_nonrap'] = df_train4['OFFS']*df_train4['Artic']*df_train4['threedoors']*df_train4['non_rapid']\n",
    "df_test4['off_artic_three_nonrap'] = df_test4['OFFS']*df_test4['Artic']*df_test4['threedoors']*df_test4['non_rapid']"
   ]
  },
  {
   "cell_type": "code",
   "execution_count": 74,
   "metadata": {
    "collapsed": true
   },
   "outputs": [],
   "source": [
    "df_train4['artic_three_nonrap'] = df_train4['Artic']*df_train4['threedoors']*df_train4['non_rapid']\n",
    "df_test4['artic_three_nonrap'] = df_test4['Artic']*df_test4['threedoors']*df_test4['non_rapid']"
   ]
  },
  {
   "cell_type": "code",
   "execution_count": null,
   "metadata": {
    "collapsed": true
   },
   "outputs": [],
   "source": []
  },
  {
   "cell_type": "code",
   "execution_count": null,
   "metadata": {
    "collapsed": true
   },
   "outputs": [],
   "source": []
  },
  {
   "cell_type": "code",
   "execution_count": 75,
   "metadata": {
    "collapsed": false
   },
   "outputs": [
    {
     "data": {
      "text/plain": [
       "Index([u'9651.0_5.0', u'on_artic_three_rap', u'off_artic_three_rap',\n",
       "       u'on_artic_two', u'off_artic_two', u'artic_three_rap', u'non_rapid',\n",
       "       u'on_artic_three_nonrap', u'off_artic_three_nonrap',\n",
       "       u'artic_three_nonrap'],\n",
       "      dtype='object')"
      ]
     },
     "execution_count": 75,
     "metadata": {},
     "output_type": "execute_result"
    }
   ],
   "source": [
    "df_train4.columns[-10:]"
   ]
  },
  {
   "cell_type": "code",
   "execution_count": 76,
   "metadata": {
    "collapsed": false
   },
   "outputs": [],
   "source": [
    "X4_train = df_train4[['ONS', 'OFFS', 'twodoors_artic', 'artic_three_rap','artic_three_nonrap',\n",
    "                     'friction',\n",
    "                     'on_artic_three_rap', 'off_artic_three_rap','on_artic_two', 'off_artic_two',\n",
    "                     'on_artic_three_nonrap','off_artic_three_nonrap' ]]\n",
    "\n",
    "X4_test = df_test4[['ONS', 'OFFS', 'twodoors_artic',  'artic_three_rap','artic_three_nonrap',\n",
    "                      'friction',\n",
    "                    'on_artic_three_rap', 'off_artic_three_rap','on_artic_two', 'off_artic_two',\n",
    "                   'on_artic_three_nonrap','off_artic_three_nonrap' ]]\n",
    "y4_train = df_train4['DOOR_OPEN_SEC']\n",
    "y4_test = df_test4['DOOR_OPEN_SEC']"
   ]
  },
  {
   "cell_type": "code",
   "execution_count": 77,
   "metadata": {
    "collapsed": false
   },
   "outputs": [
    {
     "name": "stdout",
     "output_type": "stream",
     "text": [
      "build model with veh&day ids: 1.57078723518\n"
     ]
    }
   ],
   "source": [
    "start = timeit.default_timer()\n",
    "lm4 = LinearRegression()\n",
    "lm4.fit(X4_train, y4_train)\n",
    "pred_train4 = lm4.predict(X4_train)\n",
    "pred_test4 = lm4.predict(X4_test)\n",
    "LinearRegression(copy_X=True, fit_intercept=True,normalize=False)\n",
    "\n",
    "# Construct a data frame that contains features and estimated coefficients\n",
    "sklearn_results4 = pd.DataFrame(zip(X4_train.columns, lm4.coef_), columns = ['features', 'estimatedCoefficients'])\n",
    "# p-values\n",
    "scores, pvalues = chi2(X4_train, y4_train)\n",
    "sklearn_results4['pvalues'] = pd.DataFrame(pvalues)\n",
    "sklearn_results4['scores'] = pd.DataFrame(scores)\n",
    "\n",
    "stop = timeit.default_timer()\n",
    "print 'build model with veh&day ids:', stop - start"
   ]
  },
  {
   "cell_type": "code",
   "execution_count": 78,
   "metadata": {
    "collapsed": false
   },
   "outputs": [
    {
     "data": {
      "text/html": [
       "<div>\n",
       "<table border=\"1\" class=\"dataframe\">\n",
       "  <thead>\n",
       "    <tr style=\"text-align: right;\">\n",
       "      <th></th>\n",
       "      <th>features</th>\n",
       "      <th>estimatedCoefficients</th>\n",
       "      <th>pvalues</th>\n",
       "      <th>scores</th>\n",
       "    </tr>\n",
       "  </thead>\n",
       "  <tbody>\n",
       "    <tr>\n",
       "      <th>0</th>\n",
       "      <td>ONS</td>\n",
       "      <td>3.122</td>\n",
       "      <td>0.000</td>\n",
       "      <td>433364.730</td>\n",
       "    </tr>\n",
       "    <tr>\n",
       "      <th>1</th>\n",
       "      <td>OFFS</td>\n",
       "      <td>1.379</td>\n",
       "      <td>0.000</td>\n",
       "      <td>139922.262</td>\n",
       "    </tr>\n",
       "    <tr>\n",
       "      <th>2</th>\n",
       "      <td>twodoors_artic</td>\n",
       "      <td>1.018</td>\n",
       "      <td>0.000</td>\n",
       "      <td>1099.346</td>\n",
       "    </tr>\n",
       "    <tr>\n",
       "      <th>3</th>\n",
       "      <td>artic_three_rap</td>\n",
       "      <td>1.586</td>\n",
       "      <td>0.000</td>\n",
       "      <td>1684.772</td>\n",
       "    </tr>\n",
       "    <tr>\n",
       "      <th>4</th>\n",
       "      <td>artic_three_nonrap</td>\n",
       "      <td>3.358</td>\n",
       "      <td>0.000</td>\n",
       "      <td>3064.325</td>\n",
       "    </tr>\n",
       "    <tr>\n",
       "      <th>5</th>\n",
       "      <td>friction</td>\n",
       "      <td>-0.050</td>\n",
       "      <td>0.000</td>\n",
       "      <td>126115.825</td>\n",
       "    </tr>\n",
       "    <tr>\n",
       "      <th>6</th>\n",
       "      <td>on_artic_three_rap</td>\n",
       "      <td>-1.147</td>\n",
       "      <td>0.000</td>\n",
       "      <td>125986.455</td>\n",
       "    </tr>\n",
       "    <tr>\n",
       "      <th>7</th>\n",
       "      <td>off_artic_three_rap</td>\n",
       "      <td>-0.490</td>\n",
       "      <td>0.000</td>\n",
       "      <td>47366.765</td>\n",
       "    </tr>\n",
       "    <tr>\n",
       "      <th>8</th>\n",
       "      <td>on_artic_two</td>\n",
       "      <td>-0.524</td>\n",
       "      <td>0.000</td>\n",
       "      <td>209518.855</td>\n",
       "    </tr>\n",
       "    <tr>\n",
       "      <th>9</th>\n",
       "      <td>off_artic_two</td>\n",
       "      <td>-0.455</td>\n",
       "      <td>0.000</td>\n",
       "      <td>74483.067</td>\n",
       "    </tr>\n",
       "    <tr>\n",
       "      <th>10</th>\n",
       "      <td>on_artic_three_nonrap</td>\n",
       "      <td>-0.280</td>\n",
       "      <td>0.000</td>\n",
       "      <td>40226.496</td>\n",
       "    </tr>\n",
       "    <tr>\n",
       "      <th>11</th>\n",
       "      <td>off_artic_three_nonrap</td>\n",
       "      <td>-0.095</td>\n",
       "      <td>0.000</td>\n",
       "      <td>18910.441</td>\n",
       "    </tr>\n",
       "  </tbody>\n",
       "</table>\n",
       "</div>"
      ],
      "text/plain": [
       "                  features  estimatedCoefficients  pvalues     scores\n",
       "0                      ONS                  3.122    0.000 433364.730\n",
       "1                     OFFS                  1.379    0.000 139922.262\n",
       "2           twodoors_artic                  1.018    0.000   1099.346\n",
       "3          artic_three_rap                  1.586    0.000   1684.772\n",
       "4       artic_three_nonrap                  3.358    0.000   3064.325\n",
       "5                 friction                 -0.050    0.000 126115.825\n",
       "6       on_artic_three_rap                 -1.147    0.000 125986.455\n",
       "7      off_artic_three_rap                 -0.490    0.000  47366.765\n",
       "8             on_artic_two                 -0.524    0.000 209518.855\n",
       "9            off_artic_two                 -0.455    0.000  74483.067\n",
       "10   on_artic_three_nonrap                 -0.280    0.000  40226.496\n",
       "11  off_artic_three_nonrap                 -0.095    0.000  18910.441"
      ]
     },
     "execution_count": 78,
     "metadata": {},
     "output_type": "execute_result"
    }
   ],
   "source": [
    "sklearn_results4"
   ]
  },
  {
   "cell_type": "code",
   "execution_count": 79,
   "metadata": {
    "collapsed": true
   },
   "outputs": [],
   "source": [
    "#tried put express bus into the model, doesn't make sense\n",
    "X4_train = df_train4[['ONS', 'OFFS', 'twodoors_artic', 'artic_three_rap','artic_three_nonrap',\n",
    "                     'friction','E', 'on_express', 'off_express',\n",
    "                     'on_artic_three_rap', 'off_artic_three_rap','on_artic_two', 'off_artic_two',\n",
    "                     'on_artic_three_nonrap','off_artic_three_nonrap' ]]\n",
    "\n",
    "X4_test = df_test4[['ONS', 'OFFS', 'twodoors_artic',  'artic_three_rap','artic_three_nonrap',\n",
    "                      'friction','E', 'on_express', 'off_express',\n",
    "                    'on_artic_three_rap', 'off_artic_three_rap','on_artic_two', 'off_artic_two',\n",
    "                   'on_artic_three_nonrap','off_artic_three_nonrap' ]]\n",
    "y4_train = df_train4['DOOR_OPEN_SEC']\n",
    "y4_test = df_test4['DOOR_OPEN_SEC']"
   ]
  },
  {
   "cell_type": "code",
   "execution_count": 80,
   "metadata": {
    "collapsed": false
   },
   "outputs": [
    {
     "name": "stdout",
     "output_type": "stream",
     "text": [
      "build model with veh&day ids: 0.508059134023\n"
     ]
    }
   ],
   "source": [
    "start = timeit.default_timer()\n",
    "lm4 = LinearRegression()\n",
    "lm4.fit(X4_train, y4_train)\n",
    "pred_train4 = lm4.predict(X4_train)\n",
    "pred_test4 = lm4.predict(X4_test)\n",
    "LinearRegression(copy_X=True, fit_intercept=True,normalize=False)\n",
    "\n",
    "# Construct a data frame that contains features and estimated coefficients\n",
    "sklearn_results4 = pd.DataFrame(zip(X4_train.columns, lm4.coef_), columns = ['features', 'estimatedCoefficients'])\n",
    "# p-values\n",
    "scores, pvalues = chi2(X4_train, y4_train)\n",
    "sklearn_results4['pvalues'] = pd.DataFrame(pvalues)\n",
    "sklearn_results4['scores'] = pd.DataFrame(scores)\n",
    "\n",
    "stop = timeit.default_timer()\n",
    "print 'build model with veh&day ids:', stop - start"
   ]
  },
  {
   "cell_type": "code",
   "execution_count": 92,
   "metadata": {
    "collapsed": false
   },
   "outputs": [
    {
     "name": "stdout",
     "output_type": "stream",
     "text": [
      "0.446279975467\n"
     ]
    }
   ],
   "source": [
    "R4 = r2_score(y4_train, pred_train4) \n",
    "print R4"
   ]
  },
  {
   "cell_type": "code",
   "execution_count": 82,
   "metadata": {
    "collapsed": false
   },
   "outputs": [
    {
     "data": {
      "text/html": [
       "<div>\n",
       "<table border=\"1\" class=\"dataframe\">\n",
       "  <thead>\n",
       "    <tr style=\"text-align: right;\">\n",
       "      <th></th>\n",
       "      <th>features</th>\n",
       "      <th>estimatedCoefficients</th>\n",
       "      <th>pvalues</th>\n",
       "      <th>scores</th>\n",
       "    </tr>\n",
       "  </thead>\n",
       "  <tbody>\n",
       "    <tr>\n",
       "      <th>0</th>\n",
       "      <td>ONS</td>\n",
       "      <td>3.140</td>\n",
       "      <td>0.000</td>\n",
       "      <td>433364.730</td>\n",
       "    </tr>\n",
       "    <tr>\n",
       "      <th>1</th>\n",
       "      <td>OFFS</td>\n",
       "      <td>1.389</td>\n",
       "      <td>0.000</td>\n",
       "      <td>139922.262</td>\n",
       "    </tr>\n",
       "    <tr>\n",
       "      <th>2</th>\n",
       "      <td>twodoors_artic</td>\n",
       "      <td>0.738</td>\n",
       "      <td>0.000</td>\n",
       "      <td>1099.346</td>\n",
       "    </tr>\n",
       "    <tr>\n",
       "      <th>3</th>\n",
       "      <td>artic_three_rap</td>\n",
       "      <td>1.620</td>\n",
       "      <td>0.000</td>\n",
       "      <td>1684.772</td>\n",
       "    </tr>\n",
       "    <tr>\n",
       "      <th>4</th>\n",
       "      <td>artic_three_nonrap</td>\n",
       "      <td>3.391</td>\n",
       "      <td>0.000</td>\n",
       "      <td>3064.325</td>\n",
       "    </tr>\n",
       "    <tr>\n",
       "      <th>5</th>\n",
       "      <td>friction</td>\n",
       "      <td>-0.048</td>\n",
       "      <td>0.000</td>\n",
       "      <td>126115.825</td>\n",
       "    </tr>\n",
       "    <tr>\n",
       "      <th>6</th>\n",
       "      <td>E</td>\n",
       "      <td>0.715</td>\n",
       "      <td>0.000</td>\n",
       "      <td>1458.303</td>\n",
       "    </tr>\n",
       "    <tr>\n",
       "      <th>7</th>\n",
       "      <td>on_express</td>\n",
       "      <td>-0.302</td>\n",
       "      <td>0.000</td>\n",
       "      <td>134800.037</td>\n",
       "    </tr>\n",
       "    <tr>\n",
       "      <th>8</th>\n",
       "      <td>off_express</td>\n",
       "      <td>-0.180</td>\n",
       "      <td>0.000</td>\n",
       "      <td>50850.591</td>\n",
       "    </tr>\n",
       "    <tr>\n",
       "      <th>9</th>\n",
       "      <td>on_artic_three_rap</td>\n",
       "      <td>-1.165</td>\n",
       "      <td>0.000</td>\n",
       "      <td>125986.455</td>\n",
       "    </tr>\n",
       "    <tr>\n",
       "      <th>10</th>\n",
       "      <td>off_artic_three_rap</td>\n",
       "      <td>-0.500</td>\n",
       "      <td>0.000</td>\n",
       "      <td>47366.765</td>\n",
       "    </tr>\n",
       "    <tr>\n",
       "      <th>11</th>\n",
       "      <td>on_artic_two</td>\n",
       "      <td>-0.395</td>\n",
       "      <td>0.000</td>\n",
       "      <td>209518.855</td>\n",
       "    </tr>\n",
       "    <tr>\n",
       "      <th>12</th>\n",
       "      <td>off_artic_two</td>\n",
       "      <td>-0.376</td>\n",
       "      <td>0.000</td>\n",
       "      <td>74483.067</td>\n",
       "    </tr>\n",
       "    <tr>\n",
       "      <th>13</th>\n",
       "      <td>on_artic_three_nonrap</td>\n",
       "      <td>-0.298</td>\n",
       "      <td>0.000</td>\n",
       "      <td>40226.496</td>\n",
       "    </tr>\n",
       "    <tr>\n",
       "      <th>14</th>\n",
       "      <td>off_artic_three_nonrap</td>\n",
       "      <td>-0.105</td>\n",
       "      <td>0.000</td>\n",
       "      <td>18910.441</td>\n",
       "    </tr>\n",
       "  </tbody>\n",
       "</table>\n",
       "</div>"
      ],
      "text/plain": [
       "                  features  estimatedCoefficients  pvalues     scores\n",
       "0                      ONS                  3.140    0.000 433364.730\n",
       "1                     OFFS                  1.389    0.000 139922.262\n",
       "2           twodoors_artic                  0.738    0.000   1099.346\n",
       "3          artic_three_rap                  1.620    0.000   1684.772\n",
       "4       artic_three_nonrap                  3.391    0.000   3064.325\n",
       "5                 friction                 -0.048    0.000 126115.825\n",
       "6                        E                  0.715    0.000   1458.303\n",
       "7               on_express                 -0.302    0.000 134800.037\n",
       "8              off_express                 -0.180    0.000  50850.591\n",
       "9       on_artic_three_rap                 -1.165    0.000 125986.455\n",
       "10     off_artic_three_rap                 -0.500    0.000  47366.765\n",
       "11            on_artic_two                 -0.395    0.000 209518.855\n",
       "12           off_artic_two                 -0.376    0.000  74483.067\n",
       "13   on_artic_three_nonrap                 -0.298    0.000  40226.496\n",
       "14  off_artic_three_nonrap                 -0.105    0.000  18910.441"
      ]
     },
     "execution_count": 82,
     "metadata": {},
     "output_type": "execute_result"
    }
   ],
   "source": [
    "sklearn_results4"
   ]
  },
  {
   "cell_type": "code",
   "execution_count": 94,
   "metadata": {
    "collapsed": false
   },
   "outputs": [
    {
     "data": {
      "text/plain": [
       "5.6063255653535098"
      ]
     },
     "execution_count": 94,
     "metadata": {},
     "output_type": "execute_result"
    }
   ],
   "source": [
    "lm4.intercept_ "
   ]
  },
  {
   "cell_type": "code",
   "execution_count": null,
   "metadata": {
    "collapsed": true
   },
   "outputs": [],
   "source": []
  },
  {
   "cell_type": "code",
   "execution_count": 61,
   "metadata": {
    "collapsed": false
   },
   "outputs": [],
   "source": [
    "X5_train = df_train4[['ONS', 'OFFS', 'twodoors_artic', 'artic_three_rap',\n",
    "                     'friction', 'ab_pasg', 'ma_pasg',\n",
    "                      'E','on_express', \n",
    "                     'off_express',\n",
    "                     'on_artic_three_rap', 'off_artic_three_rap','on_artic_two', 'off_artic_two' ]]"
   ]
  },
  {
   "cell_type": "code",
   "execution_count": 62,
   "metadata": {
    "collapsed": false
   },
   "outputs": [
    {
     "name": "stderr",
     "output_type": "stream",
     "text": [
      "C:\\Anaconda\\lib\\site-packages\\IPython\\kernel\\__main__.py:3: FutureWarning: order is deprecated, use sort_values(...)\n",
      "  app.launch_new_instance()\n"
     ]
    }
   ],
   "source": [
    "c = X5_train.corr().abs()\n",
    "s = c.unstack()\n",
    "so = s.order(kind=\"quicksort\")"
   ]
  },
  {
   "cell_type": "code",
   "execution_count": 64,
   "metadata": {
    "collapsed": false
   },
   "outputs": [
    {
     "data": {
      "text/plain": [
       "off_artic_three_rap  OFFS                  0.469\n",
       "OFFS                 off_artic_three_rap   0.469\n",
       "off_express          E                     0.471\n",
       "E                    off_express           0.471\n",
       "off_artic_two        ab_pasg               0.494\n",
       "ab_pasg              off_artic_two         0.494\n",
       "off_express          OFFS                  0.497\n",
       "OFFS                 off_express           0.497\n",
       "ma_pasg              off_artic_two         0.508\n",
       "off_artic_two        ma_pasg               0.508\n",
       "artic_three_rap      on_artic_three_rap    0.508\n",
       "on_artic_three_rap   artic_three_rap       0.508\n",
       "on_express           E                     0.511\n",
       "E                    on_express            0.511\n",
       "off_artic_three_rap  artic_three_rap       0.518\n",
       "artic_three_rap      off_artic_three_rap   0.518\n",
       "ONS                  ab_pasg               0.545\n",
       "ab_pasg              ONS                   0.545\n",
       "ONS                  on_artic_three_rap    0.552\n",
       "on_artic_three_rap   ONS                   0.552\n",
       "ONS                  on_artic_two          0.564\n",
       "on_artic_two         ONS                   0.564\n",
       "ab_pasg              OFFS                  0.642\n",
       "OFFS                 ab_pasg               0.642\n",
       "ma_pasg              ONS                   0.650\n",
       "ONS                  ma_pasg               0.650\n",
       "OFFS                 off_artic_two         0.663\n",
       "off_artic_two        OFFS                  0.663\n",
       "on_artic_two         on_express            0.667\n",
       "on_express           on_artic_two          0.667\n",
       "off_artic_two        off_express           0.689\n",
       "off_express          off_artic_two         0.689\n",
       "ma_pasg              OFFS                  0.736\n",
       "OFFS                 ma_pasg               0.736\n",
       "ab_pasg              ma_pasg               0.943\n",
       "ma_pasg              ab_pasg               0.943\n",
       "ONS                  ONS                   1.000\n",
       "off_artic_three_rap  off_artic_three_rap   1.000\n",
       "on_artic_three_rap   on_artic_three_rap    1.000\n",
       "off_express          off_express           1.000\n",
       "on_express           on_express            1.000\n",
       "E                    E                     1.000\n",
       "ma_pasg              ma_pasg               1.000\n",
       "ab_pasg              ab_pasg               1.000\n",
       "friction             friction              1.000\n",
       "artic_three_rap      artic_three_rap       1.000\n",
       "twodoors_artic       twodoors_artic        1.000\n",
       "OFFS                 OFFS                  1.000\n",
       "on_artic_two         on_artic_two          1.000\n",
       "off_artic_two        off_artic_two         1.000\n",
       "dtype: float64"
      ]
     },
     "execution_count": 64,
     "metadata": {},
     "output_type": "execute_result"
    }
   ],
   "source": [
    "so[-50:]"
   ]
  },
  {
   "cell_type": "code",
   "execution_count": null,
   "metadata": {
    "collapsed": true
   },
   "outputs": [],
   "source": []
  },
  {
   "cell_type": "markdown",
   "metadata": {
    "collapsed": true
   },
   "source": [
    "# Plotting Scatter, by appling the dewell time model with the rest 30% data"
   ]
  },
  {
   "cell_type": "code",
   "execution_count": 38,
   "metadata": {
    "collapsed": false
   },
   "outputs": [
    {
     "data": {
      "text/plain": [
       "Index([u'ONS', u'OFFS', u'threedoors_artic', u'twodoors_artic', u'E', u'R',\n",
       "       u'ab_pasg', u'On_twodoors_artic', u'Off_twodoors_artic',\n",
       "       u'on_threedoors_artic', u'off_threedoors_artic', u'on_express',\n",
       "       u'off_express', u'on_rapid', u'off_rapid', u'Dwell_Time_Esti',\n",
       "       u'on+off'],\n",
       "      dtype='object')"
      ]
     },
     "execution_count": 38,
     "metadata": {},
     "output_type": "execute_result"
    }
   ],
   "source": [
    "df_est = []\n",
    "df_est = pd.DataFrame(lm2.predict(X2_test), index = X2_test.index, columns = ['Dwell_Time_Esti'])\n",
    "test = pd.concat([X2_test, df_est], axis=1, join='inner')\n",
    "test['on+off'] = test['ONS']+test['OFFS']\n",
    "test.columns"
   ]
  },
  {
   "cell_type": "code",
   "execution_count": 39,
   "metadata": {
    "collapsed": false
   },
   "outputs": [],
   "source": [
    "#Create dataframe for specific groups\n",
    "test_StandardService = test[(test.threedoors_artic != 1) & (test.twodoors_artic != 1)]\n",
    "test_TwoDoorsArtic = test[(test.twodoors_artic == 1)]\n",
    "test_ThreeDoorsArtic = test[(test.threedoors_artic == 1)]\n",
    "test_RapidRide = test[test.R == 1]\n",
    "test_Express = test[test.E == 1]\n",
    "test_Local = test[(test.R == 0)&(test.E == 0)]\n"
   ]
  },
  {
   "cell_type": "code",
   "execution_count": 40,
   "metadata": {
    "collapsed": false
   },
   "outputs": [
    {
     "name": "stdout",
     "output_type": "stream",
     "text": [
      "31600 31600\n"
     ]
    },
    {
     "data": {
      "image/png": "[encoded data removed]",
      "text/plain": [
       "<matplotlib.figure.Figure at 0x3b70a20>"
      ]
     },
     "metadata": {},
     "output_type": "display_data"
    }
   ],
   "source": [
    "fig, ax = plt.subplots()\n",
    "\n",
    "# plot the data itself\n",
    "x1 = test_TwoDoorsArtic['on+off']\n",
    "y1 = test_TwoDoorsArtic['Dwell_Time_Esti']\n",
    "print len(x1), len(y1)\n",
    "# plot the data itself\n",
    "ax.scatter(x1, y1, color = 'grey')\n",
    "#plot the trend line\n",
    "fit = np.polyfit(x1, y1, deg=1)\n",
    "ax.plot(x1, fit[0] * x1 + fit[1], color='grey', label='Two Door Artic')\n",
    "\n",
    "x2 = test_ThreeDoorsArtic['on+off']\n",
    "y2 = test_ThreeDoorsArtic['Dwell_Time_Esti']\n",
    "# plot the data itself\n",
    "ax.scatter(x2, y2, color = 'black')\n",
    "#plot the trend line\n",
    "fit = np.polyfit(x2, y2, deg=1)\n",
    "ax.plot(x2, fit[0] * x2 + fit[1], color='black', label='Three Door Artic')\n",
    "\n",
    "# plot the data itself\n",
    "x3 = test_StandardService['on+off']\n",
    "y3 = test_StandardService['Dwell_Time_Esti']\n",
    "# plot the data itself\n",
    "ax.scatter(x3, y3, color = 'yellow')\n",
    "#plot the trend line\n",
    "fit = np.polyfit(x3, y3, deg=1)\n",
    "ax.plot(x3, fit[0] * x3 + fit[1], color='yellow', label= 'Regular Service')\n",
    "\n",
    "x4 = test_RapidRide['on+off']\n",
    "y4 = test_RapidRide['Dwell_Time_Esti']\n",
    "# plot the data itself\n",
    "ax.scatter(x4, y4, color = 'red')\n",
    "#plot the trend line\n",
    "fit = np.polyfit(x4, y4, deg=1)\n",
    "ax.plot(x4, fit[0] * x4 + fit[1], color='red', label= 'Rapid Ride')\n",
    "\n",
    "x5 = test_Express['on+off']\n",
    "y5 = test_Express['Dwell_Time_Esti']\n",
    "# plot the data itself\n",
    "ax.scatter(x5, y5, color = 'green')\n",
    "#plot the trend line\n",
    "fit = np.polyfit(x5, y5, deg=1)\n",
    "ax.plot(x5, fit[0] * x5 + fit[1], color='green', label= 'Express')\n",
    "\n",
    "x6 = test_Local['on+off']\n",
    "y6 = test_Local['Dwell_Time_Esti']\n",
    "# plot the data itself\n",
    "ax.scatter(x6, y6, color = 'blue')\n",
    "#plot the trend line\n",
    "fit = np.polyfit(x6, y6, deg=1)\n",
    "ax.plot(x6, fit[0] * x6 + fit[1], color='blue', label= 'Local')\n",
    "\n",
    "\n",
    "\n",
    "plt.xlabel('Ons+Offs')\n",
    "plt.ylabel('Estimated Dwell Time')\n",
    "plt.text(60, .025, r'$\\mu=100,\\ \\sigma=15$')\n",
    "ax.legend(loc='lower right', shadow=True)\n",
    "#plt.figure(figsize=(10,5))\n",
    "pylab.rcParams['figure.figsize'] = (10.0, 8.0)\n",
    "plt.axis([0, 70, 0, 150])\n",
    "\n",
    "fig.show()\n",
    "\n",
    "#three doors trend is exactly as same as rapid ride bus... "
   ]
  },
  {
   "cell_type": "code",
   "execution_count": null,
   "metadata": {
    "collapsed": true
   },
   "outputs": [],
   "source": []
  },
  {
   "cell_type": "code",
   "execution_count": 41,
   "metadata": {
    "collapsed": false
   },
   "outputs": [
    {
     "data": {
      "text/html": [
       "<div>\n",
       "<table border=\"1\" class=\"dataframe\">\n",
       "  <thead>\n",
       "    <tr style=\"text-align: right;\">\n",
       "      <th></th>\n",
       "      <th>ONS</th>\n",
       "      <th>OFFS</th>\n",
       "      <th>threedoors_artic</th>\n",
       "      <th>twodoors_artic</th>\n",
       "      <th>E</th>\n",
       "      <th>R</th>\n",
       "      <th>ab_pasg</th>\n",
       "      <th>On_twodoors_artic</th>\n",
       "      <th>Off_twodoors_artic</th>\n",
       "      <th>on_threedoors_artic</th>\n",
       "      <th>off_threedoors_artic</th>\n",
       "      <th>on_express</th>\n",
       "      <th>off_express</th>\n",
       "      <th>on_rapid</th>\n",
       "      <th>off_rapid</th>\n",
       "      <th>Dwell_Time_Esti</th>\n",
       "    </tr>\n",
       "  </thead>\n",
       "  <tbody>\n",
       "    <tr>\n",
       "      <th>0</th>\n",
       "      <td>7.000</td>\n",
       "      <td>0.000</td>\n",
       "      <td>0</td>\n",
       "      <td>0</td>\n",
       "      <td>0.000</td>\n",
       "      <td>0.000</td>\n",
       "      <td>7.000</td>\n",
       "      <td>0.000</td>\n",
       "      <td>0.000</td>\n",
       "      <td>0.000</td>\n",
       "      <td>0.000</td>\n",
       "      <td>0.000</td>\n",
       "      <td>0.000</td>\n",
       "      <td>0.000</td>\n",
       "      <td>0.000</td>\n",
       "      <td>26.768</td>\n",
       "    </tr>\n",
       "    <tr>\n",
       "      <th>1</th>\n",
       "      <td>3.000</td>\n",
       "      <td>1.000</td>\n",
       "      <td>0</td>\n",
       "      <td>0</td>\n",
       "      <td>0.000</td>\n",
       "      <td>0.000</td>\n",
       "      <td>2.000</td>\n",
       "      <td>0.000</td>\n",
       "      <td>0.000</td>\n",
       "      <td>0.000</td>\n",
       "      <td>0.000</td>\n",
       "      <td>0.000</td>\n",
       "      <td>0.000</td>\n",
       "      <td>0.000</td>\n",
       "      <td>0.000</td>\n",
       "      <td>16.654</td>\n",
       "    </tr>\n",
       "    <tr>\n",
       "      <th>2</th>\n",
       "      <td>1.000</td>\n",
       "      <td>0.000</td>\n",
       "      <td>0</td>\n",
       "      <td>0</td>\n",
       "      <td>0.000</td>\n",
       "      <td>0.000</td>\n",
       "      <td>1.000</td>\n",
       "      <td>0.000</td>\n",
       "      <td>0.000</td>\n",
       "      <td>0.000</td>\n",
       "      <td>0.000</td>\n",
       "      <td>0.000</td>\n",
       "      <td>0.000</td>\n",
       "      <td>0.000</td>\n",
       "      <td>0.000</td>\n",
       "      <td>8.757</td>\n",
       "    </tr>\n",
       "    <tr>\n",
       "      <th>3</th>\n",
       "      <td>16.000</td>\n",
       "      <td>0.000</td>\n",
       "      <td>0</td>\n",
       "      <td>0</td>\n",
       "      <td>0.000</td>\n",
       "      <td>0.000</td>\n",
       "      <td>16.000</td>\n",
       "      <td>0.000</td>\n",
       "      <td>0.000</td>\n",
       "      <td>0.000</td>\n",
       "      <td>0.000</td>\n",
       "      <td>0.000</td>\n",
       "      <td>0.000</td>\n",
       "      <td>0.000</td>\n",
       "      <td>0.000</td>\n",
       "      <td>53.784</td>\n",
       "    </tr>\n",
       "    <tr>\n",
       "      <th>4</th>\n",
       "      <td>4.000</td>\n",
       "      <td>0.000</td>\n",
       "      <td>0</td>\n",
       "      <td>0</td>\n",
       "      <td>0.000</td>\n",
       "      <td>0.000</td>\n",
       "      <td>4.000</td>\n",
       "      <td>0.000</td>\n",
       "      <td>0.000</td>\n",
       "      <td>0.000</td>\n",
       "      <td>0.000</td>\n",
       "      <td>0.000</td>\n",
       "      <td>0.000</td>\n",
       "      <td>0.000</td>\n",
       "      <td>0.000</td>\n",
       "      <td>17.762</td>\n",
       "    </tr>\n",
       "  </tbody>\n",
       "</table>\n",
       "</div>"
      ],
      "text/plain": [
       "     ONS  OFFS  threedoors_artic  twodoors_artic     E     R  ab_pasg  \\\n",
       "0  7.000 0.000                 0               0 0.000 0.000    7.000   \n",
       "1  3.000 1.000                 0               0 0.000 0.000    2.000   \n",
       "2  1.000 0.000                 0               0 0.000 0.000    1.000   \n",
       "3 16.000 0.000                 0               0 0.000 0.000   16.000   \n",
       "4  4.000 0.000                 0               0 0.000 0.000    4.000   \n",
       "\n",
       "   On_twodoors_artic  Off_twodoors_artic  on_threedoors_artic  \\\n",
       "0              0.000               0.000                0.000   \n",
       "1              0.000               0.000                0.000   \n",
       "2              0.000               0.000                0.000   \n",
       "3              0.000               0.000                0.000   \n",
       "4              0.000               0.000                0.000   \n",
       "\n",
       "   off_threedoors_artic  on_express  off_express  on_rapid  off_rapid  \\\n",
       "0                 0.000       0.000        0.000     0.000      0.000   \n",
       "1                 0.000       0.000        0.000     0.000      0.000   \n",
       "2                 0.000       0.000        0.000     0.000      0.000   \n",
       "3                 0.000       0.000        0.000     0.000      0.000   \n",
       "4                 0.000       0.000        0.000     0.000      0.000   \n",
       "\n",
       "   Dwell_Time_Esti  \n",
       "0           26.768  \n",
       "1           16.654  \n",
       "2            8.757  \n",
       "3           53.784  \n",
       "4           17.762  "
      ]
     },
     "execution_count": 41,
     "metadata": {},
     "output_type": "execute_result"
    }
   ],
   "source": [
    "#Estimate dwell time for the 'test' dataset\n",
    "df_est = []\n",
    "df_est = pd.DataFrame(lm2.predict(X2_test), index = X2_test.index, columns = ['Dwell_Time_Esti'])\n",
    "test = pd.concat([X2_test, df_est], axis=1, join='inner')\n",
    "test.head()"
   ]
  },
  {
   "cell_type": "code",
   "execution_count": 42,
   "metadata": {
    "collapsed": false
   },
   "outputs": [
    {
     "data": {
      "text/plain": [
       "Index([u'ONS', u'OFFS', u'threedoors_artic', u'twodoors_artic', u'E', u'R',\n",
       "       u'ab_pasg', u'On_twodoors_artic', u'Off_twodoors_artic',\n",
       "       u'on_threedoors_artic', u'off_threedoors_artic', u'on_express',\n",
       "       u'off_express', u'on_rapid', u'off_rapid', u'Dwell_Time_Esti'],\n",
       "      dtype='object')"
      ]
     },
     "execution_count": 42,
     "metadata": {},
     "output_type": "execute_result"
    }
   ],
   "source": [
    "test.columns"
   ]
  },
  {
   "cell_type": "code",
   "execution_count": 44,
   "metadata": {
    "collapsed": false
   },
   "outputs": [
    {
     "name": "stdout",
     "output_type": "stream",
     "text": [
      "31600 31600\n"
     ]
    },
    {
     "data": {
      "image/png": "[encoded data removed]",
      "text/plain": [
       "<matplotlib.figure.Figure at 0x39aa8d30>"
      ]
     },
     "metadata": {},
     "output_type": "display_data"
    }
   ],
   "source": [
    "fig, ax = plt.subplots()\n",
    "\n",
    "# plot the data itself\n",
    "x1 = test_TwoDoorsArtic['on+off']\n",
    "y1 = test_TwoDoorsArtic['Dwell_Time_Esti']\n",
    "print len(x1), len(y1)\n",
    "# plot the data itself\n",
    "ax.scatter(x1, y1, color = 'grey')\n",
    "#plot the trend line\n",
    "fit = np.polyfit(x1, y1, deg=1)\n",
    "ax.plot(x1, fit[0] * x1 + fit[1], color='grey', label='Two Door Artic')\n",
    "\n",
    "x2 = test_ThreeDoorsArtic['on+off']\n",
    "y2 = test_ThreeDoorsArtic['Dwell_Time_Esti']\n",
    "# plot the data itself\n",
    "ax.scatter(x2, y2, color = 'black')\n",
    "#plot the trend line\n",
    "fit = np.polyfit(x2, y2, deg=1)\n",
    "ax.plot(x2, fit[0] * x2 + fit[1], color='black', label='Three Door Artic')\n",
    "\n",
    "# plot the data itself\n",
    "x3 = test_StandardService['on+off']\n",
    "y3 = test_StandardService['Dwell_Time_Esti']\n",
    "# plot the data itself\n",
    "ax.scatter(x3, y3, color = 'yellow')\n",
    "#plot the trend line\n",
    "fit = np.polyfit(x3, y3, deg=1)\n",
    "ax.plot(x3, fit[0] * x3 + fit[1], color='yellow', label= 'Regular Service')\n",
    "\n",
    "x4 = test_RapidRide['on+off']\n",
    "y4 = test_RapidRide['Dwell_Time_Esti']\n",
    "# plot the data itself\n",
    "ax.scatter(x4, y4, color = 'red')\n",
    "#plot the trend line\n",
    "fit = np.polyfit(x4, y4, deg=1)\n",
    "ax.plot(x4, fit[0] * x4 + fit[1], color='red', label= 'Rapid Ride')\n",
    "\n",
    "x5 = test_Express['on+off']\n",
    "y5 = test_Express['Dwell_Time_Esti']\n",
    "# plot the data itself\n",
    "ax.scatter(x5, y5, color = 'green')\n",
    "#plot the trend line\n",
    "fit = np.polyfit(x5, y5, deg=1)\n",
    "ax.plot(x5, fit[0] * x5 + fit[1], color='green', label= 'Express')\n",
    "\n",
    "x6 = test_Local['on+off']\n",
    "y6 = test_Local['Dwell_Time_Esti']\n",
    "# plot the data itself\n",
    "ax.scatter(x6, y6, color = 'blue')\n",
    "#plot the trend line\n",
    "fit = np.polyfit(x6, y6, deg=1)\n",
    "ax.plot(x6, fit[0] * x6 + fit[1], color='blue', label= 'Local')\n",
    "\n",
    "\n",
    "\n",
    "plt.xlabel('Ons+Offs')\n",
    "plt.ylabel('Estimated Dwell Time')\n",
    "plt.text(60, .025, r'$\\mu=100,\\ \\sigma=15$')\n",
    "ax.legend(loc='lower right', shadow=True)\n",
    "#plt.figure(figsize=(10,5))\n",
    "pylab.rcParams['figure.figsize'] = (10.0, 8.0)\n",
    "plt.axis([0, 70, 0, 150])\n",
    "\n",
    "fig.show()\n",
    "\n",
    "#three doors trend is exactly as same as rapid ride bus... "
   ]
  },
  {
   "cell_type": "code",
   "execution_count": null,
   "metadata": {
    "collapsed": false
   },
   "outputs": [],
   "source": [
    "print 'end'"
   ]
  },
  {
   "cell_type": "code",
   "execution_count": null,
   "metadata": {
    "collapsed": true
   },
   "outputs": [],
   "source": []
  }
 ],
 "metadata": {
  "kernelspec": {
   "display_name": "Python 2",
   "language": "python",
   "name": "python2"
  },
  "language_info": {
   "codemirror_mode": {
    "name": "ipython",
    "version": 2
   },
   "file_extension": ".py",
   "mimetype": "text/x-python",
   "name": "python",
   "nbconvert_exporter": "python",
   "pygments_lexer": "ipython2",
   "version": "2.7.11"
  }
 },
 "nbformat": 4,
 "nbformat_minor": 0
}
