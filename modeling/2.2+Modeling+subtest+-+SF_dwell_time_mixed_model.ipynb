{
 "cells": [
  {
   "cell_type": "code",
   "execution_count": 1,
   "metadata": {
    "collapsed": true
   },
   "outputs": [],
   "source": [
    "import pandas as pd\n",
    "import numpy as np\n",
    "import statsmodels.formula.api as smf\n",
    "import matplotlib.pyplot as plt\n",
    "import pylab\n",
    "import glob, os\n",
    "import scipy.stats as stats\n",
    "from scipy.stats import gaussian_kde\n",
    "import sklearn\n",
    "from sklearn.linear_model import LinearRegression\n",
    "from sklearn.feature_selection import chi2\n",
    "from sklearn.metrics import r2_score\n",
    "import timeit\n",
    "%matplotlib inline"
   ]
  },
  {
   "cell_type": "code",
   "execution_count": 2,
   "metadata": {
    "collapsed": false
   },
   "outputs": [],
   "source": [
    "# Format to remove scientific notation\n",
    "pd.set_option('display.float_format', lambda x: '%.3f' % x)"
   ]
  },
  {
   "cell_type": "markdown",
   "metadata": {},
   "source": [
    "# options of samples"
   ]
  },
  {
   "cell_type": "raw",
   "metadata": {},
   "source": [
    "2015 only has Spring data: from late April to early June"
   ]
  },
  {
   "cell_type": "code",
   "execution_count": 3,
   "metadata": {
    "collapsed": false
   },
   "outputs": [
    {
     "name": "stderr",
     "output_type": "stream",
     "text": [
      "C:\\Anaconda\\lib\\site-packages\\IPython\\core\\interactiveshell.py:2868: DtypeWarning: Columns (72,75,77,83,117) have mixed types. Specify dtype option on import or set low_memory=False.\n",
      "  interactivity=interactivity, compiler=compiler, result=result)\n"
     ]
    }
   ],
   "source": [
    "Sample = pd.read_csv('R:/Angela/fast_trips/2015SampleDataSpring_6day.csv')"
   ]
  },
  {
   "cell_type": "code",
   "execution_count": 48,
   "metadata": {
    "collapsed": false
   },
   "outputs": [
    {
     "data": {
      "text/plain": [
       "3179"
      ]
     },
     "execution_count": 48,
     "metadata": {},
     "output_type": "execute_result"
    }
   ],
   "source": [
    "len(np.unique(Sample.QSTOP))"
   ]
  },
  {
   "cell_type": "code",
   "execution_count": 51,
   "metadata": {
    "collapsed": false
   },
   "outputs": [
    {
     "data": {
      "text/plain": [
       "284"
      ]
     },
     "execution_count": 51,
     "metadata": {},
     "output_type": "execute_result"
    }
   ],
   "source": [
    "len(np.unique(Sample.VEHNO))"
   ]
  },
  {
   "cell_type": "markdown",
   "metadata": {},
   "source": [
    "#my_data"
   ]
  },
  {
   "cell_type": "code",
   "execution_count": 5,
   "metadata": {
    "collapsed": true
   },
   "outputs": [],
   "source": [
    "my_data = Sample"
   ]
  },
  {
   "cell_type": "raw",
   "metadata": {},
   "source": [
    "keep the useful columns, save CPU memory"
   ]
  },
  {
   "cell_type": "code",
   "execution_count": 52,
   "metadata": {
    "collapsed": true
   },
   "outputs": [],
   "source": [
    "def data_content(data):\n",
    "    data = data[['ON', 'OFF', 'VEHNO', 'ANAME', 'QSTOP','STOPA', 'YR', 'HR', 'MIN', 'SEC', 'DHR', 'DMIN', 'DSEC', 'ROUTE', 'LOAD', 'date_id']]\n",
    "    return data"
   ]
  },
  {
   "cell_type": "code",
   "execution_count": 53,
   "metadata": {
    "collapsed": false
   },
   "outputs": [
    {
     "data": {
      "text/plain": [
       "(494613, 16)"
      ]
     },
     "execution_count": 53,
     "metadata": {},
     "output_type": "execute_result"
    }
   ],
   "source": [
    "test = data_content(my_data)\n",
    "test.shape"
   ]
  },
  {
   "cell_type": "markdown",
   "metadata": {},
   "source": [
    "#Prepare bus info"
   ]
  },
  {
   "cell_type": "code",
   "execution_count": 55,
   "metadata": {
    "collapsed": false
   },
   "outputs": [],
   "source": [
    "vehicles = pd.read_csv(r'R:\\Angela\\fast_trips\\Vehicles.csv')\n",
    "fleet = pd.read_csv(r'R:\\Angela\\fast_trips\\Copy of Fleet.csv')\n",
    "\n",
    "# Artic\n",
    "vehicles.Artic = vehicles.Length.map({\"60'\" : 1, \"40'\" : 0, \"30'\" : 0})\n",
    "vehicles.loc[:,'Artic'] = pd.Series(vehicles.Artic, index=vehicles.index)\n",
    "df_artic = vehicles.set_index('Equip_Type').to_dict()['Artic']\n",
    "fleet['Artic'] = fleet['Equip_Type'].map(df_artic)\n",
    "df_vehnum_artic = fleet.set_index('VehNum').to_dict()['Artic']\n",
    "\n",
    "# Low Floor\n",
    "vehicles.Floor = vehicles['Low Floor'].map({'Y': 1, 'N' : 0})\n",
    "vehicles.loc[:,'Floor'] = pd.Series(vehicles.Floor, index=vehicles.index)\n",
    "df_floor = vehicles.set_index('Equip_Type').to_dict()['Floor']\n",
    "fleet['Floor'] = fleet['Equip_Type'].map(df_floor)\n",
    "df_vehnum_floor = fleet.set_index('VehNum').to_dict()['Floor']\n",
    "\n",
    "# Door\n",
    "df_doors = vehicles.set_index('Equip_Type').to_dict()['Doors']\n",
    "fleet['Doors'] = fleet['Equip_Type'].map(df_doors)\n",
    "df_vehnum_doors = fleet.set_index('VehNum').to_dict()['Doors']\n",
    "\n",
    "# Capacity\n",
    "vehicles.loc[:,'Total Capacity'] = pd.Series(vehicles['Total Capacity'], index=vehicles.index)\n",
    "df_capacity = vehicles.set_index('Equip_Type').to_dict()['Total Capacity']\n",
    "fleet['capacity'] = fleet['Equip_Type'].map(df_capacity)\n",
    "df_vehnum_capacity = fleet.set_index('VehNum').to_dict()['capacity']"
   ]
  },
  {
   "cell_type": "markdown",
   "metadata": {},
   "source": [
    "# Prepare route type"
   ]
  },
  {
   "cell_type": "code",
   "execution_count": 56,
   "metadata": {
    "collapsed": true
   },
   "outputs": [],
   "source": [
    "route_type = pd.read_csv(r'R:\\Angela\\fast_trips\\MuniRouteTypes.csv')\n",
    "route_type = route_type.dropna()\n",
    "dict_route_type = {}\n",
    "dict_route_type = route_type.set_index('APC Route ID')['Type'].to_dict()"
   ]
  },
  {
   "cell_type": "markdown",
   "metadata": {},
   "source": [
    "#Step1: Prepare basic variables"
   ]
  },
  {
   "cell_type": "code",
   "execution_count": 57,
   "metadata": {
    "collapsed": false
   },
   "outputs": [],
   "source": [
    "def get_x_y(data):\n",
    "    start = timeit.default_timer()\n",
    "    # Before cleaning records, get the load data from the previous stop\n",
    "    data['pre_load'] = data['LOAD'].shift()\n",
    "\n",
    "    # Get rid of rows where certain fields has null/nan values\n",
    "    data = data.dropna(subset = ['ON', 'OFF', 'VEHNO'])\n",
    "    data = data[data['ON'] + data['OFF'] != 0]\n",
    "\n",
    "    # COMPUTE TIMESTOP=((HR * 3600) + (MIN * 60) + SEC)\n",
    "    start = timeit.default_timer()\n",
    "    data['COMPUTE_TIMESTOP'] = data['HR']*3600 + data['MIN']*60 + data['SEC']\n",
    "    # COMPUTE DOORCLOSE=(( DHR * 3600) + (DMIN * 60) + DSEC)\n",
    "    data['COMPUTE_DOORCOLSE'] = data['DHR']*3600 + data['DMIN']*60 + data['DSEC']\n",
    "    # COMPUTE DOORDWELL=DOORCLOSE - TIMESTOP\n",
    "    data['COMPUTE_DOORDWELL'] = data['COMPUTE_DOORCOLSE'] - data['COMPUTE_TIMESTOP']\n",
    "    # Appling door dwell time less than 120 secs\n",
    "    data = data.loc[data['COMPUTE_DOORDWELL'] <= 120]\n",
    "    data = data[data['COMPUTE_DOORDWELL'] != 0]\n",
    "    stop = timeit.default_timer()\n",
    "    print 'compute dwell time:', stop - start\n",
    "\n",
    "    # Keep rows that satisfy a query:\n",
    "    start = timeit.default_timer()\n",
    "    data['Doors'] = data['VEHNO'].map(df_vehnum_doors) \n",
    "    data['Artic'] = data['VEHNO'].map(df_vehnum_artic)\n",
    "    data['Floor'] = data['VEHNO'].map(df_vehnum_floor)\n",
    "    data['capacity'] = data['VEHNO'].map(df_vehnum_capacity)\n",
    "    data['two_doors'] = data['Doors'].map({2: 1, 3: 0})\n",
    "    data['three_doors'] = data['Doors'].map({2: 0, 3: 1})\n",
    "    \n",
    "    # Create dummie variables for route id\n",
    "    data['Route Type'] = data['ROUTE'].map(dict_route_type)\n",
    "    just_dummies_route = pd.get_dummies(data['Route Type'])\n",
    "    step_1 = pd.concat([data, just_dummies_route], axis=1)\n",
    "    step_1.drop(['Local'], inplace=True, axis=1)\n",
    "    data = step_1\n",
    "    stop = timeit.default_timer()\n",
    "    print 'add veh&route info:', stop - start\n",
    "\n",
    "    # Create interaction variables\n",
    "    start = timeit.default_timer()\n",
    "    data['on_threedoors'] = data['ON']*data['three_doors']\n",
    "    data['off_threedoors'] = data['OFF']*data['three_doors']\n",
    "    data['on_floor'] = data['ON']*data['Floor']\n",
    "    data['off_floor'] = data['OFF']*data['Floor']\n",
    "    data['floor_threedoors'] = data['Floor']*data['three_doors']\n",
    "    data['floor_twodoors'] = data['Floor']*data['two_doors']\n",
    "    data['on_express'] = data['ON']*data['Express']\n",
    "    data['off_express'] = data['OFF']*data['Express']\n",
    "    data['on_rapid'] = data['ON']*data['Rapid']\n",
    "    data['off_rapid'] = data['OFF']*data['Rapid']\n",
    "    data['on_owl'] = data['ON']*data['OWL']\n",
    "    data['off_owl'] = data['OFF']*data['OWL']\n",
    "    stop = timeit.default_timer()\n",
    "    print 'add interaction variables:', stop - start\n",
    "\n",
    "    return data"
   ]
  },
  {
   "cell_type": "markdown",
   "metadata": {},
   "source": [
    "## Step2: Adding more passenger activity variables"
   ]
  },
  {
   "cell_type": "code",
   "execution_count": 58,
   "metadata": {
    "collapsed": true
   },
   "outputs": [],
   "source": [
    "def passenger_var(data):\n",
    "    start = timeit.default_timer()\n",
    "    data['max_pasg'] = data[['ON', 'OFF']].max(axis=1)\n",
    "    print 'data shape:', data.shape\n",
    "    data['abs_pasg'] = (data['ON'] - data['OFF']).abs()\n",
    "    print 'data shape:', data.shape\n",
    "    \n",
    "    # A passenger friction factor was constructed to account for passenger activity on buses with standees. \n",
    "    # It was posited that heavily loaded buses have greater dwell times. \n",
    "    # STANDEES are the number of passengers when LOAD minus 60% of bus capacity is positive. \n",
    "    data['pre_standees']= data['pre_load'] - 0.60 * data['capacity']\n",
    "    data['pre_crowding']= data.apply(lambda x: x['pre_standees'] > 0, axis=1).map({False: 0, True: 1})\n",
    "    # A proxy variable was constructed by adding ONS, OFFS, and STANDEES.\n",
    "    data['friction'] = ((data['ON'] + data['OFF'] + (data['pre_standees']).abs()) * data['pre_crowding']).abs()\n",
    "    print 'data shape:', data.shape\n",
    "    stop = timeit.default_timer()\n",
    "    print 'add passenger activity variables:', stop - start\n",
    "\n",
    "    # Remove the corner data, which is the first and last stop data\n",
    "    start = timeit.default_timer()\n",
    "    data['eol'] = data.apply(lambda x: '- EOL' in x['ANAME'], axis=1).map({False: 1, True: 0})\n",
    "    # Remove the last stop\n",
    "    data = data.loc[data['eol'] == 1]\n",
    "    # Remove the first stop\n",
    "    data = data.loc[data['STOPA'] != 1]\n",
    "    stop = timeit.default_timer()\n",
    "    print 'remove corner data:', stop - start\n",
    "    \n",
    "    return data"
   ]
  },
  {
   "cell_type": "code",
   "execution_count": 59,
   "metadata": {
    "collapsed": false,
    "scrolled": true
   },
   "outputs": [
    {
     "name": "stdout",
     "output_type": "stream",
     "text": [
      "compute dwell time: 0.139913834817\n",
      "add veh&route info: 0.342111339811\n",
      "add interaction variables: 0.0289090743863\n"
     ]
    },
    {
     "name": "stderr",
     "output_type": "stream",
     "text": [
      "C:\\Anaconda\\lib\\site-packages\\IPython\\kernel\\__main__.py:4: SettingWithCopyWarning: \n",
      "A value is trying to be set on a copy of a slice from a DataFrame.\n",
      "Try using .loc[row_indexer,col_indexer] = value instead\n",
      "\n",
      "See the caveats in the documentation: http://pandas.pydata.org/pandas-docs/stable/indexing.html#indexing-view-versus-copy\n"
     ]
    }
   ],
   "source": [
    "step1 = get_x_y(test)"
   ]
  },
  {
   "cell_type": "code",
   "execution_count": 60,
   "metadata": {
    "collapsed": false,
    "scrolled": false
   },
   "outputs": [
    {
     "name": "stdout",
     "output_type": "stream",
     "text": [
      "data shape: (272383, 43)\n",
      "data shape: (272383, 44)\n",
      "data shape: (272383, 47)\n",
      "add passenger activity variables: 4.05109511525\n",
      "remove corner data: 4.09343878653\n"
     ]
    }
   ],
   "source": [
    "step2 = passenger_var(step1)"
   ]
  },
  {
   "cell_type": "code",
   "execution_count": 74,
   "metadata": {
    "collapsed": true
   },
   "outputs": [],
   "source": [
    "data = step2"
   ]
  },
  {
   "cell_type": "code",
   "execution_count": 75,
   "metadata": {
    "collapsed": true
   },
   "outputs": [],
   "source": [
    "# Create vehicleID & date column\n",
    "data['vehno_date'] = data.VEHNO.astype(str) + '_' + data.date_id.astype(str)"
   ]
  },
  {
   "cell_type": "markdown",
   "metadata": {},
   "source": [
    "# Create training (70%) and validating (30%) dataset "
   ]
  },
  {
   "cell_type": "code",
   "execution_count": 76,
   "metadata": {
    "collapsed": false
   },
   "outputs": [],
   "source": [
    "msk = np.random.rand(len(data)) < 0.7\n",
    "df_train = data[msk]\n",
    "df_test = data[~msk]"
   ]
  },
  {
   "cell_type": "code",
   "execution_count": 77,
   "metadata": {
    "collapsed": false
   },
   "outputs": [],
   "source": [
    "df_train = df_train.dropna()\n",
    "df_test = df_test.dropna()"
   ]
  },
  {
   "cell_type": "code",
   "execution_count": 78,
   "metadata": {
    "collapsed": false
   },
   "outputs": [
    {
     "name": "stdout",
     "output_type": "stream",
     "text": [
      "(188623, 49)\n",
      "(80984, 49)\n"
     ]
    }
   ],
   "source": [
    "print df_train.shape\n",
    "print df_test.shape"
   ]
  },
  {
   "cell_type": "code",
   "execution_count": 79,
   "metadata": {
    "collapsed": false
   },
   "outputs": [
    {
     "data": {
      "text/plain": [
       "Index([u'ON', u'OFF', u'VEHNO', u'ANAME', u'QSTOP', u'STOPA', u'YR', u'HR',\n",
       "       u'MIN', u'SEC', u'DHR', u'DMIN', u'DSEC', u'ROUTE', u'LOAD', u'date_id',\n",
       "       u'pre_load', u'COMPUTE_TIMESTOP', u'COMPUTE_DOORCOLSE',\n",
       "       u'COMPUTE_DOORDWELL', u'Doors', u'Artic', u'Floor', u'capacity',\n",
       "       u'two_doors', u'three_doors', u'Route Type', u'Express', u'OWL',\n",
       "       u'Rapid', u'on_threedoors', u'off_threedoors', u'on_floor',\n",
       "       u'off_floor', u'floor_threedoors', u'floor_twodoors', u'on_express',\n",
       "       u'off_express', u'on_rapid', u'off_rapid', u'on_owl', u'off_owl',\n",
       "       u'max_pasg', u'abs_pasg', u'pre_standees', u'pre_crowding', u'friction',\n",
       "       u'eol', u'vehno_date'],\n",
       "      dtype='object')"
      ]
     },
     "execution_count": 79,
     "metadata": {},
     "output_type": "execute_result"
    }
   ],
   "source": [
    "df_train.columns"
   ]
  },
  {
   "cell_type": "markdown",
   "metadata": {},
   "source": [
    "Note: Passenger activity variables: on, off, friction"
   ]
  },
  {
   "cell_type": "markdown",
   "metadata": {},
   "source": [
    "# 1. Linear regression model with basic vairables"
   ]
  },
  {
   "cell_type": "code",
   "execution_count": 83,
   "metadata": {
    "collapsed": false
   },
   "outputs": [
    {
     "name": "stdout",
     "output_type": "stream",
     "text": [
      "                            OLS Regression Results                            \n",
      "==============================================================================\n",
      "Dep. Variable:      COMPUTE_DOORDWELL   R-squared:                       0.248\n",
      "Model:                            OLS   Adj. R-squared:                  0.248\n",
      "Method:                 Least Squares   F-statistic:                     8868.\n",
      "Date:                Thu, 17 Mar 2016   Prob (F-statistic):               0.00\n",
      "Time:                        15:34:35   Log-Likelihood:            -7.7312e+05\n",
      "No. Observations:              188623   AIC:                         1.546e+06\n",
      "Df Residuals:                  188615   BIC:                         1.546e+06\n",
      "Df Model:                           7                                         \n",
      "Covariance Type:            nonrobust                                         \n",
      "===============================================================================\n",
      "                  coef    std err          t      P>|t|      [95.0% Conf. Int.]\n",
      "-------------------------------------------------------------------------------\n",
      "Intercept      11.8906      0.059    201.333      0.000        11.775    12.006\n",
      "ON              2.0529      0.011    193.264      0.000         2.032     2.074\n",
      "OFF             1.3366      0.011    123.594      0.000         1.315     1.358\n",
      "Floor          -3.6509      0.079    -46.327      0.000        -3.805    -3.496\n",
      "three_doors    -1.3431      0.089    -15.121      0.000        -1.517    -1.169\n",
      "Express        -2.8790      0.187    -15.424      0.000        -3.245    -2.513\n",
      "OWL             1.0180      0.453      2.249      0.025         0.131     1.905\n",
      "Rapid           0.2479      0.128      1.941      0.052        -0.002     0.498\n",
      "==============================================================================\n",
      "Omnibus:                   113216.851   Durbin-Watson:                   1.836\n",
      "Prob(Omnibus):                  0.000   Jarque-Bera (JB):          1153068.747\n",
      "Skew:                           2.792   Prob(JB):                         0.00\n",
      "Kurtosis:                      13.749   Cond. No.                         63.8\n",
      "==============================================================================\n",
      "\n",
      "Warnings:\n",
      "[1] Standard Errors assume that the covariance matrix of the errors is correctly specified.\n"
     ]
    }
   ],
   "source": [
    "lm3 = smf.ols(formula = 'COMPUTE_DOORDWELL ~ ON + OFF + Floor+ three_doors + Express + OWL + Rapid', data = df_train).fit()\n",
    "print lm3.summary()"
   ]
  },
  {
   "cell_type": "markdown",
   "metadata": {},
   "source": [
    "# 2. Mixed linear regression model:  based on Stop ID"
   ]
  },
  {
   "cell_type": "code",
   "execution_count": 84,
   "metadata": {
    "collapsed": false
   },
   "outputs": [
    {
     "name": "stdout",
     "output_type": "stream",
     "text": [
      "                               GEE Regression Results                              \n",
      "===================================================================================\n",
      "Dep. Variable:           COMPUTE_DOORDWELL   No. Observations:               188623\n",
      "Model:                                 GEE   No. clusters:                     3013\n",
      "Method:                        Generalized   Min. cluster size:                   1\n",
      "                      Estimating Equations   Max. cluster size:                 590\n",
      "Family:                           Gaussian   Mean cluster size:                62.6\n",
      "Dependence structure:         Exchangeable   Num. iterations:                    11\n",
      "Date:                     Thu, 17 Mar 2016   Scale:                         215.515\n",
      "Covariance type:                    robust   Time:                         15:34:46\n",
      "===============================================================================\n",
      "                  coef    std err          z      P>|z|      [95.0% Conf. Int.]\n",
      "-------------------------------------------------------------------------------\n",
      "Intercept      11.2439      0.170     66.297      0.000        10.911    11.576\n",
      "ON              1.8869      0.043     44.150      0.000         1.803     1.971\n",
      "OFF             1.1779      0.033     35.246      0.000         1.112     1.243\n",
      "Floor          -3.0685      0.185    -16.553      0.000        -3.432    -2.705\n",
      "three_doors    -1.6815      0.209     -8.051      0.000        -2.091    -1.272\n",
      "Express        -1.7709      0.262     -6.748      0.000        -2.285    -1.256\n",
      "OWL            -4.0601      0.785     -5.172      0.000        -5.599    -2.522\n",
      "Rapid          -0.6164      0.248     -2.487      0.013        -1.102    -0.131\n",
      "==============================================================================\n",
      "Skew:                          2.8829   Kurtosis:                      10.8349\n",
      "Centered skew:                 2.6273   Centered kurtosis:             10.5786\n",
      "==============================================================================\n",
      "The correlation between two observations in the same cluster is 0.121\n"
     ]
    }
   ],
   "source": [
    "ind = sm.cov_struct.Exchangeable()\n",
    "fml = \"COMPUTE_DOORDWELL ~ ON + OFF + Floor + three_doors + Express + OWL + Rapid\"\n",
    "mod_gee = GEE.from_formula(fml, groups=df_train[\"QSTOP\"], cov_struct=ind, data=df_train)\n",
    "mod_gee = mod_gee.fit()\n",
    "print mod_gee.summary()\n",
    "print mod_gee.cov_struct.summary()"
   ]
  },
  {
   "cell_type": "code",
   "execution_count": 85,
   "metadata": {
    "collapsed": false
   },
   "outputs": [
    {
     "name": "stdout",
     "output_type": "stream",
     "text": [
      "             Mixed Linear Model Regression Results\n",
      "===============================================================\n",
      "Model:            MixedLM Dependent Variable: COMPUTE_DOORDWELL\n",
      "No. Observations: 188623  Method:             REML             \n",
      "No. Groups:       3013    Scale:              193.3223         \n",
      "Min. group size:  1       Likelihood:         -766371.2657     \n",
      "Max. group size:  590     Converged:          Yes              \n",
      "Mean group size:  62.6                                         \n",
      "----------------------------------------------------------------\n",
      "                Coef.   Std.Err.     z     P>|z|  [0.025  0.975]\n",
      "----------------------------------------------------------------\n",
      "Intercept       11.327     0.116   97.869  0.000  11.100  11.554\n",
      "ON               1.893     0.012  153.704  0.000   1.869   1.917\n",
      "OFF              1.185     0.013   94.608  0.000   1.160   1.209\n",
      "Floor           -3.168     0.119  -26.618  0.000  -3.401  -2.935\n",
      "three_doors     -1.672     0.123  -13.563  0.000  -1.914  -1.430\n",
      "Express         -1.731     0.199   -8.705  0.000  -2.121  -1.341\n",
      "OWL             -3.632     0.487   -7.454  0.000  -4.587  -2.677\n",
      "Rapid           -0.637     0.145   -4.399  0.000  -0.921  -0.353\n",
      "Intercept RE    18.681     0.049                                \n",
      "===============================================================\n",
      "\n"
     ]
    },
    {
     "name": "stderr",
     "output_type": "stream",
     "text": [
      "C:\\Anaconda\\lib\\site-packages\\statsmodels\\base\\model.py:466: ConvergenceWarning: Maximum Likelihood optimization failed to converge. Check mle_retvals\n",
      "  \"Check mle_retvals\", ConvergenceWarning)\n"
     ]
    }
   ],
   "source": [
    "mod_lme = MixedLM.from_formula(fml, groups=df_train[\"QSTOP\"], data=df_train)\n",
    "mod_lme = mod_lme.fit()\n",
    "print mod_lme.summary()"
   ]
  },
  {
   "cell_type": "markdown",
   "metadata": {},
   "source": [
    "# 3. Mixed linear regression model: Based on Vehicle ID"
   ]
  },
  {
   "cell_type": "code",
   "execution_count": 86,
   "metadata": {
    "collapsed": false
   },
   "outputs": [
    {
     "name": "stdout",
     "output_type": "stream",
     "text": [
      "                               GEE Regression Results                              \n",
      "===================================================================================\n",
      "Dep. Variable:           COMPUTE_DOORDWELL   No. Observations:               188623\n",
      "Model:                                 GEE   No. clusters:                      940\n",
      "Method:                        Generalized   Min. cluster size:                   3\n",
      "                      Estimating Equations   Max. cluster size:                 499\n",
      "Family:                           Gaussian   Mean cluster size:               200.7\n",
      "Dependence structure:         Exchangeable   Num. iterations:                     7\n",
      "Date:                     Thu, 17 Mar 2016   Scale:                         212.696\n",
      "Covariance type:                    robust   Time:                         15:37:49\n",
      "===============================================================================\n",
      "                  coef    std err          z      P>|z|      [95.0% Conf. Int.]\n",
      "-------------------------------------------------------------------------------\n",
      "Intercept      11.8753      0.152     78.189      0.000        11.578    12.173\n",
      "ON              2.0556      0.027     76.677      0.000         2.003     2.108\n",
      "OFF             1.3406      0.020     65.603      0.000         1.301     1.381\n",
      "Floor          -3.6353      0.190    -19.101      0.000        -4.008    -3.262\n",
      "three_doors    -1.6031      0.246     -6.528      0.000        -2.084    -1.122\n",
      "Express        -2.0051      0.302     -6.643      0.000        -2.597    -1.414\n",
      "OWL             1.0616      0.633      1.678      0.093        -0.178     2.302\n",
      "Rapid           0.4981      0.299      1.667      0.095        -0.087     1.084\n",
      "==============================================================================\n",
      "Skew:                          2.7903   Kurtosis:                      10.7446\n",
      "Centered skew:                 2.7691   Centered kurtosis:             10.7480\n",
      "==============================================================================\n",
      "The correlation between two observations in the same cluster is 0.021\n"
     ]
    }
   ],
   "source": [
    "ind = sm.cov_struct.Exchangeable()\n",
    "fml = \"COMPUTE_DOORDWELL ~ ON + OFF + Floor + three_doors + Express + OWL + Rapid\"\n",
    "mod_gee = GEE.from_formula(fml, groups=df_train[\"vehno_date\"], cov_struct=ind, data=df_train)\n",
    "mod_gee = mod_gee.fit()\n",
    "print mod_gee.summary()\n",
    "print mod_gee.cov_struct.summary()"
   ]
  },
  {
   "cell_type": "code",
   "execution_count": 87,
   "metadata": {
    "collapsed": false
   },
   "outputs": [
    {
     "name": "stdout",
     "output_type": "stream",
     "text": [
      "             Mixed Linear Model Regression Results\n",
      "===============================================================\n",
      "Model:            MixedLM Dependent Variable: COMPUTE_DOORDWELL\n",
      "No. Observations: 188623  Method:             REML             \n",
      "No. Groups:       940     Scale:              207.6254         \n",
      "Min. group size:  3       Likelihood:         -771680.2026     \n",
      "Max. group size:  499     Converged:          Yes              \n",
      "Mean group size:  200.7                                        \n",
      "----------------------------------------------------------------\n",
      "                Coef.   Std.Err.     z     P>|z|  [0.025  0.975]\n",
      "----------------------------------------------------------------\n",
      "Intercept       11.827     0.135   87.656  0.000  11.562  12.091\n",
      "ON               2.056     0.011  194.182  0.000   2.035   2.077\n",
      "OFF              1.341     0.011  124.276  0.000   1.320   1.362\n",
      "Floor           -3.600     0.206  -17.479  0.000  -4.004  -3.196\n",
      "three_doors     -1.522     0.229   -6.658  0.000  -1.970  -1.074\n",
      "Express         -1.915     0.246   -7.790  0.000  -2.397  -1.433\n",
      "OWL              1.015     0.514    1.972  0.049   0.006   2.023\n",
      "Rapid            0.483     0.212    2.284  0.022   0.069   0.898\n",
      "Intercept RE     5.650     0.024                                \n",
      "===============================================================\n",
      "\n"
     ]
    }
   ],
   "source": [
    "mod_lme = MixedLM.from_formula(fml, groups=df_train[\"vehno_date\"], data=df_train)\n",
    "mod_lme = mod_lme.fit()\n",
    "print mod_lme.summary()"
   ]
  },
  {
   "cell_type": "markdown",
   "metadata": {},
   "source": [
    "# Correlation table"
   ]
  },
  {
   "cell_type": "markdown",
   "metadata": {},
   "source": [
    "find the top correlations in a correlation matrix with Pandas"
   ]
  },
  {
   "cell_type": "code",
   "execution_count": 98,
   "metadata": {
    "collapsed": false
   },
   "outputs": [
    {
     "name": "stderr",
     "output_type": "stream",
     "text": [
      "C:\\Anaconda\\lib\\site-packages\\IPython\\kernel\\__main__.py:3: FutureWarning: order is deprecated, use sort_values(...)\n",
      "  app.launch_new_instance()\n"
     ]
    }
   ],
   "source": [
    "c = X_train.corr().abs()\n",
    "s = c.unstack()\n",
    "so = s.order(kind=\"quicksort\")"
   ]
  },
  {
   "cell_type": "code",
   "execution_count": 99,
   "metadata": {
    "collapsed": false
   },
   "outputs": [
    {
     "name": "stdout",
     "output_type": "stream",
     "text": [
      "361\n",
      "28\n"
     ]
    }
   ],
   "source": [
    "print len(so)\n",
    "soo = so.dropna()\n",
    "soo = soo[soo >= 0.500]\n",
    "soo = soo[soo != 1.0]\n",
    "print len(soo)"
   ]
  },
  {
   "cell_type": "code",
   "execution_count": 100,
   "metadata": {
    "collapsed": false
   },
   "outputs": [
    {
     "data": {
      "text/plain": [
       "on_floor        Floor            0.504\n",
       "Floor           on_floor         0.504\n",
       "                off_floor        0.506\n",
       "off_floor       Floor            0.506\n",
       "off_express     Express          0.517\n",
       "Express         off_express      0.517\n",
       "three_doors     on_threedoors    0.538\n",
       "on_threedoors   three_doors      0.538\n",
       "abs_pasg        ON               0.544\n",
       "ON              abs_pasg         0.544\n",
       "abs_pasg        OFF              0.553\n",
       "OFF             abs_pasg         0.553\n",
       "off_threedoors  three_doors      0.557\n",
       "three_doors     off_threedoors   0.557\n",
       "on_express      Express          0.560\n",
       "Express         on_express       0.560\n",
       "off_threedoors  OFF              0.570\n",
       "OFF             off_threedoors   0.570\n",
       "on_threedoors   ON               0.578\n",
       "ON              on_threedoors    0.578\n",
       "OWL             off_owl          0.590\n",
       "off_owl         OWL              0.590\n",
       "on_rapid        Rapid            0.616\n",
       "Rapid           on_rapid         0.616\n",
       "off_rapid       Rapid            0.633\n",
       "Rapid           off_rapid        0.633\n",
       "on_owl          OWL              0.636\n",
       "OWL             on_owl           0.636\n",
       "dtype: float64"
      ]
     },
     "execution_count": 100,
     "metadata": {},
     "output_type": "execute_result"
    }
   ],
   "source": [
    "soo"
   ]
  },
  {
   "cell_type": "code",
   "execution_count": 101,
   "metadata": {
    "collapsed": false
   },
   "outputs": [
    {
     "name": "stdout",
     "output_type": "stream",
     "text": [
      "end\n"
     ]
    }
   ],
   "source": [
    "print 'end'"
   ]
  }
 ],
 "metadata": {
  "kernelspec": {
   "display_name": "Python 2",
   "language": "python",
   "name": "python2"
  },
  "language_info": {
   "codemirror_mode": {
    "name": "ipython",
    "version": 2
   },
   "file_extension": ".py",
   "mimetype": "text/x-python",
   "name": "python",
   "nbconvert_exporter": "python",
   "pygments_lexer": "ipython2",
   "version": "2.7.11"
  }
 },
 "nbformat": 4,
 "nbformat_minor": 0
}
