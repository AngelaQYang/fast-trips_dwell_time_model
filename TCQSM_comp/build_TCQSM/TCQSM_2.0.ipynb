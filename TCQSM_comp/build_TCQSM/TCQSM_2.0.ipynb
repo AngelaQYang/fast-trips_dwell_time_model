{
 "cells": [
  {
   "cell_type": "code",
   "execution_count": 40,
   "metadata": {
    "collapsed": true
   },
   "outputs": [],
   "source": [
    "import pandas as pd \n",
    "import numpy as np \n",
    "from __future__ import division"
   ]
  },
  {
   "cell_type": "markdown",
   "metadata": {},
   "source": [
    "# Inputs vairables"
   ]
  },
  {
   "cell_type": "markdown",
   "metadata": {},
   "source": [
    "Below is an example of a two door (four channels total), low floor bus, with smart card fare payment system. \n",
    "\n",
    "This bus has five boardings, two alightings, no standees while departure from a bus stop. \n",
    "\n",
    "We assume this bus lost three seconds while openning and closing bus doors. "
   ]
  },
  {
   "cell_type": "code",
   "execution_count": 2,
   "metadata": {
    "collapsed": false
   },
   "outputs": [],
   "source": [
    "fare_payment_method = 'Smart card'\n",
    "percent_using_farebox = 0.45 #45% is our default, feel free to change it"
   ]
  },
  {
   "cell_type": "code",
   "execution_count": 42,
   "metadata": {
    "collapsed": false
   },
   "outputs": [],
   "source": [
    "num_doors = 2\n",
    "boarding_doors = 2"
   ]
  },
  {
   "cell_type": "code",
   "execution_count": 43,
   "metadata": {
    "collapsed": true
   },
   "outputs": [],
   "source": [
    "num_channels = 4\n",
    "#channel = 'front_door'\n",
    "channel_boards = 1 # boarding channel number \n",
    "channel_exits = 3 # alighting channel number"
   ]
  },
  {
   "cell_type": "code",
   "execution_count": 49,
   "metadata": {
    "collapsed": true
   },
   "outputs": [],
   "source": [
    "tot_boards = 5\n",
    "tot_exits = 2\n",
    "standees = 0"
   ]
  },
  {
   "cell_type": "code",
   "execution_count": 50,
   "metadata": {
    "collapsed": true
   },
   "outputs": [],
   "source": [
    "boarding_height = 'stairs'"
   ]
  },
  {
   "cell_type": "code",
   "execution_count": 52,
   "metadata": {
    "collapsed": false
   },
   "outputs": [],
   "source": [
    "vehicle = {}\n",
    "vehicle[\"door open close time\"] = 3"
   ]
  },
  {
   "cell_type": "markdown",
   "metadata": {},
   "source": [
    "# Boarding / alingting via channels"
   ]
  },
  {
   "cell_type": "code",
   "execution_count": 53,
   "metadata": {
    "collapsed": false
   },
   "outputs": [],
   "source": [
    "def calculate_boards_by_channel(num_channels, boarding_doors, percent_using_farebox):\n",
    "    \n",
    "    pct_boards_by_channel = { 1: 0.00, 2: 0.00, 3: 0.00, 4: 0.00, 5: 0.00, 6: 0.00 } \n",
    "\n",
    "    ##-- Situation A: single-channel boarding w/ all fares paid or inspected upon boarding\n",
    "    if num_channels == 1:\n",
    "        pct_boards_by_channel[1] = 1.00\n",
    "        return pct_boards_by_channel\n",
    "    \n",
    "    ##-- Situation B: If need to have fare inspected or paid, assume double-channel boarding. \n",
    "    ##  Channel 1 is for people who need to interact with farebox.  \n",
    "    ##  Channel 2 is for those who just need a visual inspection.\n",
    "\n",
    "    if fare_payment_method != 'none':\n",
    "        pct_boards_by_channel[1] = percent_using_farebox\n",
    "        pct_boards_by_channel[2] = 1.00 - percent_using_farebox\n",
    "        return pct_boards_by_channel\n",
    "  \n",
    "    ##-- Situation C: All door boarding, free or pre-paid fares\n",
    "\n",
    "    # Based on Exhibit 6-58 and TCRP 299, a function of available door channels\n",
    "    # NOTE: Derived from Exhibit 4-3 in TCQSM, 2nd Edition (5).\n",
    "    # It can be assumed that boarding passengers are evenly divided among the remaining door channels. \n",
    "\n",
    "    PCT_BOARDS_USING_BUSIEST_CHANNEL = { \n",
    "        1: 1.00, \n",
    "        2: 0.6, \n",
    "        3: 0.45, \n",
    "        4: 0.35, \n",
    "        5: 0.3, \n",
    "        6: 0.25,\n",
    "        }\n",
    "    if boarding_doors == 'front':\n",
    "        pct_boards_by_channel[1] = percent_using_farebox\n",
    "        pct_boards_by_channel[2] = 1 - pct_boards_by_channel[1]\n",
    "    else:\n",
    "        pct_boards_by_channel[1] = PCT_BOARDS_USING_BUSIEST_CHANNEL[num_channels]\n",
    "        # spread remaining percentage evenly out among remaining channels\n",
    "        for ch in range(2, num_channels+1):\n",
    "            pct_boards_by_channel[ch] = (1 - pct_boards_by_channel[1])/(num_channels-1)\n",
    "            \n",
    "    return pct_boards_by_channel"
   ]
  },
  {
   "cell_type": "code",
   "execution_count": 54,
   "metadata": {
    "collapsed": true
   },
   "outputs": [],
   "source": [
    "def calculate_exits_by_channel(num_channels, boarding_doors, percent_using_farebox):\n",
    "    pct_exits_by_channel = { 1: 0.00, 2: 0.00, 3: 0.00, 4: 0.00, 5: 0.00, 6: 0.00 } \n",
    "\n",
    "    ##-- Situation A: single-channel \n",
    "    if num_channels == 1:\n",
    "        pct_exits_by_channel[1] = 1.00\n",
    "        return pct_exits_by_channel\n",
    "    \n",
    "    ##-- Situation B: single door\n",
    "    if num_doors == 1:\n",
    "        pct_exits_by_channel[2] = 1.00\n",
    "        return pct_exits_by_channel\n",
    "        \n",
    "    ##-- Situation C: two doors with all boardings thru front, assume 25% use front door and 75% rear door, split between channels\n",
    "    if num_doors == 2 and boarding_doors == \"front\":\n",
    "        pct_exits_by_channel[2] = 0.25\n",
    "        pct_exits_by_channel[3] = 0.75 / (num_channels - 2)\n",
    "        if num_channels >= 4: pct_exits_by_channel[4] = 0.75 / (num_channels - 2)\n",
    "        return pct_exits_by_channel\n",
    "    \n",
    "    ##-- Situation D: two or more doors or all-door boarding\n",
    "    \n",
    "    PCT_EXITS_USING_BUSIEST_CHANNEL = { \n",
    "        2: 0.75, \n",
    "        3: 0.45, \n",
    "        4: 0.35, \n",
    "        5: 0.30, \n",
    "        6: 0.25,\n",
    "        } \n",
    "        \n",
    "    pct_exits_by_channel[3] = PCT_EXITS_USING_BUSIEST_CHANNEL[num_channels]\n",
    "    pct_exits_by_channel[2] = ( 1.0 - PCT_EXITS_USING_BUSIEST_CHANNEL[num_channels] ) / (num_channels - 2)\n",
    "    for ch in [4, 5, 6]:\n",
    "        if num_channels >= ch: \n",
    "            pct_exits_by_channel[ch] = ( 1.0 - PCT_EXITS_USING_BUSIEST_CHANNEL[num_channels] ) / (num_channels - 2)\n",
    "    \n",
    "    return pct_exits_by_channel"
   ]
  },
  {
   "cell_type": "markdown",
   "metadata": {},
   "source": [
    "# Boarding / alightings service time via channels"
   ]
  },
  {
   "cell_type": "code",
   "execution_count": 55,
   "metadata": {
    "collapsed": true
   },
   "outputs": [],
   "source": [
    "def calculate_boarding_service_time(fare_payment_method, standees, boarding_height, channel_boards, channel_exits):\n",
    "\n",
    "    ## SOURCE: TCQSM 3rd edition Exhibit 6-4\n",
    "    # Seconds per passenger\n",
    "    AVG_BOARD_TIME_BY_FARE_METHOD = {\n",
    "        'None'                : 1.75, \n",
    "        'Visual inspection'   : 2.00, \n",
    "        'Single ticket/token' : 3.00, \n",
    "        'Exact change'        : 4.50,\n",
    "        'Ticket validator'    : 4.00, \n",
    "        'Magstripe card'      : 5.00, \n",
    "        'Smart card'          : 2.75,\n",
    "        }\n",
    "    \n",
    "    avg_board_time = AVG_BOARD_TIME_BY_FARE_METHOD[fare_payment_method]\n",
    "    \n",
    "    ## NOTE: Add 0.5 s/p to boarding times when standees are present. \n",
    "    ##       Add 0.5 s/p for non-level boarding (1.0 s/p for motor coaches).     \n",
    "    if standees:                            avg_board_time += 0.5\n",
    "    if boarding_height   == \"stairs\":       avg_board_time += 0.5\n",
    "    elif boarding_height == \"steep stairs\": avg_board_time += 1.0\n",
    "    \n",
    "    ## When more than 25% of the passenger flow through a single door channel is in the \n",
    "    ## opposite direction of the main flow of passengers, increase both boarding and \n",
    "    ## alighting service times by 20% to account for passenger congestion at the door\n",
    "    pct_boards = (channel_boards*1.0)/(1.0*(channel_boards + channel_exits))\n",
    "    pct_exits  = 1-pct_boards\n",
    "    if min(pct_boards, pct_exits) > 0.25:\n",
    "        avg_board_time = avg_board_time * 1.20\n",
    "    \n",
    "    channel_board_time = channel_boards * avg_board_time\n",
    "    return channel_board_time\n"
   ]
  },
  {
   "cell_type": "code",
   "execution_count": 56,
   "metadata": {
    "collapsed": true
   },
   "outputs": [],
   "source": [
    "def calculate_exit_service_time(channel, channel_boards, channel_exits):\n",
    "\n",
    "    ## SOURCE: TCQSM 3rd edition Exhibit 6-4\n",
    "    AVG_EXIT_TIME_BY_DOOR = {\n",
    "    'front_door'    : 2.50,\n",
    "    'rear_door'     : 1.75,\n",
    "    }\n",
    "    if channel >= 2: \n",
    "        channel = 'rear_door'\n",
    "    else: \n",
    "        channel = 'front_door'\n",
    "    \n",
    "    avg_exit_time = AVG_EXIT_TIME_BY_DOOR[channel]\n",
    "    \n",
    "    ## When more than 25% of the passenger flow through a single door channel is in the \n",
    "    ## opposite direction of the main flow of passengers, increase both boarding and \n",
    "    ## alighting service times by 20% to account for passenger congestion at the door\n",
    "    pct_boards = (1.0*channel_boards)/(1.0*(channel_boards + channel_exits))\n",
    "    pct_exits  = 1 - pct_boards\n",
    "    if min(pct_boards, pct_exits) > 0.25:\n",
    "        avg_exit_time = avg_exit_time * 1.20\n",
    "        \n",
    "    channel_exit_time = channel_exits * avg_exit_time\n",
    "    return channel_exit_time"
   ]
  },
  {
   "cell_type": "markdown",
   "metadata": {},
   "source": [
    "# Maximum flow time via channels"
   ]
  },
  {
   "cell_type": "code",
   "execution_count": 69,
   "metadata": {
    "collapsed": true
   },
   "outputs": [],
   "source": [
    "def get_channel_flow_time(channel, tot_boards, tot_exits, pct_boards_by_channel, pct_exits_by_channel, standees, boarding_height, fare_payment_method):\n",
    "    print '########channel##########: ', channel\n",
    "    \n",
    "    #calc channel boards, exits\n",
    "    channel_boards = tot_boards*pct_boards_by_channel[channel]\n",
    "    print 'channel boarding:', channel_boards\n",
    "    \n",
    "    print tot_exits\n",
    "    channel_exits  = tot_exits*pct_exits_by_channel[channel]\n",
    "    print 'channel alighting:', channel_exits\n",
    "    \n",
    "    channel_board_time = calculate_boarding_service_time(fare_payment_method, standees, boarding_height, channel_boards, channel_exits)\n",
    "    channel_exit_time  = calculate_exit_service_time(channel, channel_boards, channel_exits)\n",
    "    print 'channel boarding time:', channel_board_time\n",
    "    print 'channel exit time:', channel_exit_time\n",
    "    return channel_board_time + channel_exit_time #note that it doesn't make sense to me that this is necessarily additive\n"
   ]
  },
  {
   "cell_type": "markdown",
   "metadata": {},
   "source": [
    "\n",
    "Variables from GTFS\n",
    "- \"percent_using_farebox\"\n",
    "- \"fare_payment_method\"\n",
    "- \"boarding_height\" [ level, stairs, steep stairs ]\n",
    "- \"door open close time\" (2-5 sec) [2,3,4,5]\n",
    "- \"boarding doors\" [front, all]\n",
    "- \"num_channels\"\n",
    "\n",
    "Variables from FT\n",
    "- \"standees present\" [True, False]\n",
    "- \"tot_boards\"\n",
    "- \"tot_exits\"\n"
   ]
  },
  {
   "cell_type": "code",
   "execution_count": 70,
   "metadata": {
    "collapsed": false
   },
   "outputs": [],
   "source": [
    "pct_boards_by_channel = calculate_boards_by_channel(num_channels, boarding_doors, percent_using_farebox)"
   ]
  },
  {
   "cell_type": "code",
   "execution_count": 71,
   "metadata": {
    "collapsed": false
   },
   "outputs": [],
   "source": [
    "pct_exits_by_channel  = calculate_exits_by_channel(num_channels, boarding_doors, percent_using_farebox)"
   ]
  },
  {
   "cell_type": "code",
   "execution_count": 72,
   "metadata": {
    "collapsed": false
   },
   "outputs": [
    {
     "name": "stdout",
     "output_type": "stream",
     "text": [
      "########channel##########:  1\n",
      "channel boarding: 2.25\n",
      "2\n",
      "channel alighting: 0.0\n",
      "channel boarding time: 7.3125\n",
      "channel exit time: 0.0\n",
      "########channel##########:  2\n",
      "channel boarding: 2.75\n",
      "2\n",
      "channel alighting: 0.65\n",
      "channel boarding time: 8.9375\n",
      "channel exit time: 1.1375\n",
      "########channel##########:  3\n",
      "channel boarding: 0.0\n",
      "2\n",
      "channel alighting: 0.7\n",
      "channel boarding time: 0.0\n",
      "channel exit time: 1.225\n",
      "########channel##########:  4\n",
      "channel boarding: 0.0\n",
      "2\n",
      "channel alighting: 0.65\n",
      "channel boarding time: 0.0\n",
      "channel exit time: 1.1375\n"
     ]
    }
   ],
   "source": [
    "channel_flow_times = [get_channel_flow_time(channel, \n",
    "                                            tot_boards, \n",
    "                                            tot_exits, \n",
    "                                            pct_boards_by_channel, \n",
    "                                            pct_exits_by_channel, \n",
    "                                            standees, boarding_height, \n",
    "                                            fare_payment_method) \n",
    "                      for channel in range(1, num_channels+1)] "
   ]
  },
  {
   "cell_type": "code",
   "execution_count": 73,
   "metadata": {
    "collapsed": false
   },
   "outputs": [
    {
     "data": {
      "text/plain": [
       "[7.3125, 10.075, 1.2249999999999999, 1.1375]"
      ]
     },
     "execution_count": 73,
     "metadata": {},
     "output_type": "execute_result"
    }
   ],
   "source": [
    "channel_flow_times"
   ]
  },
  {
   "cell_type": "code",
   "execution_count": 62,
   "metadata": {
    "collapsed": false
   },
   "outputs": [],
   "source": [
    "#channel_flow_times = [get_channel_flow_time(channel, tot_boards, tot_exits, pct_boards_by_channel, pct_exits_by_channel, standees, boarding_height, fare_payment_method) for ch in num_channels]"
   ]
  },
  {
   "cell_type": "code",
   "execution_count": 63,
   "metadata": {
    "collapsed": false
   },
   "outputs": [],
   "source": [
    "pax_flow_time = max(channel_flow_times)"
   ]
  },
  {
   "cell_type": "markdown",
   "metadata": {},
   "source": [
    "# Boarding lost time"
   ]
  },
  {
   "cell_type": "code",
   "execution_count": 64,
   "metadata": {
    "collapsed": true
   },
   "outputs": [],
   "source": [
    "# Used to calculate efficiency loss from having multiple boarding areas.  Range is from 0 - 8 seconds for 1 - 5 boarding areas.\n",
    "# For FT, assume single boarding area, which results in zero lost time.\n",
    "boarding_lost_time = 0"
   ]
  },
  {
   "cell_type": "code",
   "execution_count": 65,
   "metadata": {
    "collapsed": false
   },
   "outputs": [],
   "source": [
    "# get value from vehicle_ft, else use Fast-Trips default of 2.5 [just threw that out there ]\n",
    "# validate to be between 2-5 seconds\n",
    "\n",
    "door_open_close_time = vehicle[\"door open close time\"]"
   ]
  },
  {
   "cell_type": "code",
   "execution_count": 66,
   "metadata": {
    "collapsed": true
   },
   "outputs": [],
   "source": [
    "total_dwell = boarding_lost_time + door_open_close_time + pax_flow_time"
   ]
  },
  {
   "cell_type": "code",
   "execution_count": 67,
   "metadata": {
    "collapsed": false
   },
   "outputs": [
    {
     "name": "stdout",
     "output_type": "stream",
     "text": [
      "13.075\n"
     ]
    }
   ],
   "source": [
    "print total_dwell"
   ]
  },
  {
   "cell_type": "code",
   "execution_count": 68,
   "metadata": {
    "collapsed": false
   },
   "outputs": [
    {
     "name": "stdout",
     "output_type": "stream",
     "text": [
      "done with one bus-routes & stop!\n"
     ]
    }
   ],
   "source": [
    "print 'done with one bus-routes & stop!'"
   ]
  }
 ],
 "metadata": {
  "kernelspec": {
   "display_name": "Python 2",
   "language": "python",
   "name": "python2"
  },
  "language_info": {
   "codemirror_mode": {
    "name": "ipython",
    "version": 2
   },
   "file_extension": ".py",
   "mimetype": "text/x-python",
   "name": "python",
   "nbconvert_exporter": "python",
   "pygments_lexer": "ipython2",
   "version": "2.7.11"
  }
 },
 "nbformat": 4,
 "nbformat_minor": 2
}
